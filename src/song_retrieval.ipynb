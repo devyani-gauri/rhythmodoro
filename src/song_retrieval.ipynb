{
 "cells": [
  {
   "cell_type": "code",
   "execution_count": 12,
   "id": "f84a1e3f",
   "metadata": {},
   "outputs": [],
   "source": [
    "from pymilvus import connections, Collection\n",
    "\n",
    "connections.connect(alias=\"default\", host=\"localhost\", port=\"19530\")"
   ]
  },
  {
   "cell_type": "code",
   "execution_count": 13,
   "id": "6e710a0d",
   "metadata": {},
   "outputs": [],
   "source": [
    "collection = Collection(\"embedded_music_data\")"
   ]
  },
  {
   "cell_type": "code",
   "execution_count": null,
   "id": "3fdaf300",
   "metadata": {},
   "outputs": [],
   "source": [
    "collection.load()"
   ]
  },
  {
   "cell_type": "code",
   "execution_count": null,
   "id": "bec10d3b",
   "metadata": {},
   "outputs": [
    {
     "name": "stdout",
     "output_type": "stream",
     "text": [
      "Score: 456.99090576171875\n",
      "Name: Shape of You\n",
      "Artists: ['Ed Sheeran']\n",
      "---\n",
      "Score: 456.99090576171875\n",
      "Name: Shape of You\n",
      "Artists: ['Ed Sheeran']\n",
      "---\n",
      "Score: 413.04461669921875\n",
      "Name: One\n",
      "Artists: ['Ed Sheeran']\n",
      "---\n",
      "Score: 410.8623046875\n",
      "Name: This\n",
      "Artists: ['Ed Sheeran']\n",
      "---\n",
      "Score: 410.0792541503906\n",
      "Name: Galway Girl\n",
      "Artists: ['Ed Sheeran']\n",
      "---\n"
     ]
    }
   ],
   "source": [
    "# Get the embedding for a song by name from the collection\n",
    "song_name = \"Shape of You\"  # Replace with any song name in your DB\n",
    "\n",
    "# Query for the song's embedding\n",
    "results = collection.query(expr=f'name == \"{song_name}\"', output_fields=[\"embedding\"])\n",
    "if not results:\n",
    "    raise ValueError(f\"Song '{song_name}' not found in the collection.\")\n",
    "\n",
    "query_embedding = results[0][\"embedding\"]\n",
    "\n",
    "# Search for 5 most similar songs using the embedding\n",
    "search_results = collection.search(\n",
    "    data=[query_embedding],\n",
    "    anns_field=\"embedding\",\n",
    "    param={\"metric_type\": \"IP\", \"params\": {\"ef\": 64}},\n",
    "    limit=5,\n",
    "    output_fields=[\"id\", \"name\", \"artists\", \"embedding_json\"]\n",
    ")\n",
    "\n",
    "# Print results\n",
    "for hit in search_results[0]:\n",
    "    print(f\"Score: {hit.score}\")\n",
    "    print(f\"Name: {hit.entity.get('name')}\")\n",
    "    print(f\"Artists: {hit.entity.get('artists')}\")\n",
    "    print(\"---\")"
   ]
  },
  {
   "cell_type": "code",
   "execution_count": null,
   "id": "15d58107",
   "metadata": {},
   "outputs": [],
   "source": []
  }
 ],
 "metadata": {
  "kernelspec": {
   "display_name": "rhythmodoro_env",
   "language": "python",
   "name": "python3"
  },
  "language_info": {
   "codemirror_mode": {
    "name": "ipython",
    "version": 3
   },
   "file_extension": ".py",
   "mimetype": "text/x-python",
   "name": "python",
   "nbconvert_exporter": "python",
   "pygments_lexer": "ipython3",
   "version": "3.13.3"
  }
 },
 "nbformat": 4,
 "nbformat_minor": 5
}
