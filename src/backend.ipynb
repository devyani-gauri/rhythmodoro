{
 "cells": [
  {
   "cell_type": "code",
   "execution_count": 1,
   "id": "89137d2b",
   "metadata": {},
   "outputs": [
    {
     "name": "stdout",
     "output_type": "stream",
     "text": [
      "Logged in as: devyanigauri\n"
     ]
    }
   ],
   "source": [
    "# import spotipy\n",
    "# from spotipy.oauth2 import SpotifyOAuth\n",
    "from dotenv import load_dotenv\n",
    "import os\n",
    "from pymilvus import connections\n",
    "\n",
    "load_dotenv()\n",
    "\n",
    "# # Load environment variables\n",
    "# CLIENT_ID = os.getenv(\"SPOTIPY_CLIENT_ID\")\n",
    "# CLIENT_SECRET = os.getenv(\"SPOTIPY_CLIENT_SECRET\")\n",
    "# REDIRECT_URI = os.getenv(\"SPOTIPY_REDIRECT_URI\")\n",
    "\n",
    "# Connect to Milvus\n",
    "connections.connect(alias=\"default\", host=\"localhost\", port=\"19530\")\n",
    "print(\"Connected to Milvus!\")\n",
    "\n",
    "# # Define the required scopes\n",
    "# SCOPE = 'playlist-modify-public playlist-modify-private user-read-playback-state user-modify-playback-state'\n",
    "\n",
    "# sp = spotipy.Spotify(auth_manager=SpotifyOAuth(\n",
    "#     client_id=CLIENT_ID,\n",
    "#     client_secret=CLIENT_SECRET,\n",
    "#     redirect_uri=REDIRECT_URI,\n",
    "#     scope=SCOPE\n",
    "# ))\n",
    "\n",
    "# # Example: Get current user info\n",
    "# your_profile = sp.current_user()\n",
    "# print(f\"Logged in as: {your_profile['display_name']}\")\n"
   ]
  },
  {
   "cell_type": "code",
   "execution_count": 2,
   "id": "c4fd197f",
   "metadata": {},
   "outputs": [
    {
     "name": "stdout",
     "output_type": "stream",
     "text": [
      "Connected to Milvus!\n"
     ]
    }
   ],
   "source": [
    "# # search spoitify API for a track\n",
    "# results = sp.search(q=\"Shake it off\", type=\"track\", limit=1)\n",
    "# # retrieve information about the track\n",
    "# track = results[\"tracks\"][\"items\"][0] \n",
    "# artist_id = track['artists'][0]['id']\n",
    "# artist_info = sp.artist(artist_id)\n",
    "# genres = artist_info['genres']\n",
    "# audio_features = sp.audio_features([track['id']])[0]"
   ]
  },
  {
   "cell_type": "code",
   "execution_count": 14,
   "id": "0adc5989",
   "metadata": {},
   "outputs": [
    {
     "name": "stdout",
     "output_type": "stream",
     "text": [
      "Dataset found locally at /Users/devyanigauri/.cache/kagglehub/datasets/yamaerenay/spotify-dataset-1921-2020-160k-tracks/versions/1/data.csv.\n",
      "Loaded dataset with 170653 rows.\n",
      "Loaded dataset with 170653 rows.\n"
     ]
    }
   ],
   "source": [
    "import os\n",
    "import os\n",
    "import pandas as pd\n",
    "import kagglehub\n",
    "\n",
    "DATASET_PATH = '/Users/devyanigauri/.cache/kagglehub/datasets/yamaerenay/spotify-dataset-1921-2020-160k-tracks/versions/1/data.csv'\n",
    "\n",
    "# Check if the dataset exists locally, load if it does, otherwise download\n",
    "\n",
    "if not os.path.exists(DATASET_PATH):\n",
    "    print(\"Dataset not found locally. Downloading from KaggleHub...\")\n",
    "    kagglehub.dataset_download('yamaerenay/spotify-dataset-1921-2020-160k-tracks')\n",
    "else:\n",
    "    print(f\"Dataset found locally at {DATASET_PATH}.\")\n",
    "\n",
    "df = pd.read_csv(DATASET_PATH, on_bad_lines='skip')\n",
    "print(f\"Loaded dataset with {len(df)} rows.\")"
   ]
  },
  {
   "cell_type": "code",
   "execution_count": 16,
   "id": "3760e4ee",
   "metadata": {},
   "outputs": [
    {
     "data": {
      "text/plain": [
       "Index(['valence', 'year', 'acousticness', 'artists', 'danceability',\n",
       "       'duration_ms', 'energy', 'explicit', 'id', 'instrumentalness', 'key',\n",
       "       'liveness', 'loudness', 'mode', 'name', 'popularity', 'release_date',\n",
       "       'speechiness', 'tempo'],\n",
       "      dtype='object')"
      ]
     },
     "execution_count": 16,
     "metadata": {},
     "output_type": "execute_result"
    }
   ],
   "source": [
    "df.columns"
   ]
  },
  {
   "cell_type": "code",
   "execution_count": null,
   "id": "e98e7f6d",
   "metadata": {},
   "outputs": [],
   "source": [
    "# Splitting columns into metadata and embedding\n",
    "metadata_columns = [\n",
    "    'id', 'name', 'artists', 'year', 'release_date', 'explicit',\n",
    "    'popularity', 'duration_ms', 'key', 'mode'\n",
    "]\n",
    "\n",
    "embedding_columns = [\n",
    "    'valence', 'acousticness', 'danceability', 'energy',\n",
    "    'instrumentalness', 'liveness', 'loudness', 'speechiness', 'tempo'\n",
    "]\n"
   ]
  },
  {
   "cell_type": "code",
   "execution_count": 19,
   "id": "403eb408",
   "metadata": {},
   "outputs": [
    {
     "ename": "ModuleNotFoundError",
     "evalue": "No module named 'nomic'",
     "output_type": "error",
     "traceback": [
      "\u001b[31m---------------------------------------------------------------------------\u001b[39m",
      "\u001b[31mModuleNotFoundError\u001b[39m                       Traceback (most recent call last)",
      "\u001b[36mCell\u001b[39m\u001b[36m \u001b[39m\u001b[32mIn[19]\u001b[39m\u001b[32m, line 1\u001b[39m\n\u001b[32m----> \u001b[39m\u001b[32m1\u001b[39m \u001b[38;5;28;01mfrom\u001b[39;00m\u001b[38;5;250m \u001b[39m\u001b[34;01mnomic\u001b[39;00m\u001b[38;5;250m \u001b[39m\u001b[38;5;28;01mimport\u001b[39;00m embed\n\u001b[32m      3\u001b[39m output = embed.text(\n\u001b[32m      4\u001b[39m     texts=[\u001b[33m'\u001b[39m\u001b[33mNomic Embedding API\u001b[39m\u001b[33m'\u001b[39m, \u001b[33m'\u001b[39m\u001b[33m#keepAIOpen\u001b[39m\u001b[33m'\u001b[39m],\n\u001b[32m      5\u001b[39m     model=\u001b[33m'\u001b[39m\u001b[33mnomic-embed-text-v1.5\u001b[39m\u001b[33m'\u001b[39m,\n\u001b[32m      6\u001b[39m     task_type=\u001b[33m'\u001b[39m\u001b[33msearch_document\u001b[39m\u001b[33m'\u001b[39m,\n\u001b[32m      7\u001b[39m     dimensionality=\u001b[32m256\u001b[39m,\n\u001b[32m      8\u001b[39m )\n\u001b[32m     10\u001b[39m \u001b[38;5;28mprint\u001b[39m(output)\n",
      "\u001b[31mModuleNotFoundError\u001b[39m: No module named 'nomic'"
     ]
    }
   ],
   "source": [
    "from nomic import embed\n",
    "\n",
    "output = embed.text(\n",
    "    texts=['Nomic Embedding API', '#keepAIOpen'],\n",
    "    model='nomic-embed-text-v1.5',\n",
    "    task_type='search_document',\n",
    "    dimensionality=256,\n",
    ")\n",
    "\n",
    "print(output)"
   ]
  },
  {
   "cell_type": "code",
   "execution_count": null,
   "id": "38286805",
   "metadata": {},
   "outputs": [],
   "source": []
  }
 ],
 "metadata": {
  "kernelspec": {
   "display_name": "rhythmodoro_env",
   "language": "python",
   "name": "python3"
  },
  "language_info": {
   "codemirror_mode": {
    "name": "ipython",
    "version": 3
   },
   "file_extension": ".py",
   "mimetype": "text/x-python",
   "name": "python",
   "nbconvert_exporter": "python",
   "pygments_lexer": "ipython3",
   "version": "3.13.3"
  }
 },
 "nbformat": 4,
 "nbformat_minor": 5
}
