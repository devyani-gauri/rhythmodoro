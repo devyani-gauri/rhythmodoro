{
 "cells": [
  {
   "cell_type": "code",
   "execution_count": 20,
   "id": "89137d2b",
   "metadata": {},
   "outputs": [
    {
     "name": "stdout",
     "output_type": "stream",
     "text": [
      "Connected to Milvus!\n"
     ]
    }
   ],
   "source": [
    "\n",
    "from dotenv import load_dotenv\n",
    "import os\n",
    "import os\n",
    "import pandas as pd\n",
    "import kagglehub\n",
    "import numpy as np\n",
    "from pymilvus import connections, FieldSchema, CollectionSchema, DataType, Collection\n",
    "\n",
    "load_dotenv()\n",
    "\n",
    "# Connect to Milvus\n",
    "connections.connect(alias=\"default\", host=\"localhost\", port=\"19530\")\n",
    "print(\"Connected to Milvus!\")\n",
    "\n",
    "DATASET_PATH = '/Users/devyanigauri/.cache/kagglehub/datasets/yamaerenay/spotify-dataset-1921-2020-160k-tracks/versions/1/data.csv'\n",
    "\n",
    "\n",
    "\n"
   ]
  },
  {
   "cell_type": "code",
   "execution_count": null,
   "id": "0adc5989",
   "metadata": {},
   "outputs": [
    {
     "name": "stdout",
     "output_type": "stream",
     "text": [
      "Dataset found locally at /Users/devyanigauri/.cache/kagglehub/datasets/yamaerenay/spotify-dataset-1921-2020-160k-tracks/versions/1/data.csv.\n"
     ]
    },
    {
     "name": "stderr",
     "output_type": "stream",
     "text": [
      "/Users/devyanigauri/Documents/GitHub/rhythmodoro/rhythmodoro_env/lib/python3.13/site-packages/tqdm/auto.py:21: TqdmWarning: IProgress not found. Please update jupyter and ipywidgets. See https://ipywidgets.readthedocs.io/en/stable/user_install.html\n",
      "  from .autonotebook import tqdm as notebook_tqdm\n"
     ]
    },
    {
     "name": "stdout",
     "output_type": "stream",
     "text": [
      "Loaded dataset with 170653 rows.\n"
     ]
    }
   ],
   "source": [
    "# Check if the dataset exists locally, load if it does, otherwise download\n",
    "\n",
    "if not os.path.exists(DATASET_PATH):\n",
    "    print(\"Dataset not found locally. Downloading from KaggleHub...\")\n",
    "    kagglehub.dataset_download('yamaerenay/spotify-dataset-1921-2020-160k-tracks')\n",
    "else:\n",
    "    print(f\"Dataset found locally at {DATASET_PATH}.\")\n",
    "\n",
    "df = pd.read_csv(DATASET_PATH, on_bad_lines='skip')\n",
    "print(f\"Loaded dataset with {len(df)} rows.\")"
   ]
  },
  {
   "cell_type": "code",
   "execution_count": 4,
   "id": "3760e4ee",
   "metadata": {},
   "outputs": [
    {
     "data": {
      "text/plain": [
       "Index(['valence', 'year', 'acousticness', 'artists', 'danceability',\n",
       "       'duration_ms', 'energy', 'explicit', 'id', 'instrumentalness', 'key',\n",
       "       'liveness', 'loudness', 'mode', 'name', 'popularity', 'release_date',\n",
       "       'speechiness', 'tempo'],\n",
       "      dtype='object')"
      ]
     },
     "execution_count": 4,
     "metadata": {},
     "output_type": "execute_result"
    }
   ],
   "source": [
    "df.columns"
   ]
  },
  {
   "cell_type": "code",
   "execution_count": 5,
   "id": "e98e7f6d",
   "metadata": {},
   "outputs": [],
   "source": [
    "# Splitting columns into metadata and embedding\n",
    "metadata_columns = [\n",
    "    'id', 'name', 'artists', 'year', 'release_date', 'explicit',\n",
    "    'popularity', 'duration_ms', 'key', 'mode'\n",
    "]\n",
    "\n",
    "embedding_columns = [\n",
    "    'valence', 'acousticness', 'danceability', 'energy',\n",
    "    'instrumentalness', 'liveness', 'loudness', 'speechiness', 'tempo'\n",
    "]\n"
   ]
  },
  {
   "cell_type": "code",
   "execution_count": null,
   "id": "4d59bded",
   "metadata": {},
   "outputs": [
    {
     "name": "stderr",
     "output_type": "stream",
     "text": [
      "<All keys matched successfully>\n"
     ]
    }
   ],
   "source": [
    "from sentence_transformers import SentenceTransformer\n",
    "\n",
    "# Load nomic model for embeddings\n",
    "model = SentenceTransformer(\"nomic-ai/nomic-embed-text-v1.5\", trust_remote_code=True)"
   ]
  },
  {
   "cell_type": "code",
   "execution_count": 7,
   "id": "403eb408",
   "metadata": {},
   "outputs": [
    {
     "name": "stdout",
     "output_type": "stream",
     "text": [
      "Processing batch 1\n"
     ]
    },
    {
     "name": "stderr",
     "output_type": "stream",
     "text": [
      "Batches: 100%|██████████| 32/32 [00:21<00:00,  1.50it/s]\n",
      "\n"
     ]
    },
    {
     "name": "stdout",
     "output_type": "stream",
     "text": [
      "Processing batch 2\n"
     ]
    },
    {
     "name": "stderr",
     "output_type": "stream",
     "text": [
      "Batches: 100%|██████████| 32/32 [00:22<00:00,  1.43it/s]\n",
      "\n"
     ]
    },
    {
     "name": "stdout",
     "output_type": "stream",
     "text": [
      "Processing batch 3\n"
     ]
    },
    {
     "name": "stderr",
     "output_type": "stream",
     "text": [
      "Batches: 100%|██████████| 32/32 [00:22<00:00,  1.45it/s]\n",
      "\n"
     ]
    },
    {
     "name": "stdout",
     "output_type": "stream",
     "text": [
      "Processing batch 4\n"
     ]
    },
    {
     "name": "stderr",
     "output_type": "stream",
     "text": [
      "Batches: 100%|██████████| 32/32 [00:22<00:00,  1.45it/s]\n",
      "\n"
     ]
    },
    {
     "name": "stdout",
     "output_type": "stream",
     "text": [
      "Processing batch 5\n"
     ]
    },
    {
     "name": "stderr",
     "output_type": "stream",
     "text": [
      "Batches: 100%|██████████| 32/32 [00:22<00:00,  1.43it/s]\n",
      "\n"
     ]
    },
    {
     "name": "stdout",
     "output_type": "stream",
     "text": [
      "Processing batch 6\n"
     ]
    },
    {
     "name": "stderr",
     "output_type": "stream",
     "text": [
      "Batches: 100%|██████████| 32/32 [00:24<00:00,  1.31it/s]\n",
      "\n"
     ]
    },
    {
     "name": "stdout",
     "output_type": "stream",
     "text": [
      "Processing batch 7\n"
     ]
    },
    {
     "name": "stderr",
     "output_type": "stream",
     "text": [
      "Batches: 100%|██████████| 32/32 [00:29<00:00,  1.09it/s]\n",
      "\n"
     ]
    },
    {
     "name": "stdout",
     "output_type": "stream",
     "text": [
      "Processing batch 8\n"
     ]
    },
    {
     "name": "stderr",
     "output_type": "stream",
     "text": [
      "Batches: 100%|██████████| 32/32 [00:23<00:00,  1.37it/s]\n",
      "\n"
     ]
    },
    {
     "name": "stdout",
     "output_type": "stream",
     "text": [
      "Processing batch 9\n"
     ]
    },
    {
     "name": "stderr",
     "output_type": "stream",
     "text": [
      "Batches: 100%|██████████| 32/32 [00:23<00:00,  1.39it/s]\n",
      "\n"
     ]
    },
    {
     "name": "stdout",
     "output_type": "stream",
     "text": [
      "Processing batch 10\n"
     ]
    },
    {
     "name": "stderr",
     "output_type": "stream",
     "text": [
      "Batches: 100%|██████████| 32/32 [00:22<00:00,  1.41it/s]\n",
      "\n"
     ]
    },
    {
     "name": "stdout",
     "output_type": "stream",
     "text": [
      "Processing batch 11\n"
     ]
    },
    {
     "name": "stderr",
     "output_type": "stream",
     "text": [
      "Batches: 100%|██████████| 32/32 [00:22<00:00,  1.43it/s]\n",
      "\n"
     ]
    },
    {
     "name": "stdout",
     "output_type": "stream",
     "text": [
      "Processing batch 12\n"
     ]
    },
    {
     "name": "stderr",
     "output_type": "stream",
     "text": [
      "Batches: 100%|██████████| 32/32 [00:22<00:00,  1.43it/s]\n",
      "\n"
     ]
    },
    {
     "name": "stdout",
     "output_type": "stream",
     "text": [
      "Processing batch 13\n"
     ]
    },
    {
     "name": "stderr",
     "output_type": "stream",
     "text": [
      "Batches: 100%|██████████| 32/32 [00:22<00:00,  1.39it/s]\n",
      "\n"
     ]
    },
    {
     "name": "stdout",
     "output_type": "stream",
     "text": [
      "Processing batch 14\n"
     ]
    },
    {
     "name": "stderr",
     "output_type": "stream",
     "text": [
      "Batches: 100%|██████████| 32/32 [00:24<00:00,  1.32it/s]\n",
      "Batches: 100%|██████████| 32/32 [00:24<00:00,  1.32it/s]\n"
     ]
    },
    {
     "name": "stdout",
     "output_type": "stream",
     "text": [
      "Processing batch 15\n"
     ]
    },
    {
     "name": "stderr",
     "output_type": "stream",
     "text": [
      "Batches: 100%|██████████| 32/32 [00:24<00:00,  1.33it/s]\n",
      "Batches: 100%|██████████| 32/32 [00:24<00:00,  1.33it/s]\n"
     ]
    },
    {
     "name": "stdout",
     "output_type": "stream",
     "text": [
      "Processing batch 16\n"
     ]
    },
    {
     "name": "stderr",
     "output_type": "stream",
     "text": [
      "Batches: 100%|██████████| 32/32 [00:24<00:00,  1.30it/s]\n",
      "\n"
     ]
    },
    {
     "name": "stdout",
     "output_type": "stream",
     "text": [
      "Processing batch 17\n"
     ]
    },
    {
     "name": "stderr",
     "output_type": "stream",
     "text": [
      "Batches: 100%|██████████| 32/32 [00:24<00:00,  1.30it/s]\n",
      "\n"
     ]
    },
    {
     "name": "stdout",
     "output_type": "stream",
     "text": [
      "Processing batch 18\n"
     ]
    },
    {
     "name": "stderr",
     "output_type": "stream",
     "text": [
      "Batches: 100%|██████████| 32/32 [00:24<00:00,  1.30it/s]\n",
      "\n"
     ]
    },
    {
     "name": "stdout",
     "output_type": "stream",
     "text": [
      "Processing batch 19\n"
     ]
    },
    {
     "name": "stderr",
     "output_type": "stream",
     "text": [
      "Batches: 100%|██████████| 32/32 [00:24<00:00,  1.29it/s]\n",
      "\n"
     ]
    },
    {
     "name": "stdout",
     "output_type": "stream",
     "text": [
      "Processing batch 20\n"
     ]
    },
    {
     "name": "stderr",
     "output_type": "stream",
     "text": [
      "Batches: 100%|██████████| 32/32 [00:24<00:00,  1.30it/s]\n",
      "\n"
     ]
    },
    {
     "name": "stdout",
     "output_type": "stream",
     "text": [
      "Processing batch 21\n"
     ]
    },
    {
     "name": "stderr",
     "output_type": "stream",
     "text": [
      "Batches: 100%|██████████| 32/32 [00:23<00:00,  1.35it/s]\n",
      "\n"
     ]
    },
    {
     "name": "stdout",
     "output_type": "stream",
     "text": [
      "Processing batch 22\n"
     ]
    },
    {
     "name": "stderr",
     "output_type": "stream",
     "text": [
      "Batches: 100%|██████████| 32/32 [00:24<00:00,  1.33it/s]\n",
      "Batches: 100%|██████████| 32/32 [00:24<00:00,  1.33it/s]\n"
     ]
    },
    {
     "name": "stdout",
     "output_type": "stream",
     "text": [
      "Processing batch 23\n"
     ]
    },
    {
     "name": "stderr",
     "output_type": "stream",
     "text": [
      "Batches: 100%|██████████| 32/32 [00:24<00:00,  1.29it/s]\n",
      "\n"
     ]
    },
    {
     "name": "stdout",
     "output_type": "stream",
     "text": [
      "Processing batch 24\n"
     ]
    },
    {
     "name": "stderr",
     "output_type": "stream",
     "text": [
      "Batches: 100%|██████████| 32/32 [00:24<00:00,  1.30it/s]\n",
      "\n"
     ]
    },
    {
     "name": "stdout",
     "output_type": "stream",
     "text": [
      "Processing batch 25\n"
     ]
    },
    {
     "name": "stderr",
     "output_type": "stream",
     "text": [
      "Batches: 100%|██████████| 32/32 [00:24<00:00,  1.31it/s]\n",
      "Batches: 100%|██████████| 32/32 [00:24<00:00,  1.31it/s]\n"
     ]
    },
    {
     "name": "stdout",
     "output_type": "stream",
     "text": [
      "Processing batch 26\n"
     ]
    },
    {
     "name": "stderr",
     "output_type": "stream",
     "text": [
      "Batches: 100%|██████████| 32/32 [00:24<00:00,  1.30it/s]\n",
      "Batches: 100%|██████████| 32/32 [00:24<00:00,  1.30it/s]\n"
     ]
    },
    {
     "name": "stdout",
     "output_type": "stream",
     "text": [
      "Processing batch 27\n"
     ]
    },
    {
     "name": "stderr",
     "output_type": "stream",
     "text": [
      "Batches: 100%|██████████| 32/32 [00:24<00:00,  1.30it/s]\n",
      "\n"
     ]
    },
    {
     "name": "stdout",
     "output_type": "stream",
     "text": [
      "Processing batch 28\n"
     ]
    },
    {
     "name": "stderr",
     "output_type": "stream",
     "text": [
      "Batches: 100%|██████████| 32/32 [00:24<00:00,  1.29it/s]\n",
      "Batches: 100%|██████████| 32/32 [00:24<00:00,  1.29it/s]\n"
     ]
    },
    {
     "name": "stdout",
     "output_type": "stream",
     "text": [
      "Processing batch 29\n"
     ]
    },
    {
     "name": "stderr",
     "output_type": "stream",
     "text": [
      "Batches: 100%|██████████| 32/32 [00:24<00:00,  1.30it/s]\n",
      "\n"
     ]
    },
    {
     "name": "stdout",
     "output_type": "stream",
     "text": [
      "Processing batch 30\n"
     ]
    },
    {
     "name": "stderr",
     "output_type": "stream",
     "text": [
      "Batches: 100%|██████████| 32/32 [00:24<00:00,  1.28it/s]\n",
      "\n"
     ]
    },
    {
     "name": "stdout",
     "output_type": "stream",
     "text": [
      "Processing batch 31\n"
     ]
    },
    {
     "name": "stderr",
     "output_type": "stream",
     "text": [
      "Batches: 100%|██████████| 32/32 [00:24<00:00,  1.28it/s]\n",
      "Batches: 100%|██████████| 32/32 [00:24<00:00,  1.28it/s]\n"
     ]
    },
    {
     "name": "stdout",
     "output_type": "stream",
     "text": [
      "Processing batch 32\n"
     ]
    },
    {
     "name": "stderr",
     "output_type": "stream",
     "text": [
      "Batches: 100%|██████████| 32/32 [00:25<00:00,  1.27it/s]\n",
      "\n"
     ]
    },
    {
     "name": "stdout",
     "output_type": "stream",
     "text": [
      "Processing batch 33\n"
     ]
    },
    {
     "name": "stderr",
     "output_type": "stream",
     "text": [
      "Batches: 100%|██████████| 32/32 [00:24<00:00,  1.29it/s]\n",
      "\n"
     ]
    },
    {
     "name": "stdout",
     "output_type": "stream",
     "text": [
      "Processing batch 34\n"
     ]
    },
    {
     "name": "stderr",
     "output_type": "stream",
     "text": [
      "Batches: 100%|██████████| 32/32 [00:25<00:00,  1.28it/s]\n",
      "\n"
     ]
    },
    {
     "name": "stdout",
     "output_type": "stream",
     "text": [
      "Processing batch 35\n"
     ]
    },
    {
     "name": "stderr",
     "output_type": "stream",
     "text": [
      "Batches: 100%|██████████| 32/32 [00:24<00:00,  1.28it/s]\n",
      "\n"
     ]
    },
    {
     "name": "stdout",
     "output_type": "stream",
     "text": [
      "Processing batch 36\n"
     ]
    },
    {
     "name": "stderr",
     "output_type": "stream",
     "text": [
      "Batches: 100%|██████████| 32/32 [00:25<00:00,  1.24it/s]\n",
      "\n"
     ]
    },
    {
     "name": "stdout",
     "output_type": "stream",
     "text": [
      "Processing batch 37\n"
     ]
    },
    {
     "name": "stderr",
     "output_type": "stream",
     "text": [
      "Batches: 100%|██████████| 32/32 [00:24<00:00,  1.29it/s]\n",
      "Batches: 100%|██████████| 32/32 [00:24<00:00,  1.29it/s]\n"
     ]
    },
    {
     "name": "stdout",
     "output_type": "stream",
     "text": [
      "Processing batch 38\n"
     ]
    },
    {
     "name": "stderr",
     "output_type": "stream",
     "text": [
      "Batches: 100%|██████████| 32/32 [00:24<00:00,  1.30it/s]\n",
      "\n"
     ]
    },
    {
     "name": "stdout",
     "output_type": "stream",
     "text": [
      "Processing batch 39\n"
     ]
    },
    {
     "name": "stderr",
     "output_type": "stream",
     "text": [
      "Batches: 100%|██████████| 32/32 [00:24<00:00,  1.29it/s]\n",
      "Batches: 100%|██████████| 32/32 [00:24<00:00,  1.29it/s]\n"
     ]
    },
    {
     "name": "stdout",
     "output_type": "stream",
     "text": [
      "Processing batch 40\n"
     ]
    },
    {
     "name": "stderr",
     "output_type": "stream",
     "text": [
      "Batches: 100%|██████████| 32/32 [00:24<00:00,  1.30it/s]\n",
      "\n"
     ]
    },
    {
     "name": "stdout",
     "output_type": "stream",
     "text": [
      "Processing batch 41\n"
     ]
    },
    {
     "name": "stderr",
     "output_type": "stream",
     "text": [
      "Batches: 100%|██████████| 32/32 [00:24<00:00,  1.31it/s]\n",
      "\n"
     ]
    },
    {
     "name": "stdout",
     "output_type": "stream",
     "text": [
      "Processing batch 42\n"
     ]
    },
    {
     "name": "stderr",
     "output_type": "stream",
     "text": [
      "Batches: 100%|██████████| 32/32 [00:23<00:00,  1.35it/s]\n",
      "\n"
     ]
    },
    {
     "name": "stdout",
     "output_type": "stream",
     "text": [
      "Processing batch 43\n"
     ]
    },
    {
     "name": "stderr",
     "output_type": "stream",
     "text": [
      "Batches: 100%|██████████| 32/32 [00:23<00:00,  1.36it/s]\n",
      "\n"
     ]
    },
    {
     "name": "stdout",
     "output_type": "stream",
     "text": [
      "Processing batch 44\n"
     ]
    },
    {
     "name": "stderr",
     "output_type": "stream",
     "text": [
      "Batches: 100%|██████████| 32/32 [00:23<00:00,  1.35it/s]\n",
      "\n"
     ]
    },
    {
     "name": "stdout",
     "output_type": "stream",
     "text": [
      "Processing batch 45\n"
     ]
    },
    {
     "name": "stderr",
     "output_type": "stream",
     "text": [
      "Batches: 100%|██████████| 32/32 [00:23<00:00,  1.34it/s]\n",
      "\n"
     ]
    },
    {
     "name": "stdout",
     "output_type": "stream",
     "text": [
      "Processing batch 46\n"
     ]
    },
    {
     "name": "stderr",
     "output_type": "stream",
     "text": [
      "Batches: 100%|██████████| 32/32 [00:23<00:00,  1.35it/s]\n",
      "\n"
     ]
    },
    {
     "name": "stdout",
     "output_type": "stream",
     "text": [
      "Processing batch 47\n"
     ]
    },
    {
     "name": "stderr",
     "output_type": "stream",
     "text": [
      "Batches: 100%|██████████| 32/32 [00:23<00:00,  1.35it/s]\n",
      "\n"
     ]
    },
    {
     "name": "stdout",
     "output_type": "stream",
     "text": [
      "Processing batch 48\n"
     ]
    },
    {
     "name": "stderr",
     "output_type": "stream",
     "text": [
      "Batches: 100%|██████████| 32/32 [00:24<00:00,  1.33it/s]\n",
      "\n"
     ]
    },
    {
     "name": "stdout",
     "output_type": "stream",
     "text": [
      "Processing batch 49\n"
     ]
    },
    {
     "name": "stderr",
     "output_type": "stream",
     "text": [
      "Batches: 100%|██████████| 32/32 [00:23<00:00,  1.34it/s]\n",
      "\n"
     ]
    },
    {
     "name": "stdout",
     "output_type": "stream",
     "text": [
      "Processing batch 50\n"
     ]
    },
    {
     "name": "stderr",
     "output_type": "stream",
     "text": [
      "Batches: 100%|██████████| 32/32 [00:23<00:00,  1.34it/s]\n",
      "\n"
     ]
    },
    {
     "name": "stdout",
     "output_type": "stream",
     "text": [
      "Processing batch 51\n"
     ]
    },
    {
     "name": "stderr",
     "output_type": "stream",
     "text": [
      "Batches: 100%|██████████| 32/32 [00:24<00:00,  1.30it/s]\n",
      "\n"
     ]
    },
    {
     "name": "stdout",
     "output_type": "stream",
     "text": [
      "Processing batch 52\n"
     ]
    },
    {
     "name": "stderr",
     "output_type": "stream",
     "text": [
      "Batches: 100%|██████████| 32/32 [00:23<00:00,  1.34it/s]\n",
      "Batches: 100%|██████████| 32/32 [00:23<00:00,  1.34it/s]\n"
     ]
    },
    {
     "name": "stdout",
     "output_type": "stream",
     "text": [
      "Processing batch 53\n"
     ]
    },
    {
     "name": "stderr",
     "output_type": "stream",
     "text": [
      "Batches: 100%|██████████| 32/32 [00:23<00:00,  1.35it/s]\n",
      "\n"
     ]
    },
    {
     "name": "stdout",
     "output_type": "stream",
     "text": [
      "Processing batch 54\n"
     ]
    },
    {
     "name": "stderr",
     "output_type": "stream",
     "text": [
      "Batches: 100%|██████████| 32/32 [00:23<00:00,  1.34it/s]\n",
      "\n"
     ]
    },
    {
     "name": "stdout",
     "output_type": "stream",
     "text": [
      "Processing batch 55\n"
     ]
    },
    {
     "name": "stderr",
     "output_type": "stream",
     "text": [
      "Batches: 100%|██████████| 32/32 [00:23<00:00,  1.35it/s]\n",
      "Batches: 100%|██████████| 32/32 [00:23<00:00,  1.35it/s]\n"
     ]
    },
    {
     "name": "stdout",
     "output_type": "stream",
     "text": [
      "Processing batch 56\n"
     ]
    },
    {
     "name": "stderr",
     "output_type": "stream",
     "text": [
      "Batches: 100%|██████████| 32/32 [00:23<00:00,  1.35it/s]\n",
      "Batches: 100%|██████████| 32/32 [00:23<00:00,  1.35it/s]\n"
     ]
    },
    {
     "name": "stdout",
     "output_type": "stream",
     "text": [
      "Processing batch 57\n"
     ]
    },
    {
     "name": "stderr",
     "output_type": "stream",
     "text": [
      "Batches: 100%|██████████| 32/32 [00:24<00:00,  1.33it/s]\n",
      "\n"
     ]
    },
    {
     "name": "stdout",
     "output_type": "stream",
     "text": [
      "Processing batch 58\n"
     ]
    },
    {
     "name": "stderr",
     "output_type": "stream",
     "text": [
      "Batches: 100%|██████████| 32/32 [00:24<00:00,  1.32it/s]\n",
      "Batches: 100%|██████████| 32/32 [00:24<00:00,  1.32it/s]\n"
     ]
    },
    {
     "name": "stdout",
     "output_type": "stream",
     "text": [
      "Processing batch 59\n"
     ]
    },
    {
     "name": "stderr",
     "output_type": "stream",
     "text": [
      "Batches: 100%|██████████| 32/32 [00:23<00:00,  1.36it/s]\n",
      "\n"
     ]
    },
    {
     "name": "stdout",
     "output_type": "stream",
     "text": [
      "Processing batch 60\n"
     ]
    },
    {
     "name": "stderr",
     "output_type": "stream",
     "text": [
      "Batches: 100%|██████████| 32/32 [00:23<00:00,  1.39it/s]\n",
      "\n"
     ]
    },
    {
     "name": "stdout",
     "output_type": "stream",
     "text": [
      "Processing batch 61\n"
     ]
    },
    {
     "name": "stderr",
     "output_type": "stream",
     "text": [
      "Batches: 100%|██████████| 32/32 [00:23<00:00,  1.38it/s]\n",
      "\n"
     ]
    },
    {
     "name": "stdout",
     "output_type": "stream",
     "text": [
      "Processing batch 62\n"
     ]
    },
    {
     "name": "stderr",
     "output_type": "stream",
     "text": [
      "Batches: 100%|██████████| 32/32 [00:23<00:00,  1.38it/s]\n",
      "\n"
     ]
    },
    {
     "name": "stdout",
     "output_type": "stream",
     "text": [
      "Processing batch 63\n"
     ]
    },
    {
     "name": "stderr",
     "output_type": "stream",
     "text": [
      "Batches: 100%|██████████| 32/32 [00:23<00:00,  1.36it/s]\n",
      "\n"
     ]
    },
    {
     "name": "stdout",
     "output_type": "stream",
     "text": [
      "Processing batch 64\n"
     ]
    },
    {
     "name": "stderr",
     "output_type": "stream",
     "text": [
      "Batches: 100%|██████████| 32/32 [00:24<00:00,  1.32it/s]\n",
      "\n"
     ]
    },
    {
     "name": "stdout",
     "output_type": "stream",
     "text": [
      "Processing batch 65\n"
     ]
    },
    {
     "name": "stderr",
     "output_type": "stream",
     "text": [
      "Batches: 100%|██████████| 32/32 [00:24<00:00,  1.32it/s]\n",
      "\n"
     ]
    },
    {
     "name": "stdout",
     "output_type": "stream",
     "text": [
      "Processing batch 66\n"
     ]
    },
    {
     "name": "stderr",
     "output_type": "stream",
     "text": [
      "Batches: 100%|██████████| 32/32 [00:24<00:00,  1.31it/s]\n",
      "\n"
     ]
    },
    {
     "name": "stdout",
     "output_type": "stream",
     "text": [
      "Processing batch 67\n"
     ]
    },
    {
     "name": "stderr",
     "output_type": "stream",
     "text": [
      "Batches: 100%|██████████| 32/32 [00:24<00:00,  1.29it/s]\n",
      "\n"
     ]
    },
    {
     "name": "stdout",
     "output_type": "stream",
     "text": [
      "Processing batch 68\n"
     ]
    },
    {
     "name": "stderr",
     "output_type": "stream",
     "text": [
      "Batches: 100%|██████████| 32/32 [00:24<00:00,  1.31it/s]\n",
      "\n"
     ]
    },
    {
     "name": "stdout",
     "output_type": "stream",
     "text": [
      "Processing batch 69\n"
     ]
    },
    {
     "name": "stderr",
     "output_type": "stream",
     "text": [
      "Batches: 100%|██████████| 32/32 [00:24<00:00,  1.31it/s]\n",
      "Batches: 100%|██████████| 32/32 [00:24<00:00,  1.31it/s]\n"
     ]
    },
    {
     "name": "stdout",
     "output_type": "stream",
     "text": [
      "Processing batch 70\n"
     ]
    },
    {
     "name": "stderr",
     "output_type": "stream",
     "text": [
      "Batches: 100%|██████████| 32/32 [00:24<00:00,  1.30it/s]\n",
      "\n"
     ]
    },
    {
     "name": "stdout",
     "output_type": "stream",
     "text": [
      "Processing batch 71\n"
     ]
    },
    {
     "name": "stderr",
     "output_type": "stream",
     "text": [
      "Batches: 100%|██████████| 32/32 [00:24<00:00,  1.29it/s]\n",
      "\n"
     ]
    },
    {
     "name": "stdout",
     "output_type": "stream",
     "text": [
      "Processing batch 72\n"
     ]
    },
    {
     "name": "stderr",
     "output_type": "stream",
     "text": [
      "Batches: 100%|██████████| 32/32 [00:25<00:00,  1.25it/s]\n",
      "\n"
     ]
    },
    {
     "name": "stdout",
     "output_type": "stream",
     "text": [
      "Processing batch 73\n"
     ]
    },
    {
     "name": "stderr",
     "output_type": "stream",
     "text": [
      "Batches: 100%|██████████| 32/32 [00:25<00:00,  1.27it/s]\n",
      "\n"
     ]
    },
    {
     "name": "stdout",
     "output_type": "stream",
     "text": [
      "Processing batch 74\n"
     ]
    },
    {
     "name": "stderr",
     "output_type": "stream",
     "text": [
      "Batches: 100%|██████████| 32/32 [00:25<00:00,  1.28it/s]\n",
      "\n"
     ]
    },
    {
     "name": "stdout",
     "output_type": "stream",
     "text": [
      "Processing batch 75\n"
     ]
    },
    {
     "name": "stderr",
     "output_type": "stream",
     "text": [
      "Batches: 100%|██████████| 32/32 [00:24<00:00,  1.28it/s]\n",
      "Batches: 100%|██████████| 32/32 [00:24<00:00,  1.28it/s]\n"
     ]
    },
    {
     "name": "stdout",
     "output_type": "stream",
     "text": [
      "Processing batch 76\n"
     ]
    },
    {
     "name": "stderr",
     "output_type": "stream",
     "text": [
      "Batches: 100%|██████████| 32/32 [00:23<00:00,  1.33it/s]\n",
      "\n"
     ]
    },
    {
     "name": "stdout",
     "output_type": "stream",
     "text": [
      "Processing batch 77\n"
     ]
    },
    {
     "name": "stderr",
     "output_type": "stream",
     "text": [
      "Batches: 100%|██████████| 32/32 [00:23<00:00,  1.33it/s]\n",
      "\n"
     ]
    },
    {
     "name": "stdout",
     "output_type": "stream",
     "text": [
      "Processing batch 78\n"
     ]
    },
    {
     "name": "stderr",
     "output_type": "stream",
     "text": [
      "Batches: 100%|██████████| 32/32 [00:23<00:00,  1.34it/s]\n",
      "\n"
     ]
    },
    {
     "name": "stdout",
     "output_type": "stream",
     "text": [
      "Processing batch 79\n"
     ]
    },
    {
     "name": "stderr",
     "output_type": "stream",
     "text": [
      "Batches: 100%|██████████| 32/32 [00:23<00:00,  1.34it/s]\n",
      "\n"
     ]
    },
    {
     "name": "stdout",
     "output_type": "stream",
     "text": [
      "Processing batch 80\n"
     ]
    },
    {
     "name": "stderr",
     "output_type": "stream",
     "text": [
      "Batches: 100%|██████████| 32/32 [00:23<00:00,  1.33it/s]\n",
      "Batches: 100%|██████████| 32/32 [00:23<00:00,  1.33it/s]\n"
     ]
    },
    {
     "name": "stdout",
     "output_type": "stream",
     "text": [
      "Processing batch 81\n"
     ]
    },
    {
     "name": "stderr",
     "output_type": "stream",
     "text": [
      "Batches: 100%|██████████| 32/32 [00:24<00:00,  1.33it/s]\n",
      "\n"
     ]
    },
    {
     "name": "stdout",
     "output_type": "stream",
     "text": [
      "Processing batch 82\n"
     ]
    },
    {
     "name": "stderr",
     "output_type": "stream",
     "text": [
      "Batches: 100%|██████████| 32/32 [00:24<00:00,  1.32it/s]\n",
      "\n"
     ]
    },
    {
     "name": "stdout",
     "output_type": "stream",
     "text": [
      "Processing batch 83\n"
     ]
    },
    {
     "name": "stderr",
     "output_type": "stream",
     "text": [
      "Batches: 100%|██████████| 32/32 [00:24<00:00,  1.31it/s]\n",
      "\n"
     ]
    },
    {
     "name": "stdout",
     "output_type": "stream",
     "text": [
      "Processing batch 84\n"
     ]
    },
    {
     "name": "stderr",
     "output_type": "stream",
     "text": [
      "Batches: 100%|██████████| 32/32 [00:24<00:00,  1.32it/s]\n",
      "\n"
     ]
    },
    {
     "name": "stdout",
     "output_type": "stream",
     "text": [
      "Processing batch 85\n"
     ]
    },
    {
     "name": "stderr",
     "output_type": "stream",
     "text": [
      "Batches: 100%|██████████| 32/32 [00:24<00:00,  1.31it/s]\n",
      "Batches: 100%|██████████| 32/32 [00:24<00:00,  1.31it/s]\n"
     ]
    },
    {
     "name": "stdout",
     "output_type": "stream",
     "text": [
      "Processing batch 86\n"
     ]
    },
    {
     "name": "stderr",
     "output_type": "stream",
     "text": [
      "Batches: 100%|██████████| 32/32 [00:24<00:00,  1.33it/s]\n",
      "\n"
     ]
    },
    {
     "name": "stdout",
     "output_type": "stream",
     "text": [
      "Processing batch 87\n"
     ]
    },
    {
     "name": "stderr",
     "output_type": "stream",
     "text": [
      "Batches: 100%|██████████| 32/32 [00:24<00:00,  1.32it/s]\n",
      "Batches: 100%|██████████| 32/32 [00:24<00:00,  1.32it/s]\n"
     ]
    },
    {
     "name": "stdout",
     "output_type": "stream",
     "text": [
      "Processing batch 88\n"
     ]
    },
    {
     "name": "stderr",
     "output_type": "stream",
     "text": [
      "Batches: 100%|██████████| 32/32 [00:24<00:00,  1.31it/s]\n",
      "\n"
     ]
    },
    {
     "name": "stdout",
     "output_type": "stream",
     "text": [
      "Processing batch 89\n"
     ]
    },
    {
     "name": "stderr",
     "output_type": "stream",
     "text": [
      "Batches: 100%|██████████| 32/32 [00:24<00:00,  1.31it/s]\n",
      "\n"
     ]
    },
    {
     "name": "stdout",
     "output_type": "stream",
     "text": [
      "Processing batch 90\n"
     ]
    },
    {
     "name": "stderr",
     "output_type": "stream",
     "text": [
      "Batches: 100%|██████████| 32/32 [00:27<00:00,  1.18it/s]\n",
      "\n"
     ]
    },
    {
     "name": "stdout",
     "output_type": "stream",
     "text": [
      "Processing batch 91\n"
     ]
    },
    {
     "name": "stderr",
     "output_type": "stream",
     "text": [
      "Batches: 100%|██████████| 32/32 [00:24<00:00,  1.30it/s]\n",
      "Batches: 100%|██████████| 32/32 [00:24<00:00,  1.30it/s]\n"
     ]
    },
    {
     "name": "stdout",
     "output_type": "stream",
     "text": [
      "Processing batch 92\n"
     ]
    },
    {
     "name": "stderr",
     "output_type": "stream",
     "text": [
      "Batches: 100%|██████████| 32/32 [00:24<00:00,  1.31it/s]\n",
      "\n"
     ]
    },
    {
     "name": "stdout",
     "output_type": "stream",
     "text": [
      "Processing batch 93\n"
     ]
    },
    {
     "name": "stderr",
     "output_type": "stream",
     "text": [
      "Batches: 100%|██████████| 32/32 [00:23<00:00,  1.33it/s]\n",
      "\n"
     ]
    },
    {
     "name": "stdout",
     "output_type": "stream",
     "text": [
      "Processing batch 94\n"
     ]
    },
    {
     "name": "stderr",
     "output_type": "stream",
     "text": [
      "Batches: 100%|██████████| 32/32 [00:23<00:00,  1.34it/s]\n",
      "\n"
     ]
    },
    {
     "name": "stdout",
     "output_type": "stream",
     "text": [
      "Processing batch 95\n"
     ]
    },
    {
     "name": "stderr",
     "output_type": "stream",
     "text": [
      "Batches: 100%|██████████| 32/32 [00:24<00:00,  1.31it/s]\n",
      "Batches: 100%|██████████| 32/32 [00:24<00:00,  1.31it/s]\n"
     ]
    },
    {
     "name": "stdout",
     "output_type": "stream",
     "text": [
      "Processing batch 96\n"
     ]
    },
    {
     "name": "stderr",
     "output_type": "stream",
     "text": [
      "Batches: 100%|██████████| 32/32 [00:24<00:00,  1.33it/s]\n",
      "\n"
     ]
    },
    {
     "name": "stdout",
     "output_type": "stream",
     "text": [
      "Processing batch 97\n"
     ]
    },
    {
     "name": "stderr",
     "output_type": "stream",
     "text": [
      "Batches: 100%|██████████| 32/32 [00:24<00:00,  1.32it/s]\n",
      "Batches: 100%|██████████| 32/32 [00:24<00:00,  1.32it/s]\n"
     ]
    },
    {
     "name": "stdout",
     "output_type": "stream",
     "text": [
      "Processing batch 98\n"
     ]
    },
    {
     "name": "stderr",
     "output_type": "stream",
     "text": [
      "Batches: 100%|██████████| 32/32 [00:24<00:00,  1.30it/s]\n",
      "\n"
     ]
    },
    {
     "name": "stdout",
     "output_type": "stream",
     "text": [
      "Processing batch 99\n"
     ]
    },
    {
     "name": "stderr",
     "output_type": "stream",
     "text": [
      "Batches: 100%|██████████| 32/32 [00:25<00:00,  1.27it/s]\n",
      "\n"
     ]
    },
    {
     "name": "stdout",
     "output_type": "stream",
     "text": [
      "Processing batch 100\n"
     ]
    },
    {
     "name": "stderr",
     "output_type": "stream",
     "text": [
      "Batches: 100%|██████████| 32/32 [00:24<00:00,  1.31it/s]\n",
      "Batches: 100%|██████████| 32/32 [00:24<00:00,  1.31it/s]\n"
     ]
    },
    {
     "name": "stdout",
     "output_type": "stream",
     "text": [
      "Processing batch 101\n"
     ]
    },
    {
     "name": "stderr",
     "output_type": "stream",
     "text": [
      "Batches: 100%|██████████| 32/32 [00:24<00:00,  1.31it/s]\n",
      "\n"
     ]
    },
    {
     "name": "stdout",
     "output_type": "stream",
     "text": [
      "Processing batch 102\n"
     ]
    },
    {
     "name": "stderr",
     "output_type": "stream",
     "text": [
      "Batches: 100%|██████████| 32/32 [00:25<00:00,  1.28it/s]\n",
      "\n"
     ]
    },
    {
     "name": "stdout",
     "output_type": "stream",
     "text": [
      "Processing batch 103\n"
     ]
    },
    {
     "name": "stderr",
     "output_type": "stream",
     "text": [
      "Batches: 100%|██████████| 32/32 [00:24<00:00,  1.31it/s]\n",
      "Batches: 100%|██████████| 32/32 [00:24<00:00,  1.31it/s]\n"
     ]
    },
    {
     "name": "stdout",
     "output_type": "stream",
     "text": [
      "Processing batch 104\n"
     ]
    },
    {
     "name": "stderr",
     "output_type": "stream",
     "text": [
      "Batches: 100%|██████████| 32/32 [00:24<00:00,  1.30it/s]\n",
      "Batches: 100%|██████████| 32/32 [00:24<00:00,  1.30it/s]\n"
     ]
    },
    {
     "name": "stdout",
     "output_type": "stream",
     "text": [
      "Processing batch 105\n"
     ]
    },
    {
     "name": "stderr",
     "output_type": "stream",
     "text": [
      "Batches: 100%|██████████| 32/32 [00:23<00:00,  1.35it/s]\n",
      "\n"
     ]
    },
    {
     "name": "stdout",
     "output_type": "stream",
     "text": [
      "Processing batch 106\n"
     ]
    },
    {
     "name": "stderr",
     "output_type": "stream",
     "text": [
      "Batches: 100%|██████████| 32/32 [00:23<00:00,  1.35it/s]\n",
      "\n"
     ]
    },
    {
     "name": "stdout",
     "output_type": "stream",
     "text": [
      "Processing batch 107\n"
     ]
    },
    {
     "name": "stderr",
     "output_type": "stream",
     "text": [
      "Batches: 100%|██████████| 32/32 [00:23<00:00,  1.35it/s]\n",
      "\n"
     ]
    },
    {
     "name": "stdout",
     "output_type": "stream",
     "text": [
      "Processing batch 108\n"
     ]
    },
    {
     "name": "stderr",
     "output_type": "stream",
     "text": [
      "Batches: 100%|██████████| 32/32 [00:23<00:00,  1.35it/s]\n",
      "\n"
     ]
    },
    {
     "name": "stdout",
     "output_type": "stream",
     "text": [
      "Processing batch 109\n"
     ]
    },
    {
     "name": "stderr",
     "output_type": "stream",
     "text": [
      "Batches: 100%|██████████| 32/32 [00:23<00:00,  1.36it/s]\n",
      "\n"
     ]
    },
    {
     "name": "stdout",
     "output_type": "stream",
     "text": [
      "Processing batch 110\n"
     ]
    },
    {
     "name": "stderr",
     "output_type": "stream",
     "text": [
      "Batches: 100%|██████████| 32/32 [00:22<00:00,  1.39it/s]\n",
      "\n"
     ]
    },
    {
     "name": "stdout",
     "output_type": "stream",
     "text": [
      "Processing batch 111\n"
     ]
    },
    {
     "name": "stderr",
     "output_type": "stream",
     "text": [
      "Batches: 100%|██████████| 32/32 [00:22<00:00,  1.39it/s]\n",
      "Batches: 100%|██████████| 32/32 [00:22<00:00,  1.39it/s]\n"
     ]
    },
    {
     "name": "stdout",
     "output_type": "stream",
     "text": [
      "Processing batch 112\n"
     ]
    },
    {
     "name": "stderr",
     "output_type": "stream",
     "text": [
      "Batches: 100%|██████████| 32/32 [00:23<00:00,  1.39it/s]\n",
      "\n"
     ]
    },
    {
     "name": "stdout",
     "output_type": "stream",
     "text": [
      "Processing batch 113\n"
     ]
    },
    {
     "name": "stderr",
     "output_type": "stream",
     "text": [
      "Batches: 100%|██████████| 32/32 [00:22<00:00,  1.39it/s]\n",
      "\n"
     ]
    },
    {
     "name": "stdout",
     "output_type": "stream",
     "text": [
      "Processing batch 114\n"
     ]
    },
    {
     "name": "stderr",
     "output_type": "stream",
     "text": [
      "Batches: 100%|██████████| 32/32 [00:23<00:00,  1.37it/s]\n",
      "\n"
     ]
    },
    {
     "name": "stdout",
     "output_type": "stream",
     "text": [
      "Processing batch 115\n"
     ]
    },
    {
     "name": "stderr",
     "output_type": "stream",
     "text": [
      "Batches: 100%|██████████| 32/32 [00:24<00:00,  1.33it/s]\n",
      "\n"
     ]
    },
    {
     "name": "stdout",
     "output_type": "stream",
     "text": [
      "Processing batch 116\n"
     ]
    },
    {
     "name": "stderr",
     "output_type": "stream",
     "text": [
      "Batches: 100%|██████████| 32/32 [00:23<00:00,  1.34it/s]\n",
      "Batches: 100%|██████████| 32/32 [00:23<00:00,  1.34it/s]\n"
     ]
    },
    {
     "name": "stdout",
     "output_type": "stream",
     "text": [
      "Processing batch 117\n"
     ]
    },
    {
     "name": "stderr",
     "output_type": "stream",
     "text": [
      "Batches: 100%|██████████| 32/32 [00:23<00:00,  1.35it/s]\n",
      "Batches: 100%|██████████| 32/32 [00:23<00:00,  1.35it/s]\n"
     ]
    },
    {
     "name": "stdout",
     "output_type": "stream",
     "text": [
      "Processing batch 118\n"
     ]
    },
    {
     "name": "stderr",
     "output_type": "stream",
     "text": [
      "Batches: 100%|██████████| 32/32 [00:23<00:00,  1.37it/s]\n",
      "Batches: 100%|██████████| 32/32 [00:23<00:00,  1.37it/s]\n"
     ]
    },
    {
     "name": "stdout",
     "output_type": "stream",
     "text": [
      "Processing batch 119\n"
     ]
    },
    {
     "name": "stderr",
     "output_type": "stream",
     "text": [
      "Batches: 100%|██████████| 32/32 [00:23<00:00,  1.37it/s]\n",
      "\n"
     ]
    },
    {
     "name": "stdout",
     "output_type": "stream",
     "text": [
      "Processing batch 120\n"
     ]
    },
    {
     "name": "stderr",
     "output_type": "stream",
     "text": [
      "Batches: 100%|██████████| 32/32 [00:23<00:00,  1.38it/s]\n",
      "\n"
     ]
    },
    {
     "name": "stdout",
     "output_type": "stream",
     "text": [
      "Processing batch 121\n"
     ]
    },
    {
     "name": "stderr",
     "output_type": "stream",
     "text": [
      "Batches: 100%|██████████| 32/32 [00:23<00:00,  1.34it/s]\n",
      "\n"
     ]
    },
    {
     "name": "stdout",
     "output_type": "stream",
     "text": [
      "Processing batch 122\n"
     ]
    },
    {
     "name": "stderr",
     "output_type": "stream",
     "text": [
      "Batches: 100%|██████████| 32/32 [00:23<00:00,  1.36it/s]\n",
      "\n"
     ]
    },
    {
     "name": "stdout",
     "output_type": "stream",
     "text": [
      "Processing batch 123\n"
     ]
    },
    {
     "name": "stderr",
     "output_type": "stream",
     "text": [
      "Batches: 100%|██████████| 32/32 [00:23<00:00,  1.35it/s]\n",
      "Batches: 100%|██████████| 32/32 [00:23<00:00,  1.35it/s]\n"
     ]
    },
    {
     "name": "stdout",
     "output_type": "stream",
     "text": [
      "Processing batch 124\n"
     ]
    },
    {
     "name": "stderr",
     "output_type": "stream",
     "text": [
      "Batches: 100%|██████████| 32/32 [00:23<00:00,  1.35it/s]\n",
      "Batches: 100%|██████████| 32/32 [00:23<00:00,  1.35it/s]\n"
     ]
    },
    {
     "name": "stdout",
     "output_type": "stream",
     "text": [
      "Processing batch 125\n"
     ]
    },
    {
     "name": "stderr",
     "output_type": "stream",
     "text": [
      "Batches: 100%|██████████| 32/32 [00:23<00:00,  1.35it/s]\n",
      "Batches: 100%|██████████| 32/32 [00:23<00:00,  1.35it/s]\n"
     ]
    },
    {
     "name": "stdout",
     "output_type": "stream",
     "text": [
      "Processing batch 126\n"
     ]
    },
    {
     "name": "stderr",
     "output_type": "stream",
     "text": [
      "Batches: 100%|██████████| 32/32 [00:22<00:00,  1.39it/s]\n",
      "Batches: 100%|██████████| 32/32 [00:22<00:00,  1.39it/s]\n"
     ]
    },
    {
     "name": "stdout",
     "output_type": "stream",
     "text": [
      "Processing batch 127\n"
     ]
    },
    {
     "name": "stderr",
     "output_type": "stream",
     "text": [
      "Batches: 100%|██████████| 32/32 [00:23<00:00,  1.39it/s]\n",
      "\n"
     ]
    },
    {
     "name": "stdout",
     "output_type": "stream",
     "text": [
      "Processing batch 128\n"
     ]
    },
    {
     "name": "stderr",
     "output_type": "stream",
     "text": [
      "Batches: 100%|██████████| 32/32 [00:23<00:00,  1.39it/s]\n",
      "\n"
     ]
    },
    {
     "name": "stdout",
     "output_type": "stream",
     "text": [
      "Processing batch 129\n"
     ]
    },
    {
     "name": "stderr",
     "output_type": "stream",
     "text": [
      "Batches: 100%|██████████| 32/32 [00:22<00:00,  1.40it/s]\n",
      "\n"
     ]
    },
    {
     "name": "stdout",
     "output_type": "stream",
     "text": [
      "Processing batch 130\n"
     ]
    },
    {
     "name": "stderr",
     "output_type": "stream",
     "text": [
      "Batches: 100%|██████████| 32/32 [00:23<00:00,  1.37it/s]\n",
      "\n"
     ]
    },
    {
     "name": "stdout",
     "output_type": "stream",
     "text": [
      "Processing batch 131\n"
     ]
    },
    {
     "name": "stderr",
     "output_type": "stream",
     "text": [
      "Batches: 100%|██████████| 32/32 [00:23<00:00,  1.37it/s]\n",
      "\n"
     ]
    },
    {
     "name": "stdout",
     "output_type": "stream",
     "text": [
      "Processing batch 132\n"
     ]
    },
    {
     "name": "stderr",
     "output_type": "stream",
     "text": [
      "Batches: 100%|██████████| 32/32 [00:23<00:00,  1.35it/s]\n",
      "\n"
     ]
    },
    {
     "name": "stdout",
     "output_type": "stream",
     "text": [
      "Processing batch 133\n"
     ]
    },
    {
     "name": "stderr",
     "output_type": "stream",
     "text": [
      "Batches: 100%|██████████| 32/32 [00:23<00:00,  1.36it/s]\n",
      "Batches: 100%|██████████| 32/32 [00:23<00:00,  1.36it/s]\n"
     ]
    },
    {
     "name": "stdout",
     "output_type": "stream",
     "text": [
      "Processing batch 134\n"
     ]
    },
    {
     "name": "stderr",
     "output_type": "stream",
     "text": [
      "Batches: 100%|██████████| 32/32 [00:23<00:00,  1.33it/s]\n",
      "\n"
     ]
    },
    {
     "name": "stdout",
     "output_type": "stream",
     "text": [
      "Processing batch 135\n"
     ]
    },
    {
     "name": "stderr",
     "output_type": "stream",
     "text": [
      "Batches: 100%|██████████| 32/32 [00:24<00:00,  1.33it/s]\n",
      "\n"
     ]
    },
    {
     "name": "stdout",
     "output_type": "stream",
     "text": [
      "Processing batch 136\n"
     ]
    },
    {
     "name": "stderr",
     "output_type": "stream",
     "text": [
      "Batches: 100%|██████████| 32/32 [00:24<00:00,  1.30it/s]\n",
      "\n"
     ]
    },
    {
     "name": "stdout",
     "output_type": "stream",
     "text": [
      "Processing batch 137\n"
     ]
    },
    {
     "name": "stderr",
     "output_type": "stream",
     "text": [
      "Batches: 100%|██████████| 32/32 [00:24<00:00,  1.31it/s]\n",
      "\n"
     ]
    },
    {
     "name": "stdout",
     "output_type": "stream",
     "text": [
      "Processing batch 138\n"
     ]
    },
    {
     "name": "stderr",
     "output_type": "stream",
     "text": [
      "Batches: 100%|██████████| 32/32 [00:24<00:00,  1.30it/s]\n",
      "Batches: 100%|██████████| 32/32 [00:24<00:00,  1.30it/s]\n"
     ]
    },
    {
     "name": "stdout",
     "output_type": "stream",
     "text": [
      "Processing batch 139\n"
     ]
    },
    {
     "name": "stderr",
     "output_type": "stream",
     "text": [
      "Batches: 100%|██████████| 32/32 [00:24<00:00,  1.32it/s]\n",
      "\n"
     ]
    },
    {
     "name": "stdout",
     "output_type": "stream",
     "text": [
      "Processing batch 140\n"
     ]
    },
    {
     "name": "stderr",
     "output_type": "stream",
     "text": [
      "Batches: 100%|██████████| 32/32 [00:24<00:00,  1.30it/s]\n",
      "\n"
     ]
    },
    {
     "name": "stdout",
     "output_type": "stream",
     "text": [
      "Processing batch 141\n"
     ]
    },
    {
     "name": "stderr",
     "output_type": "stream",
     "text": [
      "Batches: 100%|██████████| 32/32 [00:29<00:00,  1.07it/s]\n",
      "\n"
     ]
    },
    {
     "name": "stdout",
     "output_type": "stream",
     "text": [
      "Processing batch 142\n"
     ]
    },
    {
     "name": "stderr",
     "output_type": "stream",
     "text": [
      "Batches: 100%|██████████| 32/32 [00:25<00:00,  1.27it/s]\n",
      "\n"
     ]
    },
    {
     "name": "stdout",
     "output_type": "stream",
     "text": [
      "Processing batch 143\n"
     ]
    },
    {
     "name": "stderr",
     "output_type": "stream",
     "text": [
      "Batches: 100%|██████████| 32/32 [00:24<00:00,  1.32it/s]\n",
      "Batches: 100%|██████████| 32/32 [00:24<00:00,  1.32it/s]\n"
     ]
    },
    {
     "name": "stdout",
     "output_type": "stream",
     "text": [
      "Processing batch 144\n"
     ]
    },
    {
     "name": "stderr",
     "output_type": "stream",
     "text": [
      "Batches: 100%|██████████| 32/32 [00:24<00:00,  1.29it/s]\n",
      "\n"
     ]
    },
    {
     "name": "stdout",
     "output_type": "stream",
     "text": [
      "Processing batch 145\n"
     ]
    },
    {
     "name": "stderr",
     "output_type": "stream",
     "text": [
      "Batches: 100%|██████████| 32/32 [00:24<00:00,  1.31it/s]\n",
      "Batches: 100%|██████████| 32/32 [00:24<00:00,  1.31it/s]\n"
     ]
    },
    {
     "name": "stdout",
     "output_type": "stream",
     "text": [
      "Processing batch 146\n"
     ]
    },
    {
     "name": "stderr",
     "output_type": "stream",
     "text": [
      "Batches: 100%|██████████| 32/32 [00:26<00:00,  1.23it/s]\n",
      "\n"
     ]
    },
    {
     "name": "stdout",
     "output_type": "stream",
     "text": [
      "Processing batch 147\n"
     ]
    },
    {
     "name": "stderr",
     "output_type": "stream",
     "text": [
      "Batches: 100%|██████████| 32/32 [00:24<00:00,  1.30it/s]\n",
      "\n"
     ]
    },
    {
     "name": "stdout",
     "output_type": "stream",
     "text": [
      "Processing batch 148\n"
     ]
    },
    {
     "name": "stderr",
     "output_type": "stream",
     "text": [
      "Batches: 100%|██████████| 32/32 [00:24<00:00,  1.32it/s]\n",
      "\n"
     ]
    },
    {
     "name": "stdout",
     "output_type": "stream",
     "text": [
      "Processing batch 149\n"
     ]
    },
    {
     "name": "stderr",
     "output_type": "stream",
     "text": [
      "Batches: 100%|██████████| 32/32 [00:24<00:00,  1.31it/s]\n",
      "\n"
     ]
    },
    {
     "name": "stdout",
     "output_type": "stream",
     "text": [
      "Processing batch 150\n"
     ]
    },
    {
     "name": "stderr",
     "output_type": "stream",
     "text": [
      "Batches: 100%|██████████| 32/32 [00:24<00:00,  1.31it/s]\n",
      "\n"
     ]
    },
    {
     "name": "stdout",
     "output_type": "stream",
     "text": [
      "Processing batch 151\n"
     ]
    },
    {
     "name": "stderr",
     "output_type": "stream",
     "text": [
      "Batches: 100%|██████████| 32/32 [00:24<00:00,  1.31it/s]\n",
      "\n"
     ]
    },
    {
     "name": "stdout",
     "output_type": "stream",
     "text": [
      "Processing batch 152\n"
     ]
    },
    {
     "name": "stderr",
     "output_type": "stream",
     "text": [
      "Batches: 100%|██████████| 32/32 [00:24<00:00,  1.31it/s]\n",
      "\n"
     ]
    },
    {
     "name": "stdout",
     "output_type": "stream",
     "text": [
      "Processing batch 153\n"
     ]
    },
    {
     "name": "stderr",
     "output_type": "stream",
     "text": [
      "Batches: 100%|██████████| 32/32 [00:24<00:00,  1.31it/s]\n",
      "\n"
     ]
    },
    {
     "name": "stdout",
     "output_type": "stream",
     "text": [
      "Processing batch 154\n"
     ]
    },
    {
     "name": "stderr",
     "output_type": "stream",
     "text": [
      "Batches: 100%|██████████| 32/32 [00:24<00:00,  1.29it/s]\n",
      "\n"
     ]
    },
    {
     "name": "stdout",
     "output_type": "stream",
     "text": [
      "Processing batch 155\n"
     ]
    },
    {
     "name": "stderr",
     "output_type": "stream",
     "text": [
      "Batches: 100%|██████████| 32/32 [00:24<00:00,  1.30it/s]\n",
      "Batches: 100%|██████████| 32/32 [00:24<00:00,  1.30it/s]\n"
     ]
    },
    {
     "name": "stdout",
     "output_type": "stream",
     "text": [
      "Processing batch 156\n"
     ]
    },
    {
     "name": "stderr",
     "output_type": "stream",
     "text": [
      "Batches: 100%|██████████| 32/32 [00:24<00:00,  1.30it/s]\n",
      "\n"
     ]
    },
    {
     "name": "stdout",
     "output_type": "stream",
     "text": [
      "Processing batch 157\n"
     ]
    },
    {
     "name": "stderr",
     "output_type": "stream",
     "text": [
      "Batches: 100%|██████████| 32/32 [00:23<00:00,  1.34it/s]\n",
      "\n"
     ]
    },
    {
     "name": "stdout",
     "output_type": "stream",
     "text": [
      "Processing batch 158\n"
     ]
    },
    {
     "name": "stderr",
     "output_type": "stream",
     "text": [
      "Batches: 100%|██████████| 32/32 [00:24<00:00,  1.33it/s]\n",
      "\n"
     ]
    },
    {
     "name": "stdout",
     "output_type": "stream",
     "text": [
      "Processing batch 159\n"
     ]
    },
    {
     "name": "stderr",
     "output_type": "stream",
     "text": [
      "Batches: 100%|██████████| 32/32 [00:24<00:00,  1.31it/s]\n",
      "Batches: 100%|██████████| 32/32 [00:24<00:00,  1.31it/s]\n"
     ]
    },
    {
     "name": "stdout",
     "output_type": "stream",
     "text": [
      "Processing batch 160\n"
     ]
    },
    {
     "name": "stderr",
     "output_type": "stream",
     "text": [
      "Batches: 100%|██████████| 32/32 [00:24<00:00,  1.31it/s]\n",
      "Batches: 100%|██████████| 32/32 [00:24<00:00,  1.31it/s]\n"
     ]
    },
    {
     "name": "stdout",
     "output_type": "stream",
     "text": [
      "Processing batch 161\n"
     ]
    },
    {
     "name": "stderr",
     "output_type": "stream",
     "text": [
      "Batches: 100%|██████████| 32/32 [00:24<00:00,  1.32it/s]\n",
      "\n"
     ]
    },
    {
     "name": "stdout",
     "output_type": "stream",
     "text": [
      "Processing batch 162\n"
     ]
    },
    {
     "name": "stderr",
     "output_type": "stream",
     "text": [
      "Batches: 100%|██████████| 32/32 [00:24<00:00,  1.29it/s]\n",
      "Batches: 100%|██████████| 32/32 [00:24<00:00,  1.29it/s]\n"
     ]
    },
    {
     "name": "stdout",
     "output_type": "stream",
     "text": [
      "Processing batch 163\n"
     ]
    },
    {
     "name": "stderr",
     "output_type": "stream",
     "text": [
      "Batches: 100%|██████████| 32/32 [00:24<00:00,  1.33it/s]\n",
      "Batches: 100%|██████████| 32/32 [00:24<00:00,  1.33it/s]\n"
     ]
    },
    {
     "name": "stdout",
     "output_type": "stream",
     "text": [
      "Processing batch 164\n"
     ]
    },
    {
     "name": "stderr",
     "output_type": "stream",
     "text": [
      "Batches: 100%|██████████| 32/32 [00:24<00:00,  1.31it/s]\n",
      "Batches: 100%|██████████| 32/32 [00:24<00:00,  1.31it/s]\n"
     ]
    },
    {
     "name": "stdout",
     "output_type": "stream",
     "text": [
      "Processing batch 165\n"
     ]
    },
    {
     "name": "stderr",
     "output_type": "stream",
     "text": [
      "Batches: 100%|██████████| 32/32 [00:24<00:00,  1.33it/s]\n",
      "\n"
     ]
    },
    {
     "name": "stdout",
     "output_type": "stream",
     "text": [
      "Processing batch 166\n"
     ]
    },
    {
     "name": "stderr",
     "output_type": "stream",
     "text": [
      "Batches: 100%|██████████| 32/32 [00:24<00:00,  1.31it/s]\n",
      "\n"
     ]
    },
    {
     "name": "stdout",
     "output_type": "stream",
     "text": [
      "Processing batch 167\n"
     ]
    },
    {
     "name": "stderr",
     "output_type": "stream",
     "text": [
      "Batches: 100%|██████████| 32/32 [00:24<00:00,  1.30it/s]\n",
      "\n"
     ]
    },
    {
     "name": "stdout",
     "output_type": "stream",
     "text": [
      "Processing batch 168\n"
     ]
    },
    {
     "name": "stderr",
     "output_type": "stream",
     "text": [
      "Batches: 100%|██████████| 32/32 [00:24<00:00,  1.32it/s]\n",
      "Batches: 100%|██████████| 32/32 [00:24<00:00,  1.32it/s]\n"
     ]
    },
    {
     "name": "stdout",
     "output_type": "stream",
     "text": [
      "Processing batch 169\n"
     ]
    },
    {
     "name": "stderr",
     "output_type": "stream",
     "text": [
      "Batches: 100%|██████████| 32/32 [00:24<00:00,  1.29it/s]\n",
      "\n"
     ]
    },
    {
     "name": "stdout",
     "output_type": "stream",
     "text": [
      "Processing batch 170\n"
     ]
    },
    {
     "name": "stderr",
     "output_type": "stream",
     "text": [
      "Batches: 100%|██████████| 32/32 [00:24<00:00,  1.31it/s]\n",
      "\n"
     ]
    },
    {
     "name": "stdout",
     "output_type": "stream",
     "text": [
      "Processing batch 171\n"
     ]
    },
    {
     "name": "stderr",
     "output_type": "stream",
     "text": [
      "Batches: 100%|██████████| 21/21 [00:16<00:00,  1.28it/s]"
     ]
    },
    {
     "name": "stdout",
     "output_type": "stream",
     "text": [
      "Batch Nomic embeddings added to DataFrame.\n"
     ]
    },
    {
     "name": "stderr",
     "output_type": "stream",
     "text": [
      "\n"
     ]
    }
   ],
   "source": [
    "import json\n",
    "\n",
    "# Create JSON column for embedding input\n",
    "def row_to_json(row):\n",
    "    return json.dumps({col: row[col] for col in embedding_columns})\n",
    "\n",
    "df['embedding_json'] = df.apply(row_to_json, axis=1)\n",
    "\n",
    "# Batch embedding creation\n",
    "batch_size = 1000\n",
    "jsons = df['embedding_json'].tolist()\n",
    "embeddings = []\n",
    "for i in range(0, len(jsons), batch_size):\n",
    "    batch = jsons[i:i+batch_size]\n",
    "    print(f\"Processing batch {i//batch_size + 1}\")\n",
    "    batch_embeds = model.encode(batch, show_progress_bar=True)\n",
    "    embeddings.extend(batch_embeds)\n",
    "df['embedding'] = embeddings\n",
    "print(\"Batch Nomic embeddings added to DataFrame.\")"
   ]
  },
  {
   "cell_type": "code",
   "execution_count": 8,
   "id": "dc9f04b7",
   "metadata": {},
   "outputs": [
    {
     "data": {
      "text/html": [
       "<div>\n",
       "<style scoped>\n",
       "    .dataframe tbody tr th:only-of-type {\n",
       "        vertical-align: middle;\n",
       "    }\n",
       "\n",
       "    .dataframe tbody tr th {\n",
       "        vertical-align: top;\n",
       "    }\n",
       "\n",
       "    .dataframe thead th {\n",
       "        text-align: right;\n",
       "    }\n",
       "</style>\n",
       "<table border=\"1\" class=\"dataframe\">\n",
       "  <thead>\n",
       "    <tr style=\"text-align: right;\">\n",
       "      <th></th>\n",
       "      <th>valence</th>\n",
       "      <th>year</th>\n",
       "      <th>acousticness</th>\n",
       "      <th>artists</th>\n",
       "      <th>danceability</th>\n",
       "      <th>duration_ms</th>\n",
       "      <th>energy</th>\n",
       "      <th>explicit</th>\n",
       "      <th>id</th>\n",
       "      <th>instrumentalness</th>\n",
       "      <th>...</th>\n",
       "      <th>liveness</th>\n",
       "      <th>loudness</th>\n",
       "      <th>mode</th>\n",
       "      <th>name</th>\n",
       "      <th>popularity</th>\n",
       "      <th>release_date</th>\n",
       "      <th>speechiness</th>\n",
       "      <th>tempo</th>\n",
       "      <th>embedding_json</th>\n",
       "      <th>embedding</th>\n",
       "    </tr>\n",
       "  </thead>\n",
       "  <tbody>\n",
       "    <tr>\n",
       "      <th>0</th>\n",
       "      <td>0.0594</td>\n",
       "      <td>1921</td>\n",
       "      <td>0.98200</td>\n",
       "      <td>['Sergei Rachmaninoff', 'James Levine', 'Berli...</td>\n",
       "      <td>0.279</td>\n",
       "      <td>831667</td>\n",
       "      <td>0.211</td>\n",
       "      <td>0</td>\n",
       "      <td>4BJqT0PrAfrxzMOxytFOIz</td>\n",
       "      <td>0.878000</td>\n",
       "      <td>...</td>\n",
       "      <td>0.6650</td>\n",
       "      <td>-20.096</td>\n",
       "      <td>1</td>\n",
       "      <td>Piano Concerto No. 3 in D Minor, Op. 30: III. ...</td>\n",
       "      <td>4</td>\n",
       "      <td>1921</td>\n",
       "      <td>0.0366</td>\n",
       "      <td>80.954</td>\n",
       "      <td>{\"valence\": 0.0594, \"acousticness\": 0.982, \"da...</td>\n",
       "      <td>[-0.045071423, -0.1503082, -4.604198, -0.32863...</td>\n",
       "    </tr>\n",
       "    <tr>\n",
       "      <th>1</th>\n",
       "      <td>0.9630</td>\n",
       "      <td>1921</td>\n",
       "      <td>0.73200</td>\n",
       "      <td>['Dennis Day']</td>\n",
       "      <td>0.819</td>\n",
       "      <td>180533</td>\n",
       "      <td>0.341</td>\n",
       "      <td>0</td>\n",
       "      <td>7xPhfUan2yNtyFG0cUWkt8</td>\n",
       "      <td>0.000000</td>\n",
       "      <td>...</td>\n",
       "      <td>0.1600</td>\n",
       "      <td>-12.441</td>\n",
       "      <td>1</td>\n",
       "      <td>Clancy Lowered the Boom</td>\n",
       "      <td>5</td>\n",
       "      <td>1921</td>\n",
       "      <td>0.4150</td>\n",
       "      <td>60.936</td>\n",
       "      <td>{\"valence\": 0.963, \"acousticness\": 0.732, \"dan...</td>\n",
       "      <td>[0.0073481873, -0.075731, -4.574482, -0.353133...</td>\n",
       "    </tr>\n",
       "    <tr>\n",
       "      <th>2</th>\n",
       "      <td>0.0394</td>\n",
       "      <td>1921</td>\n",
       "      <td>0.96100</td>\n",
       "      <td>['KHP Kridhamardawa Karaton Ngayogyakarta Hadi...</td>\n",
       "      <td>0.328</td>\n",
       "      <td>500062</td>\n",
       "      <td>0.166</td>\n",
       "      <td>0</td>\n",
       "      <td>1o6I8BglA6ylDMrIELygv1</td>\n",
       "      <td>0.913000</td>\n",
       "      <td>...</td>\n",
       "      <td>0.1010</td>\n",
       "      <td>-14.850</td>\n",
       "      <td>1</td>\n",
       "      <td>Gati Bali</td>\n",
       "      <td>5</td>\n",
       "      <td>1921</td>\n",
       "      <td>0.0339</td>\n",
       "      <td>110.339</td>\n",
       "      <td>{\"valence\": 0.0394, \"acousticness\": 0.961, \"da...</td>\n",
       "      <td>[-0.0741878, -0.15236205, -4.5514393, -0.30073...</td>\n",
       "    </tr>\n",
       "    <tr>\n",
       "      <th>3</th>\n",
       "      <td>0.1650</td>\n",
       "      <td>1921</td>\n",
       "      <td>0.96700</td>\n",
       "      <td>['Frank Parker']</td>\n",
       "      <td>0.275</td>\n",
       "      <td>210000</td>\n",
       "      <td>0.309</td>\n",
       "      <td>0</td>\n",
       "      <td>3ftBPsC5vPBKxYSee08FDH</td>\n",
       "      <td>0.000028</td>\n",
       "      <td>...</td>\n",
       "      <td>0.3810</td>\n",
       "      <td>-9.316</td>\n",
       "      <td>1</td>\n",
       "      <td>Danny Boy</td>\n",
       "      <td>3</td>\n",
       "      <td>1921</td>\n",
       "      <td>0.0354</td>\n",
       "      <td>100.109</td>\n",
       "      <td>{\"valence\": 0.165, \"acousticness\": 0.967, \"dan...</td>\n",
       "      <td>[-0.109299876, -0.10954094, -4.4559555, -0.339...</td>\n",
       "    </tr>\n",
       "    <tr>\n",
       "      <th>4</th>\n",
       "      <td>0.2530</td>\n",
       "      <td>1921</td>\n",
       "      <td>0.95700</td>\n",
       "      <td>['Phil Regan']</td>\n",
       "      <td>0.418</td>\n",
       "      <td>166693</td>\n",
       "      <td>0.193</td>\n",
       "      <td>0</td>\n",
       "      <td>4d6HGyGT8e121BsdKmw9v6</td>\n",
       "      <td>0.000002</td>\n",
       "      <td>...</td>\n",
       "      <td>0.2290</td>\n",
       "      <td>-10.096</td>\n",
       "      <td>1</td>\n",
       "      <td>When Irish Eyes Are Smiling</td>\n",
       "      <td>2</td>\n",
       "      <td>1921</td>\n",
       "      <td>0.0380</td>\n",
       "      <td>101.665</td>\n",
       "      <td>{\"valence\": 0.253, \"acousticness\": 0.957, \"dan...</td>\n",
       "      <td>[-0.19379157, -0.11196786, -4.5607157, -0.2970...</td>\n",
       "    </tr>\n",
       "    <tr>\n",
       "      <th>...</th>\n",
       "      <td>...</td>\n",
       "      <td>...</td>\n",
       "      <td>...</td>\n",
       "      <td>...</td>\n",
       "      <td>...</td>\n",
       "      <td>...</td>\n",
       "      <td>...</td>\n",
       "      <td>...</td>\n",
       "      <td>...</td>\n",
       "      <td>...</td>\n",
       "      <td>...</td>\n",
       "      <td>...</td>\n",
       "      <td>...</td>\n",
       "      <td>...</td>\n",
       "      <td>...</td>\n",
       "      <td>...</td>\n",
       "      <td>...</td>\n",
       "      <td>...</td>\n",
       "      <td>...</td>\n",
       "      <td>...</td>\n",
       "      <td>...</td>\n",
       "    </tr>\n",
       "    <tr>\n",
       "      <th>170648</th>\n",
       "      <td>0.6080</td>\n",
       "      <td>2020</td>\n",
       "      <td>0.08460</td>\n",
       "      <td>['Anuel AA', 'Daddy Yankee', 'KAROL G', 'Ozuna...</td>\n",
       "      <td>0.786</td>\n",
       "      <td>301714</td>\n",
       "      <td>0.808</td>\n",
       "      <td>0</td>\n",
       "      <td>0KkIkfsLEJbrcIhYsCL7L5</td>\n",
       "      <td>0.000289</td>\n",
       "      <td>...</td>\n",
       "      <td>0.0822</td>\n",
       "      <td>-3.702</td>\n",
       "      <td>1</td>\n",
       "      <td>China</td>\n",
       "      <td>72</td>\n",
       "      <td>2020-05-29</td>\n",
       "      <td>0.0881</td>\n",
       "      <td>105.029</td>\n",
       "      <td>{\"valence\": 0.608, \"acousticness\": 0.0846, \"da...</td>\n",
       "      <td>[0.018091697, -0.025504714, -4.5616045, -0.336...</td>\n",
       "    </tr>\n",
       "    <tr>\n",
       "      <th>170649</th>\n",
       "      <td>0.7340</td>\n",
       "      <td>2020</td>\n",
       "      <td>0.20600</td>\n",
       "      <td>['Ashnikko']</td>\n",
       "      <td>0.717</td>\n",
       "      <td>150654</td>\n",
       "      <td>0.753</td>\n",
       "      <td>0</td>\n",
       "      <td>0OStKKAuXlxA0fMH54Qs6E</td>\n",
       "      <td>0.000000</td>\n",
       "      <td>...</td>\n",
       "      <td>0.1010</td>\n",
       "      <td>-6.020</td>\n",
       "      <td>1</td>\n",
       "      <td>Halloweenie III: Seven Days</td>\n",
       "      <td>68</td>\n",
       "      <td>2020-10-23</td>\n",
       "      <td>0.0605</td>\n",
       "      <td>137.936</td>\n",
       "      <td>{\"valence\": 0.7340000000000001, \"acousticness\"...</td>\n",
       "      <td>[0.0893945, -0.13040088, -4.576856, -0.2768545...</td>\n",
       "    </tr>\n",
       "    <tr>\n",
       "      <th>170650</th>\n",
       "      <td>0.6370</td>\n",
       "      <td>2020</td>\n",
       "      <td>0.10100</td>\n",
       "      <td>['MAMAMOO']</td>\n",
       "      <td>0.634</td>\n",
       "      <td>211280</td>\n",
       "      <td>0.858</td>\n",
       "      <td>0</td>\n",
       "      <td>4BZXVFYCb76Q0Klojq4piV</td>\n",
       "      <td>0.000009</td>\n",
       "      <td>...</td>\n",
       "      <td>0.2580</td>\n",
       "      <td>-2.226</td>\n",
       "      <td>0</td>\n",
       "      <td>AYA</td>\n",
       "      <td>76</td>\n",
       "      <td>2020-11-03</td>\n",
       "      <td>0.0809</td>\n",
       "      <td>91.688</td>\n",
       "      <td>{\"valence\": 0.637, \"acousticness\": 0.101, \"dan...</td>\n",
       "      <td>[-0.11824579, -0.08876313, -4.533818, -0.25961...</td>\n",
       "    </tr>\n",
       "    <tr>\n",
       "      <th>170651</th>\n",
       "      <td>0.1950</td>\n",
       "      <td>2020</td>\n",
       "      <td>0.00998</td>\n",
       "      <td>['Eminem']</td>\n",
       "      <td>0.671</td>\n",
       "      <td>337147</td>\n",
       "      <td>0.623</td>\n",
       "      <td>1</td>\n",
       "      <td>5SiZJoLXp3WOl3J4C8IK0d</td>\n",
       "      <td>0.000008</td>\n",
       "      <td>...</td>\n",
       "      <td>0.6430</td>\n",
       "      <td>-7.161</td>\n",
       "      <td>1</td>\n",
       "      <td>Darkness</td>\n",
       "      <td>70</td>\n",
       "      <td>2020-01-17</td>\n",
       "      <td>0.3080</td>\n",
       "      <td>75.055</td>\n",
       "      <td>{\"valence\": 0.195, \"acousticness\": 0.00998, \"d...</td>\n",
       "      <td>[-0.047601998, -0.18284361, -4.5687547, -0.298...</td>\n",
       "    </tr>\n",
       "    <tr>\n",
       "      <th>170652</th>\n",
       "      <td>0.6420</td>\n",
       "      <td>2020</td>\n",
       "      <td>0.13200</td>\n",
       "      <td>['KEVVO', 'J Balvin']</td>\n",
       "      <td>0.856</td>\n",
       "      <td>189507</td>\n",
       "      <td>0.721</td>\n",
       "      <td>1</td>\n",
       "      <td>7HmnJHfs0BkFzX4x8j0hkl</td>\n",
       "      <td>0.004710</td>\n",
       "      <td>...</td>\n",
       "      <td>0.1820</td>\n",
       "      <td>-4.928</td>\n",
       "      <td>1</td>\n",
       "      <td>Billetes Azules (with J Balvin)</td>\n",
       "      <td>74</td>\n",
       "      <td>2020-10-16</td>\n",
       "      <td>0.1080</td>\n",
       "      <td>94.991</td>\n",
       "      <td>{\"valence\": 0.642, \"acousticness\": 0.132, \"dan...</td>\n",
       "      <td>[-0.09777193, -0.121179804, -4.61954, -0.30473...</td>\n",
       "    </tr>\n",
       "  </tbody>\n",
       "</table>\n",
       "<p>170653 rows × 21 columns</p>\n",
       "</div>"
      ],
      "text/plain": [
       "        valence  year  acousticness  \\\n",
       "0        0.0594  1921       0.98200   \n",
       "1        0.9630  1921       0.73200   \n",
       "2        0.0394  1921       0.96100   \n",
       "3        0.1650  1921       0.96700   \n",
       "4        0.2530  1921       0.95700   \n",
       "...         ...   ...           ...   \n",
       "170648   0.6080  2020       0.08460   \n",
       "170649   0.7340  2020       0.20600   \n",
       "170650   0.6370  2020       0.10100   \n",
       "170651   0.1950  2020       0.00998   \n",
       "170652   0.6420  2020       0.13200   \n",
       "\n",
       "                                                  artists  danceability  \\\n",
       "0       ['Sergei Rachmaninoff', 'James Levine', 'Berli...         0.279   \n",
       "1                                          ['Dennis Day']         0.819   \n",
       "2       ['KHP Kridhamardawa Karaton Ngayogyakarta Hadi...         0.328   \n",
       "3                                        ['Frank Parker']         0.275   \n",
       "4                                          ['Phil Regan']         0.418   \n",
       "...                                                   ...           ...   \n",
       "170648  ['Anuel AA', 'Daddy Yankee', 'KAROL G', 'Ozuna...         0.786   \n",
       "170649                                       ['Ashnikko']         0.717   \n",
       "170650                                        ['MAMAMOO']         0.634   \n",
       "170651                                         ['Eminem']         0.671   \n",
       "170652                              ['KEVVO', 'J Balvin']         0.856   \n",
       "\n",
       "        duration_ms  energy  explicit                      id  \\\n",
       "0            831667   0.211         0  4BJqT0PrAfrxzMOxytFOIz   \n",
       "1            180533   0.341         0  7xPhfUan2yNtyFG0cUWkt8   \n",
       "2            500062   0.166         0  1o6I8BglA6ylDMrIELygv1   \n",
       "3            210000   0.309         0  3ftBPsC5vPBKxYSee08FDH   \n",
       "4            166693   0.193         0  4d6HGyGT8e121BsdKmw9v6   \n",
       "...             ...     ...       ...                     ...   \n",
       "170648       301714   0.808         0  0KkIkfsLEJbrcIhYsCL7L5   \n",
       "170649       150654   0.753         0  0OStKKAuXlxA0fMH54Qs6E   \n",
       "170650       211280   0.858         0  4BZXVFYCb76Q0Klojq4piV   \n",
       "170651       337147   0.623         1  5SiZJoLXp3WOl3J4C8IK0d   \n",
       "170652       189507   0.721         1  7HmnJHfs0BkFzX4x8j0hkl   \n",
       "\n",
       "        instrumentalness  ...  liveness  loudness  mode  \\\n",
       "0               0.878000  ...    0.6650   -20.096     1   \n",
       "1               0.000000  ...    0.1600   -12.441     1   \n",
       "2               0.913000  ...    0.1010   -14.850     1   \n",
       "3               0.000028  ...    0.3810    -9.316     1   \n",
       "4               0.000002  ...    0.2290   -10.096     1   \n",
       "...                  ...  ...       ...       ...   ...   \n",
       "170648          0.000289  ...    0.0822    -3.702     1   \n",
       "170649          0.000000  ...    0.1010    -6.020     1   \n",
       "170650          0.000009  ...    0.2580    -2.226     0   \n",
       "170651          0.000008  ...    0.6430    -7.161     1   \n",
       "170652          0.004710  ...    0.1820    -4.928     1   \n",
       "\n",
       "                                                     name popularity  \\\n",
       "0       Piano Concerto No. 3 in D Minor, Op. 30: III. ...          4   \n",
       "1                                 Clancy Lowered the Boom          5   \n",
       "2                                               Gati Bali          5   \n",
       "3                                               Danny Boy          3   \n",
       "4                             When Irish Eyes Are Smiling          2   \n",
       "...                                                   ...        ...   \n",
       "170648                                              China         72   \n",
       "170649                        Halloweenie III: Seven Days         68   \n",
       "170650                                                AYA         76   \n",
       "170651                                           Darkness         70   \n",
       "170652                    Billetes Azules (with J Balvin)         74   \n",
       "\n",
       "        release_date speechiness    tempo  \\\n",
       "0               1921      0.0366   80.954   \n",
       "1               1921      0.4150   60.936   \n",
       "2               1921      0.0339  110.339   \n",
       "3               1921      0.0354  100.109   \n",
       "4               1921      0.0380  101.665   \n",
       "...              ...         ...      ...   \n",
       "170648    2020-05-29      0.0881  105.029   \n",
       "170649    2020-10-23      0.0605  137.936   \n",
       "170650    2020-11-03      0.0809   91.688   \n",
       "170651    2020-01-17      0.3080   75.055   \n",
       "170652    2020-10-16      0.1080   94.991   \n",
       "\n",
       "                                           embedding_json  \\\n",
       "0       {\"valence\": 0.0594, \"acousticness\": 0.982, \"da...   \n",
       "1       {\"valence\": 0.963, \"acousticness\": 0.732, \"dan...   \n",
       "2       {\"valence\": 0.0394, \"acousticness\": 0.961, \"da...   \n",
       "3       {\"valence\": 0.165, \"acousticness\": 0.967, \"dan...   \n",
       "4       {\"valence\": 0.253, \"acousticness\": 0.957, \"dan...   \n",
       "...                                                   ...   \n",
       "170648  {\"valence\": 0.608, \"acousticness\": 0.0846, \"da...   \n",
       "170649  {\"valence\": 0.7340000000000001, \"acousticness\"...   \n",
       "170650  {\"valence\": 0.637, \"acousticness\": 0.101, \"dan...   \n",
       "170651  {\"valence\": 0.195, \"acousticness\": 0.00998, \"d...   \n",
       "170652  {\"valence\": 0.642, \"acousticness\": 0.132, \"dan...   \n",
       "\n",
       "                                                embedding  \n",
       "0       [-0.045071423, -0.1503082, -4.604198, -0.32863...  \n",
       "1       [0.0073481873, -0.075731, -4.574482, -0.353133...  \n",
       "2       [-0.0741878, -0.15236205, -4.5514393, -0.30073...  \n",
       "3       [-0.109299876, -0.10954094, -4.4559555, -0.339...  \n",
       "4       [-0.19379157, -0.11196786, -4.5607157, -0.2970...  \n",
       "...                                                   ...  \n",
       "170648  [0.018091697, -0.025504714, -4.5616045, -0.336...  \n",
       "170649  [0.0893945, -0.13040088, -4.576856, -0.2768545...  \n",
       "170650  [-0.11824579, -0.08876313, -4.533818, -0.25961...  \n",
       "170651  [-0.047601998, -0.18284361, -4.5687547, -0.298...  \n",
       "170652  [-0.09777193, -0.121179804, -4.61954, -0.30473...  \n",
       "\n",
       "[170653 rows x 21 columns]"
      ]
     },
     "execution_count": 8,
     "metadata": {},
     "output_type": "execute_result"
    }
   ],
   "source": [
    "df"
   ]
  },
  {
   "cell_type": "code",
   "execution_count": 9,
   "id": "80663516",
   "metadata": {},
   "outputs": [
    {
     "name": "stdout",
     "output_type": "stream",
     "text": [
      "DataFrame with embeddings saved to CSV.\n"
     ]
    }
   ],
   "source": [
    "df.to_csv('/Users/devyanigauri/Documents/GitHub/rhythmodoro/src/spotify_dataset_with_embeddings.csv', index=False)\n",
    "print(\"DataFrame with embeddings saved to CSV.\")"
   ]
  },
  {
   "cell_type": "code",
   "execution_count": 3,
   "id": "335814ff",
   "metadata": {},
   "outputs": [],
   "source": [
    "embedded_music_data = pd.read_csv('/Users/devyanigauri/Documents/GitHub/rhythmodoro/src/spotify_dataset_with_embeddings.csv')"
   ]
  },
  {
   "cell_type": "code",
   "execution_count": null,
   "id": "fafcaf5e",
   "metadata": {},
   "outputs": [
    {
     "data": {
      "text/plain": [
       "'[-4.50714231e-02 -1.50308207e-01 -4.60419798e+00 -3.28630447e-01\\n  4.81912345e-01  4.83927429e-01  9.68279481e-01  3.51697594e-01\\n -7.78256595e-01 -1.31623730e-01 -5.04605293e-01  1.78278196e+00\\n  3.27721477e-01  1.05301523e+00 -5.91609895e-01 -9.25122261e-01\\n -1.07802105e+00 -1.05986774e+00  3.72252792e-01  6.04006767e-01\\n -9.89788115e-01 -1.57479978e+00 -1.53587627e+00 -7.07414746e-01\\n  2.28120327e+00  1.70042253e+00 -3.14354867e-01  4.64295805e-01\\n  6.23310208e-02 -6.63552701e-01  2.13358179e-01 -6.79492354e-01\\n  1.06242359e+00  1.05392241e+00 -1.54053676e+00 -3.14550787e-01\\n -2.45892897e-01  8.44708264e-01  9.30151224e-01 -3.53472531e-02\\n  6.07331097e-01 -7.99949467e-01  8.78421664e-01  3.80431950e-01\\n  1.05354381e+00 -2.28832334e-01  1.03983951e+00 -4.74139631e-01\\n -9.75247547e-02  1.64906323e-01 -2.98518240e-01 -7.84355760e-01\\n  1.08925998e-01 -1.02904193e-01  2.62131095e+00  6.74720287e-01\\n -8.97888839e-01  3.98063481e-01 -1.38710812e-01  7.11673021e-01\\n  2.69109756e-01  6.37018919e-01 -2.55702019e-01  1.55537701e+00\\n  1.44514549e+00 -7.08618641e-01 -1.89942703e-01  8.81777167e-01\\n -7.17094898e-01 -4.53887761e-01  6.94073379e-01 -7.02420890e-01\\n -4.16216046e-01 -4.22561504e-02 -1.05113089e+00 -8.01734149e-01\\n -6.07001007e-01 -5.93616843e-01  5.70537925e-01 -3.47417109e-02\\n  1.01542495e-01 -8.15163553e-01  1.78767180e+00  2.31154889e-01\\n  1.96690285e+00 -9.54374611e-01  5.59067987e-02  1.47765994e-01\\n -4.16572750e-01  1.31656265e+00  7.11314261e-01  2.20306769e-01\\n  5.96473455e-01  4.31684673e-01 -7.93428957e-01 -2.30466481e-02\\n -2.12424219e-01  1.40605617e+00 -1.82582036e-01 -4.69743252e-01\\n -4.27044719e-01 -1.64249271e-01 -4.09166306e-01  2.18569208e-02\\n  1.03977144e+00  3.49440008e-01 -6.20636582e-01 -5.97840965e-01\\n -3.89554173e-01 -1.76316947e-01  8.88451710e-02  5.36496818e-01\\n  5.54519594e-02 -8.25251997e-01  2.16323376e-01 -7.00193167e-01\\n  9.62212861e-01 -1.02222431e+00 -5.97443998e-01  9.25064862e-01\\n  2.47104794e-01 -4.72444475e-01  1.39734745e-01  7.63340354e-01\\n -4.33411241e-01 -4.79546517e-01  2.21727937e-01  4.17416496e-03\\n -9.20611203e-01 -1.07728589e+00 -6.04924142e-01 -6.08296156e-01\\n -3.86959255e-01 -3.54967296e-01  8.04716825e-01  7.30473757e-01\\n -5.04723862e-02  1.69542328e-01 -3.25847536e-01  4.08269525e-01\\n  2.19897079e+00  3.28010410e-01 -2.58331805e-01 -7.10252762e-01\\n -1.17006731e+00 -1.38871145e+00  1.55511749e+00 -8.70272636e-01\\n -1.86963588e-01  6.53081059e-01  1.38056231e+00 -6.28425598e-01\\n  6.84345067e-02  1.60937339e-01 -3.06661427e-01 -1.27304482e+00\\n -2.58406430e-01  7.38649130e-01 -8.29301119e-01  1.11360943e+00\\n  1.15937471e+00 -8.77862796e-02 -6.53091893e-02  4.83216763e-01\\n  3.02008331e-01 -1.19095421e+00 -1.47660196e-01  1.32084572e+00\\n  8.65454599e-02  1.24832571e+00 -1.45992053e+00 -5.78250349e-01\\n  3.26934785e-01 -1.09289341e-01 -2.61834353e-01 -5.92034996e-01\\n  2.57731020e-01 -1.77118218e+00  4.21569357e-03 -2.44601950e-01\\n  1.05080235e+00 -8.97437453e-01  1.40856534e-01 -4.28150982e-01\\n -9.59168673e-01 -1.33182216e+00  6.14431083e-01 -1.12377882e+00\\n -8.04977775e-01  5.31148374e-01  3.84081006e-01 -7.13895587e-03\\n -1.06912363e+00 -6.79922581e-01  8.14582407e-02 -7.85561442e-01\\n  3.02165598e-01  5.25406241e-01 -3.47247481e-01 -6.77572370e-01\\n -6.13510787e-01 -1.67141929e-01  4.08720165e-01 -4.68273759e-01\\n -8.80263507e-01  1.44502831e+00  5.94611228e-01  3.92384470e-01\\n -3.13836664e-01  6.35883272e-01  1.31724334e+00  3.53656821e-02\\n -1.03810532e-02 -1.39885947e-01  1.59719229e-01 -9.48255777e-01\\n -3.46845746e-01 -1.22198784e+00  1.31635025e-01  5.39564252e-01\\n -2.14720562e-01 -5.11128545e-01  5.73243380e-01  7.83666432e-01\\n -3.63093168e-02 -1.35368556e-01 -7.01435030e-01  6.70750618e-01\\n -4.34098721e-01  8.29486176e-02  1.97857320e-01 -1.48220015e+00\\n  1.06530678e+00  6.10914052e-01 -4.88417357e-01  6.18670523e-01\\n  4.15852219e-01  4.57959861e-01 -4.77764934e-01  5.32043636e-01\\n  3.97578686e-01  6.08719528e-01  2.28225157e-01 -5.67081809e-01\\n  4.49794307e-02 -1.44934997e-01 -8.02285910e-01 -8.07395279e-01\\n -9.17530060e-03  8.07142794e-01 -7.35240996e-01 -5.02829254e-01\\n  4.57512528e-01  5.86190462e-01  1.06076801e+00 -3.97860259e-01\\n -2.70412564e-01  7.18513250e-01  2.10288733e-01  1.64040223e-01\\n  6.67296171e-01 -1.47040915e+00  5.58306754e-01 -9.96576011e-01\\n -1.05893743e+00 -3.67953748e-01 -4.53055412e-01  2.44983844e-02\\n -1.92629531e-01 -2.24571139e-01  3.59104782e-01  6.98620617e-01\\n  4.51864272e-01  1.13420963e+00 -1.01949379e-01 -1.26427323e-01\\n  2.54757881e-01  2.35134244e-01 -5.64080358e-01  1.87922910e-01\\n -5.19111693e-01  3.64555985e-01  3.77781726e-02  4.94692326e-01\\n  1.84397057e-01  1.05421567e+00  1.28126037e+00  5.12762427e-01\\n  3.36017579e-01  9.01938796e-01  5.46930015e-01 -5.49371429e-02\\n -1.18444495e-01  1.10676849e+00  3.21992710e-02  3.39530110e-02\\n  1.10812795e+00 -5.00223339e-01  1.10447145e+00 -1.18967021e+00\\n  1.11530507e+00  1.01243520e+00  1.26343763e+00  6.96888804e-01\\n -1.47787321e+00 -3.59920740e-01 -2.02253655e-01  3.35879177e-01\\n  1.26920843e+00 -4.14547265e-01 -1.38536572e+00 -1.83139294e-01\\n -1.09470069e+00  7.04335347e-02 -3.41565967e-01 -8.33727181e-01\\n  6.94820046e-01  6.68822885e-01  3.92043173e-01 -2.81526566e-01\\n  3.55212957e-01 -1.46463287e+00  6.83595181e-01 -1.01359022e+00\\n  2.90715992e-01  1.05802941e+00  5.71895540e-01  8.96754742e-01\\n -3.59905452e-01 -6.93530917e-01  5.94944060e-01  5.69910407e-01\\n -1.26434654e-01 -3.01738203e-01 -7.61148810e-01  5.90908349e-01\\n -5.73244616e-02  1.33689895e-01 -8.71694982e-02  8.37643981e-01\\n -3.57710458e-02 -2.56557524e-01  9.05132890e-02 -6.08888209e-01\\n -9.80135083e-01 -1.99632078e-01 -1.37742078e+00 -3.32066327e-01\\n  2.11568773e-01  7.87622631e-01 -4.22597289e-01 -9.72443640e-01\\n -2.71489084e-01  5.81288874e-01  1.92705601e-01 -1.13780987e+00\\n  6.43894434e-01  3.90015811e-01 -4.20839250e-01  3.27249348e-01\\n  5.37122786e-01 -6.33252800e-01 -1.21093899e-01 -1.95592988e+00\\n -3.35066646e-01  1.47446603e-01  2.61254579e-01  3.39226127e-01\\n -3.82179350e-01  8.57034266e-01 -3.37987453e-01 -8.26912701e-01\\n -1.07972717e+00 -1.49417803e-01 -4.17249322e-01 -7.71012604e-01\\n -2.12860084e+00 -1.09718478e+00 -1.71904171e+00  7.13518977e-01\\n  4.33117956e-01 -4.91894744e-02  7.30321169e-01  9.84415770e-01\\n  2.66515911e-01 -3.59059125e-01 -6.86711729e-01 -2.13943142e-02\\n  3.57492685e-01 -7.22602904e-01 -9.01666343e-01 -5.36097288e-01\\n -9.03245807e-01 -4.77263063e-01 -1.26818225e-01 -1.19126356e+00\\n  1.04415822e+00 -1.79318458e-01 -1.06135285e+00  1.65784299e+00\\n -7.52353728e-01 -8.62392068e-01  4.12954003e-01  3.58633786e-01\\n  4.52318072e-01  6.18335068e-01 -5.27594864e-01 -3.83057952e-01\\n  1.08232290e-01  7.52229318e-02 -1.07518204e-01  1.25884914e+00\\n  1.07308291e-01 -1.18788815e+00 -7.93512642e-01  1.13807917e+00\\n  3.17143023e-01 -7.45383382e-01  5.68284094e-01 -1.23321593e-01\\n  1.95553493e+00  1.74781084e+00  2.05012858e-01 -9.35508385e-02\\n  5.87590575e-01  8.31820369e-01  9.17528987e-01  8.12668085e-01\\n -7.86390007e-01 -2.55959153e-01  1.11493695e+00 -2.00572293e-02\\n  9.15788531e-01 -9.49465334e-02 -6.84876204e-01  8.61918211e-01\\n  3.03824484e-01  1.07676363e+00  6.16113544e-01  1.38874471e+00\\n -3.41062725e-01 -8.77605081e-01 -2.09500477e-01  1.57919481e-01\\n  6.10972703e-01  1.13427448e+00  8.80321622e-01 -1.47404897e+00\\n  1.17566749e-01  6.66032255e-01  5.61385989e-01  6.18302763e-01\\n  1.01950921e-01 -9.60881785e-02  1.22961438e+00 -1.04023612e+00\\n  1.66929156e-01  7.65302241e-01  9.90165845e-02  6.34423792e-01\\n -4.14900342e-03  1.27916187e-01 -1.78485513e+00 -4.12842393e-01\\n -1.08002439e-01  3.58190179e-01  3.06503922e-01 -5.14988005e-01\\n -1.48633942e-01  1.39211369e+00 -2.80379653e-02 -2.62471825e-01\\n  1.80536836e-01 -4.76943374e-01 -9.67283309e-01 -2.24086672e-01\\n -5.10378003e-01 -5.28700292e-01 -2.03062728e-01  6.71323776e-01\\n  9.34911191e-01  3.18469405e-01 -1.03135526e+00  1.94081604e-01\\n -1.36603154e-02  1.07851100e+00 -5.49397707e-01 -2.79761821e-01\\n  7.03407705e-01  7.97752857e-01  2.24951878e-01  1.27995849e+00\\n  8.01263154e-02 -1.20258641e+00 -2.48708501e-01 -1.57895181e-02\\n -1.82809249e-01 -6.83310270e-01 -2.47291252e-02  6.07001901e-01\\n -5.20217657e-01  3.51416558e-01 -1.94273442e-01  1.19312905e-01\\n  4.33080643e-01  1.01208784e-01 -5.73470257e-02 -1.32100594e+00\\n -6.23372436e-01  1.02971435e-01  5.35252512e-01  1.18648008e-01\\n  3.18736106e-01  7.59578168e-01  6.07783377e-01 -6.52411640e-01\\n  5.40590286e-01  1.06694984e+00 -3.46907020e-01  1.54426122e+00\\n  9.91185129e-01 -1.25188971e+00 -8.86498868e-01 -1.24122572e+00\\n -1.43952477e+00  3.73388439e-01  4.76277530e-01 -1.89374590e+00\\n  7.86552250e-01 -3.65516730e-02 -9.77397561e-02 -2.38898359e-02\\n -9.17205866e-03 -2.57423818e-01 -6.33099616e-01 -9.67671812e-01\\n -1.11082780e+00  4.70980912e-01 -2.45236024e-01  1.04784262e+00\\n -9.57870007e-01 -4.06260192e-01 -1.22487330e+00  1.31213129e-01\\n  8.62615883e-01  5.09851635e-01 -7.10455060e-01  3.86383563e-01\\n -6.83309972e-01 -1.26313484e+00  5.75161912e-02 -3.88234705e-01\\n  8.96870375e-01 -1.51376474e+00  8.48320067e-01 -2.10147396e-01\\n -1.00350130e+00  1.87057033e-01 -1.25012040e+00 -1.06385183e+00\\n  6.89695835e-01 -6.58262610e-01  7.68819869e-01  7.96717048e-01\\n  1.06926060e+00 -6.44570649e-01 -1.22761317e-01 -7.76854679e-02\\n -1.39731228e-01  7.61914909e-01  4.85670984e-01 -4.20905650e-01\\n  4.95647728e-01 -5.79807758e-01 -4.60575134e-01 -8.81044790e-02\\n -3.29105705e-01 -9.70599651e-01 -8.97176027e-01 -5.60630023e-01\\n -5.68286441e-02 -1.30057418e+00  1.45439908e-01  9.64404583e-01\\n  8.55522394e-01 -8.83287564e-02  3.49615782e-01 -1.58101559e-01\\n -6.06114745e-01 -5.31687796e-01  1.18719175e-01 -5.12532175e-01\\n -4.05809022e-02 -8.50159168e-01  6.02069497e-01  5.15378490e-02\\n -4.04681236e-01 -1.25905621e+00 -6.10969484e-01 -9.23311353e-01\\n  1.64303255e+00  6.12317204e-01  2.06409872e-01 -1.30017364e+00\\n  8.23901176e-01  7.63464630e-01  1.36869317e-02  9.76277947e-01\\n -1.95573974e+00 -2.60108620e-01  3.41769516e-01  1.12018120e+00\\n  8.61310184e-01 -9.80338573e-01  2.68588066e-01 -3.22192729e-01\\n  2.27056456e+00 -5.77203035e-01  3.14137757e-01  4.40667272e-02\\n -6.43988729e-01 -1.39908361e+00  2.40793157e+00  7.77516291e-02\\n  1.14680648e+00 -9.70540047e-01 -8.06948662e-01  7.12528750e-02\\n  5.21121826e-03  3.00368249e-01 -5.49687445e-01  5.09331107e-01\\n -1.15178116e-01  1.14832532e+00 -1.15200388e+00  4.89520431e-01\\n -3.26567702e-02  4.59199220e-01  2.35206351e-01  1.92903149e+00\\n  3.39256823e-01  6.35810435e-01 -3.33815098e-01  9.66510653e-01\\n  7.28613019e-01 -1.35050046e+00  8.35575819e-01  1.40382886e+00\\n  1.71858704e+00 -9.18586791e-01  1.58398974e+00  5.16585827e-01\\n  1.46476865e+00  5.79891920e-01 -6.13605142e-01  3.17016572e-01\\n -3.47391874e-01 -3.88541162e-01  7.27106094e-01 -2.39071622e-01\\n -2.35776842e-01  7.79156433e-03 -2.16412097e-02  8.15020740e-01\\n  8.57527852e-01 -4.62603085e-02  5.60470760e-01 -2.03857422e-01\\n -2.78332472e-01 -2.24094301e-01  1.77662647e+00 -5.51579177e-01\\n  8.38390216e-02 -9.64769483e-01 -6.20102346e-01  2.19120070e-01\\n  5.43960333e-01  1.57843828e-01  4.95539486e-01 -1.05548993e-01\\n  1.56650208e-02 -2.82945454e-01  7.04651535e-01  1.20009191e-01\\n  1.10021435e-01 -1.09605640e-01 -6.94870412e-01 -8.81825566e-01\\n -3.69085163e-01 -4.95751798e-01 -8.64801705e-01 -1.62525773e-01\\n  1.18008204e-01  1.61008567e-01 -3.36424053e-01 -1.26003116e-01\\n -2.50029773e-01 -1.01557247e-01 -1.06666684e+00  1.69593894e+00\\n -2.07472429e-01  9.99207318e-01  8.78732145e-01  9.98422980e-01\\n -6.93668485e-01 -1.74628824e-01  9.82084811e-01 -7.06838667e-01\\n -7.04473138e-01 -8.31092060e-01 -4.53522950e-01  7.02481389e-01\\n -1.07769144e+00  1.31846631e+00  1.67320156e+00  8.36103857e-01\\n -1.42898962e-01 -1.04728293e+00 -7.63605654e-01  7.81074107e-01\\n  1.29513144e+00 -4.08085167e-01 -6.59761846e-01 -4.18717176e-01\\n  3.38510364e-01 -8.90844762e-01  7.41170347e-01 -7.81489462e-02\\n  2.94719160e-01 -2.03924075e-01 -3.82105052e-01  3.43611747e-01\\n -1.01012266e+00  7.59547889e-01 -1.52529609e+00  3.71160239e-01\\n  8.45616281e-01  1.64134705e+00 -9.93077099e-01  4.44427907e-01\\n -6.60959601e-01  1.48824289e-01  5.97675204e-01  4.27396119e-01\\n -4.66362178e-01 -8.15105557e-01 -6.64714336e-01  1.72279263e+00\\n -1.65338293e-01 -8.65895271e-01  2.42983580e-01 -6.70900106e-01\\n -1.13103652e+00  7.34668612e-01 -4.19548959e-01  4.74632978e-01\\n  9.27824080e-01  5.09209573e-01  1.68635011e+00 -3.99951220e-01\\n  3.07422400e-01 -9.58993495e-01  5.61491430e-01 -2.81249791e-01\\n -1.34009314e+00 -6.87568262e-02 -1.07742739e+00 -1.06885993e+00]'"
      ]
     },
     "execution_count": 18,
     "metadata": {},
     "output_type": "execute_result"
    }
   ],
   "source": [
    "embedded_music_data[:1]['embedding'].values[0]"
   ]
  },
  {
   "cell_type": "code",
   "execution_count": 24,
   "id": "b08d1c61",
   "metadata": {},
   "outputs": [],
   "source": [
    "import numpy as np\n",
    "\n",
    "def np_str_to_list(emb):\n",
    "    if isinstance(emb, str):\n",
    "        # Remove brackets and split by whitespace\n",
    "        emb = emb.strip('[]')\n",
    "        # Split by whitespace and convert to float\n",
    "        return [float(x) for x in emb.split()]\n",
    "    return emb  # Already a list or array\n",
    "embedded_music_data['embedding'] = embedded_music_data['embedding'].apply(np_str_to_list)"
   ]
  },
  {
   "cell_type": "code",
   "execution_count": null,
   "id": "72ae47b0",
   "metadata": {},
   "outputs": [
    {
     "data": {
      "text/plain": [
       "['embedded_music_data']"
      ]
     },
     "execution_count": 46,
     "metadata": {},
     "output_type": "execute_result"
    }
   ],
   "source": [
    "# from pymilvus import list_collections\n",
    "# list_collections()"
   ]
  },
  {
   "cell_type": "code",
   "execution_count": null,
   "id": "7d5e51cb",
   "metadata": {},
   "outputs": [
    {
     "name": "stdout",
     "output_type": "stream",
     "text": [
      "Dropping collection: embedded_music_data\n"
     ]
    }
   ],
   "source": [
    "# from pymilvus import Collection, list_collections\n",
    "\n",
    "# for name in list_collections():\n",
    "#     print(f\"Dropping collection: {name}\")\n",
    "#     Collection(name).drop()"
   ]
  },
  {
   "cell_type": "code",
   "execution_count": 48,
   "id": "bd33e652",
   "metadata": {},
   "outputs": [
    {
     "name": "stdout",
     "output_type": "stream",
     "text": [
      "Milvus collection 'embedded_music_data' created.\n"
     ]
    }
   ],
   "source": [
    "# Define metadata fields\n",
    "fields = [\n",
    "    FieldSchema(name=\"id\", dtype=DataType.VARCHAR, is_primary=True, auto_id=False, max_length=64),\n",
    "    FieldSchema(name=\"name\", dtype=DataType.VARCHAR, max_length=256),\n",
    "    FieldSchema(name=\"artists\", dtype=DataType.VARCHAR, max_length=1000),\n",
    "    FieldSchema(name=\"year\", dtype=DataType.INT64),\n",
    "    FieldSchema(name=\"release_date\", dtype=DataType.VARCHAR, max_length=32),\n",
    "    FieldSchema(name=\"explicit\", dtype=DataType.BOOL),\n",
    "    FieldSchema(name=\"popularity\", dtype=DataType.INT64),\n",
    "    FieldSchema(name=\"duration_ms\", dtype=DataType.INT64),\n",
    "    FieldSchema(name=\"key\", dtype=DataType.INT64),\n",
    "    FieldSchema(name=\"mode\", dtype=DataType.INT64),\n",
    "    FieldSchema(name=\"embedding_json\", dtype=DataType.VARCHAR, max_length=2048),\n",
    "    FieldSchema(\n",
    "        name=\"embedding\",\n",
    "        dtype=DataType.FLOAT_VECTOR,\n",
    "        dim=768 # assumes all embeddings have same length\n",
    "    ),\n",
    "]\n",
    "\n",
    "schema = CollectionSchema(fields, description=\"Music tracks with metadata and Nomic embeddings\")\n",
    "\n",
    "# Create the collection with 2 shards for better distribution\n",
    "collection = Collection(\n",
    "    name=\"embedded_music_data\",\n",
    "    schema=schema,\n",
    "    using=\"default\",\n",
    "    shards_num=2\n",
    ")\n",
    "\n",
    "print(\"Milvus collection 'embedded_music_data' created.\")"
   ]
  },
  {
   "cell_type": "code",
   "execution_count": 50,
   "id": "601301ee",
   "metadata": {},
   "outputs": [
    {
     "name": "stdout",
     "output_type": "stream",
     "text": [
      "Inserted rows 0 to 1000\n",
      "Inserted rows 1000 to 2000\n",
      "Inserted rows 2000 to 3000\n",
      "Inserted rows 3000 to 4000\n",
      "Inserted rows 4000 to 5000\n",
      "Inserted rows 5000 to 6000\n",
      "Inserted rows 6000 to 7000\n",
      "Inserted rows 7000 to 8000\n",
      "Inserted rows 8000 to 9000\n",
      "Inserted rows 9000 to 10000\n",
      "Inserted rows 10000 to 11000\n",
      "Inserted rows 11000 to 12000\n",
      "Inserted rows 12000 to 13000\n",
      "Inserted rows 13000 to 14000\n",
      "Inserted rows 14000 to 15000\n",
      "Inserted rows 15000 to 16000\n",
      "Inserted rows 16000 to 17000\n",
      "Inserted rows 17000 to 18000\n",
      "Inserted rows 18000 to 19000\n",
      "Inserted rows 19000 to 20000\n",
      "Inserted rows 20000 to 21000\n",
      "Inserted rows 21000 to 22000\n",
      "Inserted rows 22000 to 23000\n",
      "Inserted rows 23000 to 24000\n",
      "Inserted rows 24000 to 25000\n",
      "Inserted rows 25000 to 26000\n",
      "Inserted rows 26000 to 27000\n",
      "Inserted rows 27000 to 28000\n",
      "Inserted rows 28000 to 29000\n",
      "Inserted rows 29000 to 30000\n",
      "Inserted rows 30000 to 31000\n",
      "Inserted rows 31000 to 32000\n",
      "Inserted rows 32000 to 33000\n",
      "Inserted rows 33000 to 34000\n",
      "Inserted rows 34000 to 35000\n",
      "Inserted rows 35000 to 36000\n",
      "Inserted rows 36000 to 37000\n",
      "Inserted rows 37000 to 38000\n",
      "Inserted rows 38000 to 39000\n",
      "Inserted rows 39000 to 40000\n",
      "Inserted rows 40000 to 41000\n",
      "Inserted rows 41000 to 42000\n",
      "Inserted rows 42000 to 43000\n",
      "Inserted rows 43000 to 44000\n",
      "Inserted rows 44000 to 45000\n",
      "Inserted rows 45000 to 46000\n",
      "Inserted rows 46000 to 47000\n",
      "Inserted rows 47000 to 48000\n",
      "Inserted rows 48000 to 49000\n",
      "Inserted rows 49000 to 50000\n",
      "Inserted rows 50000 to 51000\n",
      "Inserted rows 51000 to 52000\n",
      "Inserted rows 52000 to 53000\n",
      "Inserted rows 53000 to 54000\n",
      "Inserted rows 54000 to 55000\n",
      "Inserted rows 55000 to 56000\n",
      "Inserted rows 56000 to 57000\n",
      "Inserted rows 57000 to 58000\n",
      "Inserted rows 58000 to 59000\n",
      "Inserted rows 59000 to 60000\n",
      "Inserted rows 60000 to 61000\n",
      "Inserted rows 61000 to 62000\n",
      "Inserted rows 62000 to 63000\n",
      "Inserted rows 63000 to 64000\n",
      "Inserted rows 64000 to 65000\n",
      "Inserted rows 65000 to 66000\n",
      "Inserted rows 66000 to 67000\n",
      "Inserted rows 67000 to 68000\n",
      "Inserted rows 68000 to 69000\n",
      "Inserted rows 69000 to 70000\n",
      "Inserted rows 70000 to 71000\n",
      "Inserted rows 71000 to 72000\n",
      "Inserted rows 72000 to 73000\n",
      "Inserted rows 73000 to 74000\n",
      "Inserted rows 74000 to 75000\n",
      "Inserted rows 75000 to 76000\n",
      "Inserted rows 76000 to 77000\n",
      "Inserted rows 77000 to 78000\n",
      "Inserted rows 78000 to 79000\n",
      "Inserted rows 79000 to 80000\n",
      "Inserted rows 80000 to 81000\n",
      "Inserted rows 81000 to 82000\n",
      "Inserted rows 82000 to 83000\n",
      "Inserted rows 83000 to 84000\n",
      "Inserted rows 84000 to 85000\n",
      "Inserted rows 85000 to 86000\n",
      "Inserted rows 86000 to 87000\n",
      "Inserted rows 87000 to 88000\n",
      "Inserted rows 88000 to 89000\n",
      "Inserted rows 89000 to 90000\n",
      "Inserted rows 90000 to 91000\n",
      "Inserted rows 91000 to 92000\n",
      "Inserted rows 92000 to 93000\n",
      "Inserted rows 93000 to 94000\n",
      "Inserted rows 94000 to 95000\n",
      "Inserted rows 95000 to 96000\n",
      "Inserted rows 96000 to 97000\n",
      "Inserted rows 97000 to 98000\n",
      "Inserted rows 98000 to 99000\n",
      "Inserted rows 99000 to 100000\n",
      "Inserted rows 100000 to 101000\n",
      "Inserted rows 101000 to 102000\n",
      "Inserted rows 102000 to 103000\n",
      "Inserted rows 103000 to 104000\n",
      "Inserted rows 104000 to 105000\n",
      "Inserted rows 105000 to 106000\n",
      "Inserted rows 106000 to 107000\n",
      "Inserted rows 107000 to 108000\n",
      "Inserted rows 108000 to 109000\n",
      "Inserted rows 109000 to 110000\n",
      "Inserted rows 110000 to 111000\n",
      "Inserted rows 111000 to 112000\n",
      "Inserted rows 112000 to 113000\n",
      "Inserted rows 113000 to 114000\n",
      "Inserted rows 114000 to 115000\n",
      "Inserted rows 115000 to 116000\n",
      "Inserted rows 116000 to 117000\n",
      "Inserted rows 117000 to 118000\n",
      "Inserted rows 118000 to 119000\n",
      "Inserted rows 119000 to 120000\n",
      "Inserted rows 120000 to 121000\n",
      "Inserted rows 121000 to 122000\n",
      "Inserted rows 122000 to 123000\n",
      "Inserted rows 123000 to 124000\n",
      "Inserted rows 124000 to 125000\n",
      "Inserted rows 125000 to 126000\n",
      "Inserted rows 126000 to 127000\n",
      "Inserted rows 127000 to 128000\n",
      "Inserted rows 128000 to 129000\n",
      "Inserted rows 129000 to 130000\n",
      "Inserted rows 130000 to 131000\n",
      "Inserted rows 131000 to 132000\n",
      "Inserted rows 132000 to 133000\n",
      "Inserted rows 133000 to 134000\n",
      "Inserted rows 134000 to 135000\n",
      "Inserted rows 135000 to 136000\n",
      "Inserted rows 136000 to 137000\n",
      "Inserted rows 137000 to 138000\n",
      "Inserted rows 138000 to 139000\n",
      "Inserted rows 139000 to 140000\n",
      "Inserted rows 140000 to 141000\n",
      "Inserted rows 141000 to 142000\n",
      "Inserted rows 142000 to 143000\n",
      "Inserted rows 143000 to 144000\n",
      "Inserted rows 144000 to 145000\n",
      "Inserted rows 145000 to 146000\n",
      "Inserted rows 146000 to 147000\n",
      "Inserted rows 147000 to 148000\n",
      "Inserted rows 148000 to 149000\n",
      "Inserted rows 149000 to 150000\n",
      "Inserted rows 150000 to 151000\n",
      "Inserted rows 151000 to 152000\n",
      "Inserted rows 152000 to 153000\n",
      "Inserted rows 153000 to 154000\n",
      "Inserted rows 154000 to 155000\n",
      "Inserted rows 155000 to 156000\n",
      "Inserted rows 156000 to 157000\n",
      "Inserted rows 157000 to 158000\n",
      "Inserted rows 158000 to 159000\n",
      "Inserted rows 159000 to 160000\n",
      "Inserted rows 160000 to 161000\n",
      "Inserted rows 161000 to 162000\n",
      "Inserted rows 162000 to 163000\n",
      "Inserted rows 163000 to 164000\n",
      "Inserted rows 164000 to 165000\n",
      "Inserted rows 165000 to 166000\n",
      "Inserted rows 166000 to 167000\n",
      "Inserted rows 167000 to 168000\n",
      "Inserted rows 168000 to 169000\n",
      "Inserted rows 169000 to 170000\n",
      "Inserted rows 170000 to 170653\n",
      "All data inserted into Milvus.\n"
     ]
    }
   ],
   "source": [
    "# Load the collection\n",
    "collection = Collection(\"embedded_music_data\")\n",
    "\n",
    "# Prepare data for insertion\n",
    "batch_size = 1000\n",
    "num_rows = len(embedded_music_data)\n",
    "\n",
    "for start in range(0, num_rows, batch_size):\n",
    "    end = min(start + batch_size, num_rows)\n",
    "    batch = embedded_music_data.iloc[start:end]\n",
    "    # Prepare data in the order of your schema\n",
    "    data = [\n",
    "        batch[\"id\"].tolist(),\n",
    "        batch[\"name\"].tolist(),\n",
    "        batch[\"artists\"].tolist(),\n",
    "        batch[\"year\"].tolist(),\n",
    "        batch[\"release_date\"].tolist(),\n",
    "        batch[\"explicit\"].tolist(),\n",
    "        batch[\"popularity\"].tolist(),\n",
    "        batch[\"duration_ms\"].tolist(),\n",
    "        batch[\"key\"].tolist(),\n",
    "        batch[\"mode\"].tolist(),\n",
    "        batch[\"embedding_json\"].tolist(),\n",
    "        [emb for emb in batch[\"embedding\"]]\n",
    "    ]\n",
    "    collection.insert(data)\n",
    "    print(f\"Inserted rows {start} to {end}\")\n",
    "\n",
    "print(\"All data inserted into Milvus.\")"
   ]
  },
  {
   "cell_type": "code",
   "execution_count": 51,
   "id": "e45beb5b",
   "metadata": {},
   "outputs": [
    {
     "data": {
      "text/plain": [
       "Status(code=0, message=)"
      ]
     },
     "execution_count": 51,
     "metadata": {},
     "output_type": "execute_result"
    }
   ],
   "source": [
    "index_params = {\n",
    "    \"metric_type\": \"IP\",  # Use Inner Product (cosine similarity) for semantic/music embeddings\n",
    "    \"index_type\": \"HNSW\", # Number of bi-directional links per node (8 is a good balance of accuracy and memory for this dataset size)\n",
    "    \"params\": {\"M\": 8, \"efConstruction\": 64} # Controls index build accuracy/speed (64 for good recall and reasonable build time)\n",
    "}\n",
    "collection.create_index(field_name=\"embedding\", index_params=index_params)"
   ]
  },
  {
   "cell_type": "code",
   "execution_count": 52,
   "id": "8ec7636a",
   "metadata": {},
   "outputs": [],
   "source": [
    "connections.disconnect(alias=\"default\")"
   ]
  },
  {
   "cell_type": "code",
   "execution_count": null,
   "id": "4606fa5a",
   "metadata": {},
   "outputs": [],
   "source": []
  }
 ],
 "metadata": {
  "kernelspec": {
   "display_name": "rhythmodoro_env",
   "language": "python",
   "name": "python3"
  },
  "language_info": {
   "codemirror_mode": {
    "name": "ipython",
    "version": 3
   },
   "file_extension": ".py",
   "mimetype": "text/x-python",
   "name": "python",
   "nbconvert_exporter": "python",
   "pygments_lexer": "ipython3",
   "version": "3.13.3"
  }
 },
 "nbformat": 4,
 "nbformat_minor": 5
}
