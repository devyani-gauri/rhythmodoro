{
 "cells": [
  {
   "cell_type": "code",
   "execution_count": 59,
   "id": "89137d2b",
   "metadata": {},
   "outputs": [
    {
     "name": "stdout",
     "output_type": "stream",
     "text": [
      "Connected to Milvus!\n"
     ]
    }
   ],
   "source": [
    "\n",
    "from dotenv import load_dotenv\n",
    "import os\n",
    "import os\n",
    "import pandas as pd\n",
    "import kagglehub\n",
    "import numpy as np\n",
    "from pymilvus import connections, FieldSchema, CollectionSchema, DataType, Collection\n",
    "\n",
    "load_dotenv()\n",
    "\n",
    "# Connect to Milvus\n",
    "connections.connect(alias=\"default\", host=\"localhost\", port=\"19530\")\n",
    "print(\"Connected to Milvus!\")\n",
    "\n",
    "SPOTIFY_DATASET_PATH = '/Users/devyanigauri/.cache/kagglehub/datasets/yamaerenay/spotify-dataset-1921-2020-160k-tracks/versions/1/data.csv'\n",
    "\n",
    "LYRICS_DATASET_PATH = \"/Users/devyanigauri/.cache/kagglehub/datasets/nikhilnayak123/5-million-song-lyrics-dataset/versions/3/ds2.csv\"\n",
    "\n"
   ]
  },
  {
   "cell_type": "code",
   "execution_count": 14,
   "id": "0adc5989",
   "metadata": {},
   "outputs": [
    {
     "name": "stdout",
     "output_type": "stream",
     "text": [
      "SSpotify Dataset found locally at /Users/devyanigauri/.cache/kagglehub/datasets/yamaerenay/spotify-dataset-1921-2020-160k-tracks/versions/1/data.csv.\n",
      "Loaded Spotify dataset with 170653 rows.\n"
     ]
    }
   ],
   "source": [
    "# Check if the dataset exists locally, load if it does, otherwise download\n",
    "\n",
    "if not os.path.exists(SPOTIFY_DATASET_PATH):\n",
    "    print(\"Spotify Dataset not found locally. Downloading from KaggleHub...\")\n",
    "    kagglehub.dataset_download('yamaerenay/spotify-dataset-1921-2020-160k-tracks')\n",
    "else:\n",
    "    print(f\"SSpotify Dataset found locally at {SPOTIFY_DATASET_PATH}.\")\n",
    "\n",
    "df = pd.read_csv(SPOTIFY_DATASET_PATH, on_bad_lines='skip')\n",
    "print(f\"Loaded Spotify dataset with {len(df)} rows.\")"
   ]
  },
  {
   "cell_type": "code",
   "execution_count": 13,
   "id": "67be0d8a",
   "metadata": {},
   "outputs": [
    {
     "name": "stdout",
     "output_type": "stream",
     "text": [
      "Lyrics Dataset found locally at /Users/devyanigauri/.cache/kagglehub/datasets/nikhilnayak123/5-million-song-lyrics-dataset/versions/3/ds2.csv.\n",
      "Loaded Lyrics dataset with 5913411 rows.\n"
     ]
    }
   ],
   "source": [
    "if not os.path.exists(LYRICS_DATASET_PATH):\n",
    "    print(\"Lyrics Dataset not found locally. Downloading from KaggleHub...\")\n",
    "    path = kagglehub.dataset_download(\"nikhilnayak123/5-million-song-lyrics-dataset\")\n",
    "else:\n",
    "    print(f\"Lyrics Dataset found locally at {LYRICS_DATASET_PATH}.\")\n",
    "\n",
    "lyrics_df = pd.read_csv(LYRICS_DATASET_PATH, on_bad_lines='skip')\n",
    "print(f\"Loaded Lyrics dataset with {len(lyrics_df)} rows.\")"
   ]
  },
  {
   "cell_type": "code",
   "execution_count": 16,
   "id": "4e353367",
   "metadata": {},
   "outputs": [
    {
     "data": {
      "text/plain": [
       "Index(['title', 'tag', 'artist', 'year', 'views', 'features', 'lyrics', 'id'], dtype='object')"
      ]
     },
     "execution_count": 16,
     "metadata": {},
     "output_type": "execute_result"
    }
   ],
   "source": [
    "lyrics_df.columns"
   ]
  },
  {
   "cell_type": "code",
   "execution_count": 21,
   "id": "5c465bf1",
   "metadata": {},
   "outputs": [
    {
     "ename": "KeyError",
     "evalue": "\"['year'] not in index\"",
     "output_type": "error",
     "traceback": [
      "\u001b[31m---------------------------------------------------------------------------\u001b[39m",
      "\u001b[31mKeyError\u001b[39m                                  Traceback (most recent call last)",
      "\u001b[36mCell\u001b[39m\u001b[36m \u001b[39m\u001b[32mIn[21]\u001b[39m\u001b[32m, line 1\u001b[39m\n\u001b[32m----> \u001b[39m\u001b[32m1\u001b[39m lyrics_df = \u001b[43mlyrics_df\u001b[49m\u001b[43m[\u001b[49m\u001b[43m[\u001b[49m\u001b[33;43m'\u001b[39;49m\u001b[33;43mtitle\u001b[39;49m\u001b[33;43m'\u001b[39;49m\u001b[43m,\u001b[49m\u001b[43m \u001b[49m\u001b[33;43m'\u001b[39;49m\u001b[33;43martist\u001b[39;49m\u001b[33;43m'\u001b[39;49m\u001b[43m,\u001b[49m\u001b[43m \u001b[49m\u001b[33;43m'\u001b[39;49m\u001b[33;43myear\u001b[39;49m\u001b[33;43m'\u001b[39;49m\u001b[43m,\u001b[49m\u001b[43m \u001b[49m\u001b[33;43m'\u001b[39;49m\u001b[33;43mlyrics\u001b[39;49m\u001b[33;43m'\u001b[39;49m\u001b[43m]\u001b[49m\u001b[43m]\u001b[49m\n",
      "\u001b[36mFile \u001b[39m\u001b[32m~/Documents/GitHub/rhythmodoro/rhythmodoro_env/lib/python3.13/site-packages/pandas/core/frame.py:4113\u001b[39m, in \u001b[36mDataFrame.__getitem__\u001b[39m\u001b[34m(self, key)\u001b[39m\n\u001b[32m   4111\u001b[39m     \u001b[38;5;28;01mif\u001b[39;00m is_iterator(key):\n\u001b[32m   4112\u001b[39m         key = \u001b[38;5;28mlist\u001b[39m(key)\n\u001b[32m-> \u001b[39m\u001b[32m4113\u001b[39m     indexer = \u001b[38;5;28;43mself\u001b[39;49m\u001b[43m.\u001b[49m\u001b[43mcolumns\u001b[49m\u001b[43m.\u001b[49m\u001b[43m_get_indexer_strict\u001b[49m\u001b[43m(\u001b[49m\u001b[43mkey\u001b[49m\u001b[43m,\u001b[49m\u001b[43m \u001b[49m\u001b[33;43m\"\u001b[39;49m\u001b[33;43mcolumns\u001b[39;49m\u001b[33;43m\"\u001b[39;49m\u001b[43m)\u001b[49m[\u001b[32m1\u001b[39m]\n\u001b[32m   4115\u001b[39m \u001b[38;5;66;03m# take() does not accept boolean indexers\u001b[39;00m\n\u001b[32m   4116\u001b[39m \u001b[38;5;28;01mif\u001b[39;00m \u001b[38;5;28mgetattr\u001b[39m(indexer, \u001b[33m\"\u001b[39m\u001b[33mdtype\u001b[39m\u001b[33m\"\u001b[39m, \u001b[38;5;28;01mNone\u001b[39;00m) == \u001b[38;5;28mbool\u001b[39m:\n",
      "\u001b[36mFile \u001b[39m\u001b[32m~/Documents/GitHub/rhythmodoro/rhythmodoro_env/lib/python3.13/site-packages/pandas/core/indexes/base.py:6212\u001b[39m, in \u001b[36mIndex._get_indexer_strict\u001b[39m\u001b[34m(self, key, axis_name)\u001b[39m\n\u001b[32m   6209\u001b[39m \u001b[38;5;28;01melse\u001b[39;00m:\n\u001b[32m   6210\u001b[39m     keyarr, indexer, new_indexer = \u001b[38;5;28mself\u001b[39m._reindex_non_unique(keyarr)\n\u001b[32m-> \u001b[39m\u001b[32m6212\u001b[39m \u001b[38;5;28;43mself\u001b[39;49m\u001b[43m.\u001b[49m\u001b[43m_raise_if_missing\u001b[49m\u001b[43m(\u001b[49m\u001b[43mkeyarr\u001b[49m\u001b[43m,\u001b[49m\u001b[43m \u001b[49m\u001b[43mindexer\u001b[49m\u001b[43m,\u001b[49m\u001b[43m \u001b[49m\u001b[43maxis_name\u001b[49m\u001b[43m)\u001b[49m\n\u001b[32m   6214\u001b[39m keyarr = \u001b[38;5;28mself\u001b[39m.take(indexer)\n\u001b[32m   6215\u001b[39m \u001b[38;5;28;01mif\u001b[39;00m \u001b[38;5;28misinstance\u001b[39m(key, Index):\n\u001b[32m   6216\u001b[39m     \u001b[38;5;66;03m# GH 42790 - Preserve name from an Index\u001b[39;00m\n",
      "\u001b[36mFile \u001b[39m\u001b[32m~/Documents/GitHub/rhythmodoro/rhythmodoro_env/lib/python3.13/site-packages/pandas/core/indexes/base.py:6264\u001b[39m, in \u001b[36mIndex._raise_if_missing\u001b[39m\u001b[34m(self, key, indexer, axis_name)\u001b[39m\n\u001b[32m   6261\u001b[39m     \u001b[38;5;28;01mraise\u001b[39;00m \u001b[38;5;167;01mKeyError\u001b[39;00m(\u001b[33mf\u001b[39m\u001b[33m\"\u001b[39m\u001b[33mNone of [\u001b[39m\u001b[38;5;132;01m{\u001b[39;00mkey\u001b[38;5;132;01m}\u001b[39;00m\u001b[33m] are in the [\u001b[39m\u001b[38;5;132;01m{\u001b[39;00maxis_name\u001b[38;5;132;01m}\u001b[39;00m\u001b[33m]\u001b[39m\u001b[33m\"\u001b[39m)\n\u001b[32m   6263\u001b[39m not_found = \u001b[38;5;28mlist\u001b[39m(ensure_index(key)[missing_mask.nonzero()[\u001b[32m0\u001b[39m]].unique())\n\u001b[32m-> \u001b[39m\u001b[32m6264\u001b[39m \u001b[38;5;28;01mraise\u001b[39;00m \u001b[38;5;167;01mKeyError\u001b[39;00m(\u001b[33mf\u001b[39m\u001b[33m\"\u001b[39m\u001b[38;5;132;01m{\u001b[39;00mnot_found\u001b[38;5;132;01m}\u001b[39;00m\u001b[33m not in index\u001b[39m\u001b[33m\"\u001b[39m)\n",
      "\u001b[31mKeyError\u001b[39m: \"['year'] not in index\""
     ]
    }
   ],
   "source": [
    "lyrics_df = lyrics_df[['title', 'artist', 'lyrics']]"
   ]
  },
  {
   "cell_type": "code",
   "execution_count": 22,
   "id": "51a40d34",
   "metadata": {},
   "outputs": [],
   "source": [
    "merged_df = pd.merge(df, lyrics_df, left_on='name', right_on='title', how='left')"
   ]
  },
  {
   "cell_type": "code",
   "execution_count": 23,
   "id": "ed8c8c29",
   "metadata": {},
   "outputs": [
    {
     "data": {
      "text/plain": [
       "4976672"
      ]
     },
     "execution_count": 23,
     "metadata": {},
     "output_type": "execute_result"
    }
   ],
   "source": [
    "len(merged_df)"
   ]
  },
  {
   "cell_type": "code",
   "execution_count": 24,
   "id": "936a6d25",
   "metadata": {},
   "outputs": [],
   "source": [
    "import ast\n",
    "\n",
    "# If 'artists' is a stringified list, convert it to a Python list\n",
    "def parse_artists(artists):\n",
    "    if isinstance(artists, str):\n",
    "        try:\n",
    "            return ast.literal_eval(artists)\n",
    "        except:\n",
    "            return [artists]\n",
    "    return artists\n",
    "\n",
    "merged_df['artists'] = merged_df['artists'].apply(parse_artists)\n",
    "\n",
    "# Keep only rows where lyrics artist is in Spotify artists list\n",
    "filtered_df = merged_df[merged_df.apply(lambda row: row['artist'] in row['artists'], axis=1)]\n",
    "\n",
    "# Reset index if needed\n",
    "filtered_df = filtered_df.reset_index(drop=True)"
   ]
  },
  {
   "cell_type": "code",
   "execution_count": 25,
   "id": "36e049d3",
   "metadata": {},
   "outputs": [
    {
     "data": {
      "text/plain": [
       "53793"
      ]
     },
     "execution_count": 25,
     "metadata": {},
     "output_type": "execute_result"
    }
   ],
   "source": [
    "len(filtered_df)"
   ]
  },
  {
   "cell_type": "code",
   "execution_count": 27,
   "id": "6931816e",
   "metadata": {},
   "outputs": [],
   "source": [
    "filtered_df = filtered_df.drop(columns=['title', 'artist'])"
   ]
  },
  {
   "cell_type": "code",
   "execution_count": 28,
   "id": "3760e4ee",
   "metadata": {},
   "outputs": [
    {
     "data": {
      "text/plain": [
       "Index(['valence', 'year', 'acousticness', 'artists', 'danceability',\n",
       "       'duration_ms', 'energy', 'explicit', 'id', 'instrumentalness', 'key',\n",
       "       'liveness', 'loudness', 'mode', 'name', 'popularity', 'release_date',\n",
       "       'speechiness', 'tempo', 'lyrics'],\n",
       "      dtype='object')"
      ]
     },
     "execution_count": 28,
     "metadata": {},
     "output_type": "execute_result"
    }
   ],
   "source": [
    "filtered_df.columns"
   ]
  },
  {
   "cell_type": "code",
   "execution_count": 30,
   "id": "e98e7f6d",
   "metadata": {},
   "outputs": [],
   "source": [
    "# Splitting columns into metadata and embedding\n",
    "metadata_columns = [\n",
    "    'id', 'name', 'artists', 'year', 'release_date', 'explicit',\n",
    "    'popularity', 'duration_ms', 'key', 'mode'\n",
    "]\n",
    "\n",
    "embedding_columns = [\n",
    "    'name', 'artists', 'valence', 'acousticness', 'danceability', 'energy',\n",
    "    'instrumentalness', 'liveness', 'loudness', 'speechiness', 'tempo'\n",
    "]\n"
   ]
  },
  {
   "cell_type": "code",
   "execution_count": 31,
   "id": "4d59bded",
   "metadata": {},
   "outputs": [
    {
     "name": "stderr",
     "output_type": "stream",
     "text": [
      "<All keys matched successfully>\n"
     ]
    }
   ],
   "source": [
    "from sentence_transformers import SentenceTransformer\n",
    "\n",
    "# Load nomic model for embeddings\n",
    "model = SentenceTransformer(\"nomic-ai/nomic-embed-text-v1.5\", trust_remote_code=True)"
   ]
  },
  {
   "cell_type": "code",
   "execution_count": 32,
   "id": "403eb408",
   "metadata": {},
   "outputs": [
    {
     "name": "stdout",
     "output_type": "stream",
     "text": [
      "Processing batch 1\n"
     ]
    },
    {
     "name": "stderr",
     "output_type": "stream",
     "text": [
      "Batches: 100%|██████████| 32/32 [00:32<00:00,  1.00s/it]\n"
     ]
    },
    {
     "name": "stdout",
     "output_type": "stream",
     "text": [
      "Processing batch 2\n"
     ]
    },
    {
     "name": "stderr",
     "output_type": "stream",
     "text": [
      "Batches: 100%|██████████| 32/32 [00:27<00:00,  1.15it/s]\n"
     ]
    },
    {
     "name": "stdout",
     "output_type": "stream",
     "text": [
      "Processing batch 3\n"
     ]
    },
    {
     "name": "stderr",
     "output_type": "stream",
     "text": [
      "Batches: 100%|██████████| 32/32 [00:27<00:00,  1.18it/s]\n"
     ]
    },
    {
     "name": "stdout",
     "output_type": "stream",
     "text": [
      "Processing batch 4\n"
     ]
    },
    {
     "name": "stderr",
     "output_type": "stream",
     "text": [
      "Batches: 100%|██████████| 32/32 [00:27<00:00,  1.17it/s]\n"
     ]
    },
    {
     "name": "stdout",
     "output_type": "stream",
     "text": [
      "Processing batch 5\n"
     ]
    },
    {
     "name": "stderr",
     "output_type": "stream",
     "text": [
      "Batches: 100%|██████████| 32/32 [00:27<00:00,  1.15it/s]\n"
     ]
    },
    {
     "name": "stdout",
     "output_type": "stream",
     "text": [
      "Processing batch 6\n"
     ]
    },
    {
     "name": "stderr",
     "output_type": "stream",
     "text": [
      "Batches: 100%|██████████| 32/32 [00:28<00:00,  1.14it/s]\n"
     ]
    },
    {
     "name": "stdout",
     "output_type": "stream",
     "text": [
      "Processing batch 7\n"
     ]
    },
    {
     "name": "stderr",
     "output_type": "stream",
     "text": [
      "Batches: 100%|██████████| 32/32 [00:28<00:00,  1.14it/s]\n"
     ]
    },
    {
     "name": "stdout",
     "output_type": "stream",
     "text": [
      "Processing batch 8\n"
     ]
    },
    {
     "name": "stderr",
     "output_type": "stream",
     "text": [
      "Batches: 100%|██████████| 32/32 [00:28<00:00,  1.12it/s]\n"
     ]
    },
    {
     "name": "stdout",
     "output_type": "stream",
     "text": [
      "Processing batch 9\n"
     ]
    },
    {
     "name": "stderr",
     "output_type": "stream",
     "text": [
      "Batches: 100%|██████████| 32/32 [00:33<00:00,  1.04s/it]\n"
     ]
    },
    {
     "name": "stdout",
     "output_type": "stream",
     "text": [
      "Processing batch 10\n"
     ]
    },
    {
     "name": "stderr",
     "output_type": "stream",
     "text": [
      "Batches: 100%|██████████| 32/32 [00:33<00:00,  1.06s/it]\n"
     ]
    },
    {
     "name": "stdout",
     "output_type": "stream",
     "text": [
      "Processing batch 11\n"
     ]
    },
    {
     "name": "stderr",
     "output_type": "stream",
     "text": [
      "Batches: 100%|██████████| 32/32 [00:34<00:00,  1.08s/it]\n"
     ]
    },
    {
     "name": "stdout",
     "output_type": "stream",
     "text": [
      "Processing batch 12\n"
     ]
    },
    {
     "name": "stderr",
     "output_type": "stream",
     "text": [
      "Batches: 100%|██████████| 32/32 [00:35<00:00,  1.10s/it]\n"
     ]
    },
    {
     "name": "stdout",
     "output_type": "stream",
     "text": [
      "Processing batch 13\n"
     ]
    },
    {
     "name": "stderr",
     "output_type": "stream",
     "text": [
      "Batches: 100%|██████████| 32/32 [00:38<00:00,  1.21s/it]\n"
     ]
    },
    {
     "name": "stdout",
     "output_type": "stream",
     "text": [
      "Processing batch 14\n"
     ]
    },
    {
     "name": "stderr",
     "output_type": "stream",
     "text": [
      "Batches: 100%|██████████| 32/32 [00:35<00:00,  1.10s/it]\n"
     ]
    },
    {
     "name": "stdout",
     "output_type": "stream",
     "text": [
      "Processing batch 15\n"
     ]
    },
    {
     "name": "stderr",
     "output_type": "stream",
     "text": [
      "Batches: 100%|██████████| 32/32 [00:34<00:00,  1.08s/it]\n"
     ]
    },
    {
     "name": "stdout",
     "output_type": "stream",
     "text": [
      "Processing batch 16\n"
     ]
    },
    {
     "name": "stderr",
     "output_type": "stream",
     "text": [
      "Batches: 100%|██████████| 32/32 [00:34<00:00,  1.07s/it]\n"
     ]
    },
    {
     "name": "stdout",
     "output_type": "stream",
     "text": [
      "Processing batch 17\n"
     ]
    },
    {
     "name": "stderr",
     "output_type": "stream",
     "text": [
      "Batches: 100%|██████████| 32/32 [00:35<00:00,  1.09s/it]\n"
     ]
    },
    {
     "name": "stdout",
     "output_type": "stream",
     "text": [
      "Processing batch 18\n"
     ]
    },
    {
     "name": "stderr",
     "output_type": "stream",
     "text": [
      "Batches: 100%|██████████| 32/32 [00:34<00:00,  1.07s/it]\n"
     ]
    },
    {
     "name": "stdout",
     "output_type": "stream",
     "text": [
      "Processing batch 19\n"
     ]
    },
    {
     "name": "stderr",
     "output_type": "stream",
     "text": [
      "Batches: 100%|██████████| 32/32 [00:34<00:00,  1.06s/it]\n"
     ]
    },
    {
     "name": "stdout",
     "output_type": "stream",
     "text": [
      "Processing batch 20\n"
     ]
    },
    {
     "name": "stderr",
     "output_type": "stream",
     "text": [
      "Batches: 100%|██████████| 32/32 [00:34<00:00,  1.07s/it]\n"
     ]
    },
    {
     "name": "stdout",
     "output_type": "stream",
     "text": [
      "Processing batch 21\n"
     ]
    },
    {
     "name": "stderr",
     "output_type": "stream",
     "text": [
      "Batches: 100%|██████████| 32/32 [00:33<00:00,  1.05s/it]\n"
     ]
    },
    {
     "name": "stdout",
     "output_type": "stream",
     "text": [
      "Processing batch 22\n"
     ]
    },
    {
     "name": "stderr",
     "output_type": "stream",
     "text": [
      "Batches: 100%|██████████| 32/32 [00:34<00:00,  1.06s/it]\n"
     ]
    },
    {
     "name": "stdout",
     "output_type": "stream",
     "text": [
      "Processing batch 23\n"
     ]
    },
    {
     "name": "stderr",
     "output_type": "stream",
     "text": [
      "Batches: 100%|██████████| 32/32 [00:34<00:00,  1.06s/it]\n"
     ]
    },
    {
     "name": "stdout",
     "output_type": "stream",
     "text": [
      "Processing batch 24\n"
     ]
    },
    {
     "name": "stderr",
     "output_type": "stream",
     "text": [
      "Batches: 100%|██████████| 32/32 [00:34<00:00,  1.06s/it]\n"
     ]
    },
    {
     "name": "stdout",
     "output_type": "stream",
     "text": [
      "Processing batch 25\n"
     ]
    },
    {
     "name": "stderr",
     "output_type": "stream",
     "text": [
      "Batches: 100%|██████████| 32/32 [00:33<00:00,  1.03s/it]\n"
     ]
    },
    {
     "name": "stdout",
     "output_type": "stream",
     "text": [
      "Processing batch 26\n"
     ]
    },
    {
     "name": "stderr",
     "output_type": "stream",
     "text": [
      "Batches: 100%|██████████| 32/32 [00:32<00:00,  1.02s/it]\n"
     ]
    },
    {
     "name": "stdout",
     "output_type": "stream",
     "text": [
      "Processing batch 27\n"
     ]
    },
    {
     "name": "stderr",
     "output_type": "stream",
     "text": [
      "Batches: 100%|██████████| 32/32 [00:32<00:00,  1.01s/it]\n"
     ]
    },
    {
     "name": "stdout",
     "output_type": "stream",
     "text": [
      "Processing batch 28\n"
     ]
    },
    {
     "name": "stderr",
     "output_type": "stream",
     "text": [
      "Batches: 100%|██████████| 32/32 [00:32<00:00,  1.02s/it]\n"
     ]
    },
    {
     "name": "stdout",
     "output_type": "stream",
     "text": [
      "Processing batch 29\n"
     ]
    },
    {
     "name": "stderr",
     "output_type": "stream",
     "text": [
      "Batches: 100%|██████████| 32/32 [00:32<00:00,  1.02s/it]\n"
     ]
    },
    {
     "name": "stdout",
     "output_type": "stream",
     "text": [
      "Processing batch 30\n"
     ]
    },
    {
     "name": "stderr",
     "output_type": "stream",
     "text": [
      "Batches: 100%|██████████| 32/32 [00:33<00:00,  1.05s/it]\n"
     ]
    },
    {
     "name": "stdout",
     "output_type": "stream",
     "text": [
      "Processing batch 31\n"
     ]
    },
    {
     "name": "stderr",
     "output_type": "stream",
     "text": [
      "Batches: 100%|██████████| 32/32 [00:32<00:00,  1.03s/it]\n"
     ]
    },
    {
     "name": "stdout",
     "output_type": "stream",
     "text": [
      "Processing batch 32\n"
     ]
    },
    {
     "name": "stderr",
     "output_type": "stream",
     "text": [
      "Batches: 100%|██████████| 32/32 [00:32<00:00,  1.00s/it]\n"
     ]
    },
    {
     "name": "stdout",
     "output_type": "stream",
     "text": [
      "Processing batch 33\n"
     ]
    },
    {
     "name": "stderr",
     "output_type": "stream",
     "text": [
      "Batches: 100%|██████████| 32/32 [00:32<00:00,  1.00s/it]\n"
     ]
    },
    {
     "name": "stdout",
     "output_type": "stream",
     "text": [
      "Processing batch 34\n"
     ]
    },
    {
     "name": "stderr",
     "output_type": "stream",
     "text": [
      "Batches: 100%|██████████| 32/32 [00:31<00:00,  1.00it/s]\n"
     ]
    },
    {
     "name": "stdout",
     "output_type": "stream",
     "text": [
      "Processing batch 35\n"
     ]
    },
    {
     "name": "stderr",
     "output_type": "stream",
     "text": [
      "Batches: 100%|██████████| 32/32 [00:32<00:00,  1.03s/it]\n"
     ]
    },
    {
     "name": "stdout",
     "output_type": "stream",
     "text": [
      "Processing batch 36\n"
     ]
    },
    {
     "name": "stderr",
     "output_type": "stream",
     "text": [
      "Batches: 100%|██████████| 32/32 [00:32<00:00,  1.00s/it]\n"
     ]
    },
    {
     "name": "stdout",
     "output_type": "stream",
     "text": [
      "Processing batch 37\n"
     ]
    },
    {
     "name": "stderr",
     "output_type": "stream",
     "text": [
      "Batches: 100%|██████████| 32/32 [00:32<00:00,  1.03s/it]\n"
     ]
    },
    {
     "name": "stdout",
     "output_type": "stream",
     "text": [
      "Processing batch 38\n"
     ]
    },
    {
     "name": "stderr",
     "output_type": "stream",
     "text": [
      "Batches: 100%|██████████| 32/32 [00:30<00:00,  1.04it/s]\n"
     ]
    },
    {
     "name": "stdout",
     "output_type": "stream",
     "text": [
      "Processing batch 39\n"
     ]
    },
    {
     "name": "stderr",
     "output_type": "stream",
     "text": [
      "Batches: 100%|██████████| 32/32 [00:30<00:00,  1.03it/s]\n"
     ]
    },
    {
     "name": "stdout",
     "output_type": "stream",
     "text": [
      "Processing batch 40\n"
     ]
    },
    {
     "name": "stderr",
     "output_type": "stream",
     "text": [
      "Batches: 100%|██████████| 32/32 [00:30<00:00,  1.04it/s]\n"
     ]
    },
    {
     "name": "stdout",
     "output_type": "stream",
     "text": [
      "Processing batch 41\n"
     ]
    },
    {
     "name": "stderr",
     "output_type": "stream",
     "text": [
      "Batches: 100%|██████████| 32/32 [00:29<00:00,  1.08it/s]\n"
     ]
    },
    {
     "name": "stdout",
     "output_type": "stream",
     "text": [
      "Processing batch 42\n"
     ]
    },
    {
     "name": "stderr",
     "output_type": "stream",
     "text": [
      "Batches: 100%|██████████| 32/32 [00:30<00:00,  1.05it/s]\n"
     ]
    },
    {
     "name": "stdout",
     "output_type": "stream",
     "text": [
      "Processing batch 43\n"
     ]
    },
    {
     "name": "stderr",
     "output_type": "stream",
     "text": [
      "Batches: 100%|██████████| 32/32 [00:30<00:00,  1.05it/s]\n"
     ]
    },
    {
     "name": "stdout",
     "output_type": "stream",
     "text": [
      "Processing batch 44\n"
     ]
    },
    {
     "name": "stderr",
     "output_type": "stream",
     "text": [
      "Batches: 100%|██████████| 32/32 [00:30<00:00,  1.05it/s]\n"
     ]
    },
    {
     "name": "stdout",
     "output_type": "stream",
     "text": [
      "Processing batch 45\n"
     ]
    },
    {
     "name": "stderr",
     "output_type": "stream",
     "text": [
      "Batches: 100%|██████████| 32/32 [00:30<00:00,  1.05it/s]\n"
     ]
    },
    {
     "name": "stdout",
     "output_type": "stream",
     "text": [
      "Processing batch 46\n"
     ]
    },
    {
     "name": "stderr",
     "output_type": "stream",
     "text": [
      "Batches: 100%|██████████| 32/32 [00:29<00:00,  1.08it/s]\n"
     ]
    },
    {
     "name": "stdout",
     "output_type": "stream",
     "text": [
      "Processing batch 47\n"
     ]
    },
    {
     "name": "stderr",
     "output_type": "stream",
     "text": [
      "Batches: 100%|██████████| 32/32 [00:30<00:00,  1.06it/s]\n"
     ]
    },
    {
     "name": "stdout",
     "output_type": "stream",
     "text": [
      "Processing batch 48\n"
     ]
    },
    {
     "name": "stderr",
     "output_type": "stream",
     "text": [
      "Batches: 100%|██████████| 32/32 [00:32<00:00,  1.02s/it]\n"
     ]
    },
    {
     "name": "stdout",
     "output_type": "stream",
     "text": [
      "Processing batch 49\n"
     ]
    },
    {
     "name": "stderr",
     "output_type": "stream",
     "text": [
      "Batches: 100%|██████████| 32/32 [00:32<00:00,  1.00s/it]\n"
     ]
    },
    {
     "name": "stdout",
     "output_type": "stream",
     "text": [
      "Processing batch 50\n"
     ]
    },
    {
     "name": "stderr",
     "output_type": "stream",
     "text": [
      "Batches: 100%|██████████| 32/32 [00:31<00:00,  1.01it/s]\n"
     ]
    },
    {
     "name": "stdout",
     "output_type": "stream",
     "text": [
      "Processing batch 51\n"
     ]
    },
    {
     "name": "stderr",
     "output_type": "stream",
     "text": [
      "Batches: 100%|██████████| 32/32 [00:33<00:00,  1.06s/it]\n"
     ]
    },
    {
     "name": "stdout",
     "output_type": "stream",
     "text": [
      "Processing batch 52\n"
     ]
    },
    {
     "name": "stderr",
     "output_type": "stream",
     "text": [
      "Batches: 100%|██████████| 32/32 [00:32<00:00,  1.02s/it]\n"
     ]
    },
    {
     "name": "stdout",
     "output_type": "stream",
     "text": [
      "Processing batch 53\n"
     ]
    },
    {
     "name": "stderr",
     "output_type": "stream",
     "text": [
      "Batches: 100%|██████████| 32/32 [00:32<00:00,  1.00s/it]\n"
     ]
    },
    {
     "name": "stdout",
     "output_type": "stream",
     "text": [
      "Processing batch 54\n"
     ]
    },
    {
     "name": "stderr",
     "output_type": "stream",
     "text": [
      "Batches: 100%|██████████| 25/25 [00:25<00:00,  1.01s/it]\n"
     ]
    },
    {
     "ename": "ValueError",
     "evalue": "Length of values (53793) does not match length of index (170653)",
     "output_type": "error",
     "traceback": [
      "\u001b[31m---------------------------------------------------------------------------\u001b[39m",
      "\u001b[31mValueError\u001b[39m                                Traceback (most recent call last)",
      "\u001b[36mCell\u001b[39m\u001b[36m \u001b[39m\u001b[32mIn[32]\u001b[39m\u001b[32m, line 18\u001b[39m\n\u001b[32m     16\u001b[39m     batch_embeds = model.encode(batch, show_progress_bar=\u001b[38;5;28;01mTrue\u001b[39;00m)\n\u001b[32m     17\u001b[39m     embeddings.extend(batch_embeds)\n\u001b[32m---> \u001b[39m\u001b[32m18\u001b[39m \u001b[43mdf\u001b[49m\u001b[43m[\u001b[49m\u001b[33;43m'\u001b[39;49m\u001b[33;43membedding\u001b[39;49m\u001b[33;43m'\u001b[39;49m\u001b[43m]\u001b[49m = embeddings\n\u001b[32m     19\u001b[39m \u001b[38;5;28mprint\u001b[39m(\u001b[33m\"\u001b[39m\u001b[33mBatch Nomic embeddings added to DataFrame.\u001b[39m\u001b[33m\"\u001b[39m)\n",
      "\u001b[36mFile \u001b[39m\u001b[32m~/Documents/GitHub/rhythmodoro/rhythmodoro_env/lib/python3.13/site-packages/pandas/core/frame.py:4316\u001b[39m, in \u001b[36mDataFrame.__setitem__\u001b[39m\u001b[34m(self, key, value)\u001b[39m\n\u001b[32m   4313\u001b[39m     \u001b[38;5;28mself\u001b[39m._setitem_array([key], value)\n\u001b[32m   4314\u001b[39m \u001b[38;5;28;01melse\u001b[39;00m:\n\u001b[32m   4315\u001b[39m     \u001b[38;5;66;03m# set column\u001b[39;00m\n\u001b[32m-> \u001b[39m\u001b[32m4316\u001b[39m     \u001b[38;5;28;43mself\u001b[39;49m\u001b[43m.\u001b[49m\u001b[43m_set_item\u001b[49m\u001b[43m(\u001b[49m\u001b[43mkey\u001b[49m\u001b[43m,\u001b[49m\u001b[43m \u001b[49m\u001b[43mvalue\u001b[49m\u001b[43m)\u001b[49m\n",
      "\u001b[36mFile \u001b[39m\u001b[32m~/Documents/GitHub/rhythmodoro/rhythmodoro_env/lib/python3.13/site-packages/pandas/core/frame.py:4529\u001b[39m, in \u001b[36mDataFrame._set_item\u001b[39m\u001b[34m(self, key, value)\u001b[39m\n\u001b[32m   4519\u001b[39m \u001b[38;5;28;01mdef\u001b[39;00m\u001b[38;5;250m \u001b[39m\u001b[34m_set_item\u001b[39m(\u001b[38;5;28mself\u001b[39m, key, value) -> \u001b[38;5;28;01mNone\u001b[39;00m:\n\u001b[32m   4520\u001b[39m \u001b[38;5;250m    \u001b[39m\u001b[33;03m\"\"\"\u001b[39;00m\n\u001b[32m   4521\u001b[39m \u001b[33;03m    Add series to DataFrame in specified column.\u001b[39;00m\n\u001b[32m   4522\u001b[39m \n\u001b[32m   (...)\u001b[39m\u001b[32m   4527\u001b[39m \u001b[33;03m    ensure homogeneity.\u001b[39;00m\n\u001b[32m   4528\u001b[39m \u001b[33;03m    \"\"\"\u001b[39;00m\n\u001b[32m-> \u001b[39m\u001b[32m4529\u001b[39m     value, refs = \u001b[38;5;28;43mself\u001b[39;49m\u001b[43m.\u001b[49m\u001b[43m_sanitize_column\u001b[49m\u001b[43m(\u001b[49m\u001b[43mvalue\u001b[49m\u001b[43m)\u001b[49m\n\u001b[32m   4531\u001b[39m     \u001b[38;5;28;01mif\u001b[39;00m (\n\u001b[32m   4532\u001b[39m         key \u001b[38;5;129;01min\u001b[39;00m \u001b[38;5;28mself\u001b[39m.columns\n\u001b[32m   4533\u001b[39m         \u001b[38;5;129;01mand\u001b[39;00m value.ndim == \u001b[32m1\u001b[39m\n\u001b[32m   4534\u001b[39m         \u001b[38;5;129;01mand\u001b[39;00m \u001b[38;5;129;01mnot\u001b[39;00m \u001b[38;5;28misinstance\u001b[39m(value.dtype, ExtensionDtype)\n\u001b[32m   4535\u001b[39m     ):\n\u001b[32m   4536\u001b[39m         \u001b[38;5;66;03m# broadcast across multiple columns if necessary\u001b[39;00m\n\u001b[32m   4537\u001b[39m         \u001b[38;5;28;01mif\u001b[39;00m \u001b[38;5;129;01mnot\u001b[39;00m \u001b[38;5;28mself\u001b[39m.columns.is_unique \u001b[38;5;129;01mor\u001b[39;00m \u001b[38;5;28misinstance\u001b[39m(\u001b[38;5;28mself\u001b[39m.columns, MultiIndex):\n",
      "\u001b[36mFile \u001b[39m\u001b[32m~/Documents/GitHub/rhythmodoro/rhythmodoro_env/lib/python3.13/site-packages/pandas/core/frame.py:5273\u001b[39m, in \u001b[36mDataFrame._sanitize_column\u001b[39m\u001b[34m(self, value)\u001b[39m\n\u001b[32m   5270\u001b[39m     \u001b[38;5;28;01mreturn\u001b[39;00m _reindex_for_setitem(value, \u001b[38;5;28mself\u001b[39m.index)\n\u001b[32m   5272\u001b[39m \u001b[38;5;28;01mif\u001b[39;00m is_list_like(value):\n\u001b[32m-> \u001b[39m\u001b[32m5273\u001b[39m     \u001b[43mcom\u001b[49m\u001b[43m.\u001b[49m\u001b[43mrequire_length_match\u001b[49m\u001b[43m(\u001b[49m\u001b[43mvalue\u001b[49m\u001b[43m,\u001b[49m\u001b[43m \u001b[49m\u001b[38;5;28;43mself\u001b[39;49m\u001b[43m.\u001b[49m\u001b[43mindex\u001b[49m\u001b[43m)\u001b[49m\n\u001b[32m   5274\u001b[39m arr = sanitize_array(value, \u001b[38;5;28mself\u001b[39m.index, copy=\u001b[38;5;28;01mTrue\u001b[39;00m, allow_2d=\u001b[38;5;28;01mTrue\u001b[39;00m)\n\u001b[32m   5275\u001b[39m \u001b[38;5;28;01mif\u001b[39;00m (\n\u001b[32m   5276\u001b[39m     \u001b[38;5;28misinstance\u001b[39m(value, Index)\n\u001b[32m   5277\u001b[39m     \u001b[38;5;129;01mand\u001b[39;00m value.dtype == \u001b[33m\"\u001b[39m\u001b[33mobject\u001b[39m\u001b[33m\"\u001b[39m\n\u001b[32m   (...)\u001b[39m\u001b[32m   5280\u001b[39m     \u001b[38;5;66;03m# TODO: Remove kludge in sanitize_array for string mode when enforcing\u001b[39;00m\n\u001b[32m   5281\u001b[39m     \u001b[38;5;66;03m# this deprecation\u001b[39;00m\n",
      "\u001b[36mFile \u001b[39m\u001b[32m~/Documents/GitHub/rhythmodoro/rhythmodoro_env/lib/python3.13/site-packages/pandas/core/common.py:573\u001b[39m, in \u001b[36mrequire_length_match\u001b[39m\u001b[34m(data, index)\u001b[39m\n\u001b[32m    569\u001b[39m \u001b[38;5;250m\u001b[39m\u001b[33;03m\"\"\"\u001b[39;00m\n\u001b[32m    570\u001b[39m \u001b[33;03mCheck the length of data matches the length of the index.\u001b[39;00m\n\u001b[32m    571\u001b[39m \u001b[33;03m\"\"\"\u001b[39;00m\n\u001b[32m    572\u001b[39m \u001b[38;5;28;01mif\u001b[39;00m \u001b[38;5;28mlen\u001b[39m(data) != \u001b[38;5;28mlen\u001b[39m(index):\n\u001b[32m--> \u001b[39m\u001b[32m573\u001b[39m     \u001b[38;5;28;01mraise\u001b[39;00m \u001b[38;5;167;01mValueError\u001b[39;00m(\n\u001b[32m    574\u001b[39m         \u001b[33m\"\u001b[39m\u001b[33mLength of values \u001b[39m\u001b[33m\"\u001b[39m\n\u001b[32m    575\u001b[39m         \u001b[33mf\u001b[39m\u001b[33m\"\u001b[39m\u001b[33m(\u001b[39m\u001b[38;5;132;01m{\u001b[39;00m\u001b[38;5;28mlen\u001b[39m(data)\u001b[38;5;132;01m}\u001b[39;00m\u001b[33m) \u001b[39m\u001b[33m\"\u001b[39m\n\u001b[32m    576\u001b[39m         \u001b[33m\"\u001b[39m\u001b[33mdoes not match length of index \u001b[39m\u001b[33m\"\u001b[39m\n\u001b[32m    577\u001b[39m         \u001b[33mf\u001b[39m\u001b[33m\"\u001b[39m\u001b[33m(\u001b[39m\u001b[38;5;132;01m{\u001b[39;00m\u001b[38;5;28mlen\u001b[39m(index)\u001b[38;5;132;01m}\u001b[39;00m\u001b[33m)\u001b[39m\u001b[33m\"\u001b[39m\n\u001b[32m    578\u001b[39m     )\n",
      "\u001b[31mValueError\u001b[39m: Length of values (53793) does not match length of index (170653)"
     ]
    }
   ],
   "source": [
    "import json\n",
    "\n",
    "# Create JSON column for embedding input\n",
    "def row_to_json(row):\n",
    "    return json.dumps({col: row[col] for col in embedding_columns})\n",
    "\n",
    "filtered_df['embedding_json'] = filtered_df.apply(row_to_json, axis=1)\n",
    "\n",
    "# Batch embedding creation\n",
    "batch_size = 1000\n",
    "jsons = filtered_df['embedding_json'].tolist()\n",
    "embeddings = []\n",
    "for i in range(0, len(jsons), batch_size):\n",
    "    batch = jsons[i:i+batch_size]\n",
    "    print(f\"Processing batch {i//batch_size + 1}\")\n",
    "    batch_embeds = model.encode(batch, show_progress_bar=True)\n",
    "    embeddings.extend(batch_embeds)\n",
    "filtered_df['embedding'] = embeddings\n",
    "print(\"Batch Nomic embeddings added to DataFrame.\")"
   ]
  },
  {
   "cell_type": "code",
   "execution_count": 33,
   "id": "5d314937",
   "metadata": {},
   "outputs": [],
   "source": [
    "filtered_df['embedding'] = embeddings"
   ]
  },
  {
   "cell_type": "code",
   "execution_count": 34,
   "id": "dc9f04b7",
   "metadata": {},
   "outputs": [
    {
     "data": {
      "text/html": [
       "<div>\n",
       "<style scoped>\n",
       "    .dataframe tbody tr th:only-of-type {\n",
       "        vertical-align: middle;\n",
       "    }\n",
       "\n",
       "    .dataframe tbody tr th {\n",
       "        vertical-align: top;\n",
       "    }\n",
       "\n",
       "    .dataframe thead th {\n",
       "        text-align: right;\n",
       "    }\n",
       "</style>\n",
       "<table border=\"1\" class=\"dataframe\">\n",
       "  <thead>\n",
       "    <tr style=\"text-align: right;\">\n",
       "      <th></th>\n",
       "      <th>valence</th>\n",
       "      <th>year</th>\n",
       "      <th>acousticness</th>\n",
       "      <th>artists</th>\n",
       "      <th>danceability</th>\n",
       "      <th>duration_ms</th>\n",
       "      <th>energy</th>\n",
       "      <th>explicit</th>\n",
       "      <th>id</th>\n",
       "      <th>instrumentalness</th>\n",
       "      <th>...</th>\n",
       "      <th>loudness</th>\n",
       "      <th>mode</th>\n",
       "      <th>name</th>\n",
       "      <th>popularity</th>\n",
       "      <th>release_date</th>\n",
       "      <th>speechiness</th>\n",
       "      <th>tempo</th>\n",
       "      <th>lyrics</th>\n",
       "      <th>embedding_json</th>\n",
       "      <th>embedding</th>\n",
       "    </tr>\n",
       "  </thead>\n",
       "  <tbody>\n",
       "    <tr>\n",
       "      <th>0</th>\n",
       "      <td>0.963</td>\n",
       "      <td>1921</td>\n",
       "      <td>0.73200</td>\n",
       "      <td>[Dennis Day]</td>\n",
       "      <td>0.819</td>\n",
       "      <td>180533</td>\n",
       "      <td>0.3410</td>\n",
       "      <td>0</td>\n",
       "      <td>7xPhfUan2yNtyFG0cUWkt8</td>\n",
       "      <td>0.000000</td>\n",
       "      <td>...</td>\n",
       "      <td>-12.441</td>\n",
       "      <td>1</td>\n",
       "      <td>Clancy Lowered the Boom</td>\n",
       "      <td>5</td>\n",
       "      <td>1921</td>\n",
       "      <td>0.4150</td>\n",
       "      <td>60.936</td>\n",
       "      <td>Now Clancy was a peaceful man\\nIf you know wha...</td>\n",
       "      <td>{\"name\": \"Clancy Lowered the Boom\", \"artists\":...</td>\n",
       "      <td>[-0.14313735, -0.22924717, -4.8405457, -0.9683...</td>\n",
       "    </tr>\n",
       "    <tr>\n",
       "      <th>1</th>\n",
       "      <td>0.402</td>\n",
       "      <td>1923</td>\n",
       "      <td>0.99200</td>\n",
       "      <td>[Bessie Smith]</td>\n",
       "      <td>0.693</td>\n",
       "      <td>167640</td>\n",
       "      <td>0.0270</td>\n",
       "      <td>0</td>\n",
       "      <td>6qRvnXftofjYJm1Mg98UWL</td>\n",
       "      <td>0.000000</td>\n",
       "      <td>...</td>\n",
       "      <td>-13.506</td>\n",
       "      <td>0</td>\n",
       "      <td>Need a Little Sugar in My Bowl</td>\n",
       "      <td>26</td>\n",
       "      <td>1923</td>\n",
       "      <td>0.0562</td>\n",
       "      <td>75.749</td>\n",
       "      <td>Tired of bein' lonely, tired of bein' blue\\nI ...</td>\n",
       "      <td>{\"name\": \"Need a Little Sugar in My Bowl\", \"ar...</td>\n",
       "      <td>[-0.69976574, 0.0118034305, -4.594035, -1.2274...</td>\n",
       "    </tr>\n",
       "    <tr>\n",
       "      <th>2</th>\n",
       "      <td>0.494</td>\n",
       "      <td>1923</td>\n",
       "      <td>0.99000</td>\n",
       "      <td>[Bessie Smith]</td>\n",
       "      <td>0.710</td>\n",
       "      <td>169960</td>\n",
       "      <td>0.0735</td>\n",
       "      <td>0</td>\n",
       "      <td>1yjck0Owf0HfhY5kWHiXIQ</td>\n",
       "      <td>0.000000</td>\n",
       "      <td>...</td>\n",
       "      <td>-12.526</td>\n",
       "      <td>1</td>\n",
       "      <td>Me and My Gin</td>\n",
       "      <td>22</td>\n",
       "      <td>1923</td>\n",
       "      <td>0.0488</td>\n",
       "      <td>90.917</td>\n",
       "      <td>Stay away from me 'cause I'm in my sin\\nStay a...</td>\n",
       "      <td>{\"name\": \"Me and My Gin\", \"artists\": [\"Bessie ...</td>\n",
       "      <td>[-0.82054853, -0.86439043, -4.8381505, -1.1492...</td>\n",
       "    </tr>\n",
       "    <tr>\n",
       "      <th>3</th>\n",
       "      <td>0.483</td>\n",
       "      <td>1923</td>\n",
       "      <td>0.99200</td>\n",
       "      <td>[Bessie Smith]</td>\n",
       "      <td>0.587</td>\n",
       "      <td>205053</td>\n",
       "      <td>0.1750</td>\n",
       "      <td>0</td>\n",
       "      <td>0rUf1j43orpfi6f4LbVo8D</td>\n",
       "      <td>0.000318</td>\n",
       "      <td>...</td>\n",
       "      <td>-9.935</td>\n",
       "      <td>1</td>\n",
       "      <td>Careless Love</td>\n",
       "      <td>22</td>\n",
       "      <td>1923</td>\n",
       "      <td>0.0384</td>\n",
       "      <td>98.523</td>\n",
       "      <td>Love, oh love, oh careless love\\nYou've fly th...</td>\n",
       "      <td>{\"name\": \"Careless Love\", \"artists\": [\"Bessie ...</td>\n",
       "      <td>[-0.18622221, -0.9087218, -4.7537165, -0.95859...</td>\n",
       "    </tr>\n",
       "    <tr>\n",
       "      <th>4</th>\n",
       "      <td>0.258</td>\n",
       "      <td>1923</td>\n",
       "      <td>0.99100</td>\n",
       "      <td>[Bessie Smith, Louis Armstrong]</td>\n",
       "      <td>0.355</td>\n",
       "      <td>189600</td>\n",
       "      <td>0.1140</td>\n",
       "      <td>0</td>\n",
       "      <td>50zXyjVdFb3xAr3hnyYYn1</td>\n",
       "      <td>0.006860</td>\n",
       "      <td>...</td>\n",
       "      <td>-15.968</td>\n",
       "      <td>1</td>\n",
       "      <td>St. Louis Blues</td>\n",
       "      <td>22</td>\n",
       "      <td>1923</td>\n",
       "      <td>0.0588</td>\n",
       "      <td>69.902</td>\n",
       "      <td>I hate to see that evening sun go down\\nI hate...</td>\n",
       "      <td>{\"name\": \"St. Louis Blues\", \"artists\": [\"Bessi...</td>\n",
       "      <td>[-0.7889819, -0.25035557, -4.906985, -0.976880...</td>\n",
       "    </tr>\n",
       "    <tr>\n",
       "      <th>...</th>\n",
       "      <td>...</td>\n",
       "      <td>...</td>\n",
       "      <td>...</td>\n",
       "      <td>...</td>\n",
       "      <td>...</td>\n",
       "      <td>...</td>\n",
       "      <td>...</td>\n",
       "      <td>...</td>\n",
       "      <td>...</td>\n",
       "      <td>...</td>\n",
       "      <td>...</td>\n",
       "      <td>...</td>\n",
       "      <td>...</td>\n",
       "      <td>...</td>\n",
       "      <td>...</td>\n",
       "      <td>...</td>\n",
       "      <td>...</td>\n",
       "      <td>...</td>\n",
       "      <td>...</td>\n",
       "      <td>...</td>\n",
       "      <td>...</td>\n",
       "    </tr>\n",
       "    <tr>\n",
       "      <th>53788</th>\n",
       "      <td>0.466</td>\n",
       "      <td>2020</td>\n",
       "      <td>0.31000</td>\n",
       "      <td>[Fleet Foxes]</td>\n",
       "      <td>0.562</td>\n",
       "      <td>253613</td>\n",
       "      <td>0.6860</td>\n",
       "      <td>0</td>\n",
       "      <td>308prODCCD0O660tIktbUi</td>\n",
       "      <td>0.022500</td>\n",
       "      <td>...</td>\n",
       "      <td>-8.480</td>\n",
       "      <td>1</td>\n",
       "      <td>Sunblind</td>\n",
       "      <td>66</td>\n",
       "      <td>2020-09-22</td>\n",
       "      <td>0.0249</td>\n",
       "      <td>103.054</td>\n",
       "      <td>[Verse 1]\\nFor Richard Swift\\nFor John and Bil...</td>\n",
       "      <td>{\"name\": \"Sunblind\", \"artists\": [\"Fleet Foxes\"...</td>\n",
       "      <td>[-0.69030887, -0.19668527, -4.8022137, -0.3032...</td>\n",
       "    </tr>\n",
       "    <tr>\n",
       "      <th>53789</th>\n",
       "      <td>0.522</td>\n",
       "      <td>2020</td>\n",
       "      <td>0.20400</td>\n",
       "      <td>[Gunna]</td>\n",
       "      <td>0.598</td>\n",
       "      <td>230600</td>\n",
       "      <td>0.4720</td>\n",
       "      <td>1</td>\n",
       "      <td>2f8y4CuG57UJEmkG3ujd0D</td>\n",
       "      <td>0.000015</td>\n",
       "      <td>...</td>\n",
       "      <td>-10.991</td>\n",
       "      <td>1</td>\n",
       "      <td>NASTY GIRL / ON CAMERA</td>\n",
       "      <td>66</td>\n",
       "      <td>2020-05-22</td>\n",
       "      <td>0.2580</td>\n",
       "      <td>120.080</td>\n",
       "      <td>[Part I: \"NASTY GIRL\"]\\n\\n[Intro]\\nMmm, mmm, m...</td>\n",
       "      <td>{\"name\": \"NASTY GIRL / ON CAMERA\", \"artists\": ...</td>\n",
       "      <td>[0.2002709, -0.8311799, -4.3318987, 1.2301844,...</td>\n",
       "    </tr>\n",
       "    <tr>\n",
       "      <th>53790</th>\n",
       "      <td>0.734</td>\n",
       "      <td>2020</td>\n",
       "      <td>0.20600</td>\n",
       "      <td>[Ashnikko]</td>\n",
       "      <td>0.717</td>\n",
       "      <td>150654</td>\n",
       "      <td>0.7530</td>\n",
       "      <td>0</td>\n",
       "      <td>0OStKKAuXlxA0fMH54Qs6E</td>\n",
       "      <td>0.000000</td>\n",
       "      <td>...</td>\n",
       "      <td>-6.020</td>\n",
       "      <td>1</td>\n",
       "      <td>Halloweenie III: Seven Days</td>\n",
       "      <td>68</td>\n",
       "      <td>2020-10-23</td>\n",
       "      <td>0.0605</td>\n",
       "      <td>137.936</td>\n",
       "      <td>[Intro]\\nHey grandpa (Grandpa)\\nDrop the beat ...</td>\n",
       "      <td>{\"name\": \"Halloweenie III: Seven Days\", \"artis...</td>\n",
       "      <td>[-1.011036, 0.13105537, -4.697309, 0.13486801,...</td>\n",
       "    </tr>\n",
       "    <tr>\n",
       "      <th>53791</th>\n",
       "      <td>0.637</td>\n",
       "      <td>2020</td>\n",
       "      <td>0.10100</td>\n",
       "      <td>[MAMAMOO]</td>\n",
       "      <td>0.634</td>\n",
       "      <td>211280</td>\n",
       "      <td>0.8580</td>\n",
       "      <td>0</td>\n",
       "      <td>4BZXVFYCb76Q0Klojq4piV</td>\n",
       "      <td>0.000009</td>\n",
       "      <td>...</td>\n",
       "      <td>-2.226</td>\n",
       "      <td>0</td>\n",
       "      <td>AYA</td>\n",
       "      <td>76</td>\n",
       "      <td>2020-11-03</td>\n",
       "      <td>0.0809</td>\n",
       "      <td>91.688</td>\n",
       "      <td>[마마무 \"아야 (AYA)\" 가사]\\n\\n[Intro: Solar]\\nAya\\nAy...</td>\n",
       "      <td>{\"name\": \"AYA\", \"artists\": [\"MAMAMOO\"], \"valen...</td>\n",
       "      <td>[-0.56497407, 0.15274733, -4.365804, 0.0788590...</td>\n",
       "    </tr>\n",
       "    <tr>\n",
       "      <th>53792</th>\n",
       "      <td>0.195</td>\n",
       "      <td>2020</td>\n",
       "      <td>0.00998</td>\n",
       "      <td>[Eminem]</td>\n",
       "      <td>0.671</td>\n",
       "      <td>337147</td>\n",
       "      <td>0.6230</td>\n",
       "      <td>1</td>\n",
       "      <td>5SiZJoLXp3WOl3J4C8IK0d</td>\n",
       "      <td>0.000008</td>\n",
       "      <td>...</td>\n",
       "      <td>-7.161</td>\n",
       "      <td>1</td>\n",
       "      <td>Darkness</td>\n",
       "      <td>70</td>\n",
       "      <td>2020-01-17</td>\n",
       "      <td>0.3080</td>\n",
       "      <td>75.055</td>\n",
       "      <td>[Chorus]\\nI don't wanna be alone, I don't wann...</td>\n",
       "      <td>{\"name\": \"Darkness\", \"artists\": [\"Eminem\"], \"v...</td>\n",
       "      <td>[-0.8320487, -0.4812035, -4.3426356, -0.323207...</td>\n",
       "    </tr>\n",
       "  </tbody>\n",
       "</table>\n",
       "<p>53793 rows × 22 columns</p>\n",
       "</div>"
      ],
      "text/plain": [
       "       valence  year  acousticness                          artists  \\\n",
       "0        0.963  1921       0.73200                     [Dennis Day]   \n",
       "1        0.402  1923       0.99200                   [Bessie Smith]   \n",
       "2        0.494  1923       0.99000                   [Bessie Smith]   \n",
       "3        0.483  1923       0.99200                   [Bessie Smith]   \n",
       "4        0.258  1923       0.99100  [Bessie Smith, Louis Armstrong]   \n",
       "...        ...   ...           ...                              ...   \n",
       "53788    0.466  2020       0.31000                    [Fleet Foxes]   \n",
       "53789    0.522  2020       0.20400                          [Gunna]   \n",
       "53790    0.734  2020       0.20600                       [Ashnikko]   \n",
       "53791    0.637  2020       0.10100                        [MAMAMOO]   \n",
       "53792    0.195  2020       0.00998                         [Eminem]   \n",
       "\n",
       "       danceability  duration_ms  energy  explicit                      id  \\\n",
       "0             0.819       180533  0.3410         0  7xPhfUan2yNtyFG0cUWkt8   \n",
       "1             0.693       167640  0.0270         0  6qRvnXftofjYJm1Mg98UWL   \n",
       "2             0.710       169960  0.0735         0  1yjck0Owf0HfhY5kWHiXIQ   \n",
       "3             0.587       205053  0.1750         0  0rUf1j43orpfi6f4LbVo8D   \n",
       "4             0.355       189600  0.1140         0  50zXyjVdFb3xAr3hnyYYn1   \n",
       "...             ...          ...     ...       ...                     ...   \n",
       "53788         0.562       253613  0.6860         0  308prODCCD0O660tIktbUi   \n",
       "53789         0.598       230600  0.4720         1  2f8y4CuG57UJEmkG3ujd0D   \n",
       "53790         0.717       150654  0.7530         0  0OStKKAuXlxA0fMH54Qs6E   \n",
       "53791         0.634       211280  0.8580         0  4BZXVFYCb76Q0Klojq4piV   \n",
       "53792         0.671       337147  0.6230         1  5SiZJoLXp3WOl3J4C8IK0d   \n",
       "\n",
       "       instrumentalness  ...  loudness  mode                            name  \\\n",
       "0              0.000000  ...   -12.441     1         Clancy Lowered the Boom   \n",
       "1              0.000000  ...   -13.506     0  Need a Little Sugar in My Bowl   \n",
       "2              0.000000  ...   -12.526     1                   Me and My Gin   \n",
       "3              0.000318  ...    -9.935     1                   Careless Love   \n",
       "4              0.006860  ...   -15.968     1                 St. Louis Blues   \n",
       "...                 ...  ...       ...   ...                             ...   \n",
       "53788          0.022500  ...    -8.480     1                        Sunblind   \n",
       "53789          0.000015  ...   -10.991     1          NASTY GIRL / ON CAMERA   \n",
       "53790          0.000000  ...    -6.020     1     Halloweenie III: Seven Days   \n",
       "53791          0.000009  ...    -2.226     0                             AYA   \n",
       "53792          0.000008  ...    -7.161     1                        Darkness   \n",
       "\n",
       "       popularity release_date  speechiness    tempo  \\\n",
       "0               5         1921       0.4150   60.936   \n",
       "1              26         1923       0.0562   75.749   \n",
       "2              22         1923       0.0488   90.917   \n",
       "3              22         1923       0.0384   98.523   \n",
       "4              22         1923       0.0588   69.902   \n",
       "...           ...          ...          ...      ...   \n",
       "53788          66   2020-09-22       0.0249  103.054   \n",
       "53789          66   2020-05-22       0.2580  120.080   \n",
       "53790          68   2020-10-23       0.0605  137.936   \n",
       "53791          76   2020-11-03       0.0809   91.688   \n",
       "53792          70   2020-01-17       0.3080   75.055   \n",
       "\n",
       "                                                  lyrics  \\\n",
       "0      Now Clancy was a peaceful man\\nIf you know wha...   \n",
       "1      Tired of bein' lonely, tired of bein' blue\\nI ...   \n",
       "2      Stay away from me 'cause I'm in my sin\\nStay a...   \n",
       "3      Love, oh love, oh careless love\\nYou've fly th...   \n",
       "4      I hate to see that evening sun go down\\nI hate...   \n",
       "...                                                  ...   \n",
       "53788  [Verse 1]\\nFor Richard Swift\\nFor John and Bil...   \n",
       "53789  [Part I: \"NASTY GIRL\"]\\n\\n[Intro]\\nMmm, mmm, m...   \n",
       "53790  [Intro]\\nHey grandpa (Grandpa)\\nDrop the beat ...   \n",
       "53791  [마마무 \"아야 (AYA)\" 가사]\\n\\n[Intro: Solar]\\nAya\\nAy...   \n",
       "53792  [Chorus]\\nI don't wanna be alone, I don't wann...   \n",
       "\n",
       "                                          embedding_json  \\\n",
       "0      {\"name\": \"Clancy Lowered the Boom\", \"artists\":...   \n",
       "1      {\"name\": \"Need a Little Sugar in My Bowl\", \"ar...   \n",
       "2      {\"name\": \"Me and My Gin\", \"artists\": [\"Bessie ...   \n",
       "3      {\"name\": \"Careless Love\", \"artists\": [\"Bessie ...   \n",
       "4      {\"name\": \"St. Louis Blues\", \"artists\": [\"Bessi...   \n",
       "...                                                  ...   \n",
       "53788  {\"name\": \"Sunblind\", \"artists\": [\"Fleet Foxes\"...   \n",
       "53789  {\"name\": \"NASTY GIRL / ON CAMERA\", \"artists\": ...   \n",
       "53790  {\"name\": \"Halloweenie III: Seven Days\", \"artis...   \n",
       "53791  {\"name\": \"AYA\", \"artists\": [\"MAMAMOO\"], \"valen...   \n",
       "53792  {\"name\": \"Darkness\", \"artists\": [\"Eminem\"], \"v...   \n",
       "\n",
       "                                               embedding  \n",
       "0      [-0.14313735, -0.22924717, -4.8405457, -0.9683...  \n",
       "1      [-0.69976574, 0.0118034305, -4.594035, -1.2274...  \n",
       "2      [-0.82054853, -0.86439043, -4.8381505, -1.1492...  \n",
       "3      [-0.18622221, -0.9087218, -4.7537165, -0.95859...  \n",
       "4      [-0.7889819, -0.25035557, -4.906985, -0.976880...  \n",
       "...                                                  ...  \n",
       "53788  [-0.69030887, -0.19668527, -4.8022137, -0.3032...  \n",
       "53789  [0.2002709, -0.8311799, -4.3318987, 1.2301844,...  \n",
       "53790  [-1.011036, 0.13105537, -4.697309, 0.13486801,...  \n",
       "53791  [-0.56497407, 0.15274733, -4.365804, 0.0788590...  \n",
       "53792  [-0.8320487, -0.4812035, -4.3426356, -0.323207...  \n",
       "\n",
       "[53793 rows x 22 columns]"
      ]
     },
     "execution_count": 34,
     "metadata": {},
     "output_type": "execute_result"
    }
   ],
   "source": [
    "filtered_df"
   ]
  },
  {
   "cell_type": "code",
   "execution_count": 35,
   "id": "80663516",
   "metadata": {},
   "outputs": [
    {
     "name": "stdout",
     "output_type": "stream",
     "text": [
      "DataFrame with embeddings saved to CSV.\n"
     ]
    }
   ],
   "source": [
    "filtered_df.to_csv('/Users/devyanigauri/Documents/GitHub/rhythmodoro/src/spotify_dataset_with_embeddings.csv', index=False)\n",
    "print(\"DataFrame with embeddings saved to CSV.\")"
   ]
  },
  {
   "cell_type": "code",
   "execution_count": 36,
   "id": "335814ff",
   "metadata": {},
   "outputs": [],
   "source": [
    "embedded_music_data = pd.read_csv('/Users/devyanigauri/Documents/GitHub/rhythmodoro/src/spotify_dataset_with_embeddings.csv')"
   ]
  },
  {
   "cell_type": "code",
   "execution_count": 51,
   "id": "f6835f05",
   "metadata": {},
   "outputs": [
    {
     "name": "stdout",
     "output_type": "stream",
     "text": [
      "After dropping duplicates, 53482 rows remain.\n"
     ]
    }
   ],
   "source": [
    "embedded_music_data = embedded_music_data.drop_duplicates(subset=['id'], inplace=False)\n",
    "print(f\"After dropping duplicates, {len(embedded_music_data)} rows remain.\")"
   ]
  },
  {
   "cell_type": "code",
   "execution_count": 52,
   "id": "12310fa5",
   "metadata": {},
   "outputs": [
    {
     "data": {
      "text/plain": [
       "53482"
      ]
     },
     "execution_count": 52,
     "metadata": {},
     "output_type": "execute_result"
    }
   ],
   "source": [
    "len(embedded_music_data)"
   ]
  },
  {
   "cell_type": "code",
   "execution_count": 53,
   "id": "fafcaf5e",
   "metadata": {},
   "outputs": [
    {
     "data": {
      "text/plain": [
       "[-0.143137351,\n",
       " -0.229247168,\n",
       " -4.84054565,\n",
       " -0.968335271,\n",
       " 0.524305642,\n",
       " 0.728669226,\n",
       " 0.871309638,\n",
       " -0.00974745117,\n",
       " -0.156411305,\n",
       " -0.443167061,\n",
       " -0.640500605,\n",
       " 1.41033804,\n",
       " 0.149887279,\n",
       " 1.41451502,\n",
       " 1.16565764,\n",
       " -1.39578736,\n",
       " -1.36437023,\n",
       " -2.05990171,\n",
       " 0.538945615,\n",
       " 0.581114948,\n",
       " -0.229293153,\n",
       " -1.79353511,\n",
       " -1.72583795,\n",
       " -0.670438826,\n",
       " 2.33432293,\n",
       " 0.383269131,\n",
       " 0.0277688112,\n",
       " -0.130079582,\n",
       " -0.0562638566,\n",
       " 0.408605903,\n",
       " 0.219170481,\n",
       " 0.418112129,\n",
       " -0.780590475,\n",
       " -0.506763816,\n",
       " -0.831357062,\n",
       " 0.0463779345,\n",
       " -0.216171831,\n",
       " 0.917917013,\n",
       " 0.396962315,\n",
       " 0.366175532,\n",
       " 1.21814239,\n",
       " 0.19726634,\n",
       " 0.0773748308,\n",
       " -0.208258241,\n",
       " -0.228960991,\n",
       " -1.34889233,\n",
       " 0.346865088,\n",
       " 0.740144312,\n",
       " -0.536022067,\n",
       " -0.788160741,\n",
       " 0.154958323,\n",
       " -0.995409131,\n",
       " -0.0028208266,\n",
       " -0.811453402,\n",
       " 1.61176145,\n",
       " 0.656850398,\n",
       " -0.0377004817,\n",
       " -0.343861073,\n",
       " -0.464827538,\n",
       " 0.426975578,\n",
       " 0.759593308,\n",
       " 0.507536829,\n",
       " 0.358966202,\n",
       " 1.20514977,\n",
       " 1.35536849,\n",
       " -1.13232756,\n",
       " -0.180443853,\n",
       " 1.55379629,\n",
       " 0.540129602,\n",
       " -0.317142427,\n",
       " 0.411378652,\n",
       " -0.467144847,\n",
       " -0.199142367,\n",
       " 0.330321044,\n",
       " -0.731380224,\n",
       " 0.0809217319,\n",
       " -1.04043174,\n",
       " -0.756102383,\n",
       " 0.733889878,\n",
       " 0.342146367,\n",
       " -0.159065783,\n",
       " -0.502605796,\n",
       " 1.66384304,\n",
       " 0.102253169,\n",
       " 0.972492754,\n",
       " 0.0123914881,\n",
       " -0.336839944,\n",
       " 0.340527594,\n",
       " -0.350488603,\n",
       " 1.030913,\n",
       " -0.476526678,\n",
       " 0.105729386,\n",
       " 0.100937925,\n",
       " 0.869235337,\n",
       " -0.320130736,\n",
       " 1.46331811,\n",
       " -0.307827681,\n",
       " 0.716493726,\n",
       " -0.0534362905,\n",
       " 0.0143848322,\n",
       " -0.995158792,\n",
       " -0.640255272,\n",
       " -0.38702336,\n",
       " -0.846426249,\n",
       " 0.192180872,\n",
       " 1.62445366,\n",
       " -0.467845857,\n",
       " -0.904901922,\n",
       " -0.496834248,\n",
       " -0.674552381,\n",
       " 0.336329788,\n",
       " -1.24909425,\n",
       " -0.316926688,\n",
       " -1.53054738,\n",
       " 0.422587097,\n",
       " -0.748582125,\n",
       " 1.25530434,\n",
       " -0.971120715,\n",
       " -0.357334524,\n",
       " -0.0859326348,\n",
       " 0.332374245,\n",
       " -1.68894267,\n",
       " -0.0363213383,\n",
       " 0.285825163,\n",
       " 0.573801219,\n",
       " 0.390541643,\n",
       " -0.127167001,\n",
       " 0.259526968,\n",
       " 0.0987231657,\n",
       " -0.405044228,\n",
       " -1.23879302,\n",
       " -0.56455636,\n",
       " 0.365573585,\n",
       " -0.319322139,\n",
       " 1.308882,\n",
       " 0.624934494,\n",
       " -1.01472163,\n",
       " -0.896197855,\n",
       " 0.458253264,\n",
       " -0.242875904,\n",
       " 0.415131062,\n",
       " -0.013634067,\n",
       " 0.225258872,\n",
       " -0.450408429,\n",
       " -0.516575277,\n",
       " -0.940197587,\n",
       " 1.3462832,\n",
       " -0.681756079,\n",
       " -0.551724136,\n",
       " 0.491388053,\n",
       " 1.00217199,\n",
       " -0.662961781,\n",
       " 0.805163205,\n",
       " 0.352627367,\n",
       " -0.256135523,\n",
       " -0.459162533,\n",
       " 0.104284659,\n",
       " 0.654932022,\n",
       " -0.969720662,\n",
       " 1.31341708,\n",
       " 0.413933635,\n",
       " 0.272533447,\n",
       " -0.546015024,\n",
       " 1.17057669,\n",
       " 0.0267409328,\n",
       " -1.34647882,\n",
       " 0.554742813,\n",
       " 1.0019778,\n",
       " 0.678238571,\n",
       " 1.94663322,\n",
       " -0.840071976,\n",
       " -1.12465417,\n",
       " -0.452016562,\n",
       " -0.834280908,\n",
       " -0.00637453096,\n",
       " -0.524695933,\n",
       " 0.825919449,\n",
       " -1.23808801,\n",
       " 0.731319785,\n",
       " -0.335937977,\n",
       " 0.157411009,\n",
       " -1.29955721,\n",
       " 0.343442351,\n",
       " -0.289265275,\n",
       " -0.58087796,\n",
       " -0.513879418,\n",
       " 0.18089287,\n",
       " -1.78053617,\n",
       " -0.954796374,\n",
       " -0.215897009,\n",
       " -0.355119079,\n",
       " 0.252611488,\n",
       " -1.03362346,\n",
       " -0.513967931,\n",
       " -0.887970328,\n",
       " -0.620764196,\n",
       " 0.958319664,\n",
       " 0.685643017,\n",
       " 0.389837712,\n",
       " -0.121213302,\n",
       " -0.664770305,\n",
       " -0.232612938,\n",
       " 0.880705118,\n",
       " 0.0959469154,\n",
       " -0.700514853,\n",
       " 1.76405001,\n",
       " 0.751525223,\n",
       " 1.04734349,\n",
       " -0.405635446,\n",
       " 0.125286967,\n",
       " 1.40091729,\n",
       " -0.937191069,\n",
       " -0.435254216,\n",
       " -0.187628686,\n",
       " 1.13139606,\n",
       " -1.0178597,\n",
       " 0.10944993,\n",
       " -0.830798566,\n",
       " -0.114011787,\n",
       " 0.559114337,\n",
       " -0.486890525,\n",
       " 0.116277248,\n",
       " -0.487831742,\n",
       " 0.651450455,\n",
       " 0.708333075,\n",
       " -0.140494883,\n",
       " 0.521272838,\n",
       " 0.959729731,\n",
       " -0.44089216,\n",
       " 0.0554078035,\n",
       " 0.0798880532,\n",
       " -0.921745956,\n",
       " 1.05281794,\n",
       " 0.592748582,\n",
       " -0.392640233,\n",
       " 0.356890053,\n",
       " 0.599963009,\n",
       " 0.574555159,\n",
       " 0.0869483501,\n",
       " 1.01789343,\n",
       " -0.133472309,\n",
       " 1.23687303,\n",
       " -0.0158092491,\n",
       " -0.977467477,\n",
       " -0.360398412,\n",
       " 0.221199378,\n",
       " -0.810256958,\n",
       " 0.19410035,\n",
       " 0.197655037,\n",
       " 0.692501187,\n",
       " -1.38448405,\n",
       " -0.167203978,\n",
       " 0.70537293,\n",
       " 0.554612339,\n",
       " 1.54769516,\n",
       " -0.770224392,\n",
       " -0.783348978,\n",
       " 0.812365592,\n",
       " 0.224258825,\n",
       " 0.150340632,\n",
       " 0.577465355,\n",
       " -0.274045855,\n",
       " 0.48196727,\n",
       " -0.559643924,\n",
       " -0.76835835,\n",
       " -0.977656305,\n",
       " -0.646423936,\n",
       " 0.0582904108,\n",
       " 0.479228586,\n",
       " -0.0217610542,\n",
       " 0.646149457,\n",
       " -0.476753682,\n",
       " 0.24492684,\n",
       " 1.02909827,\n",
       " -0.748717308,\n",
       " 0.58013612,\n",
       " 0.330511153,\n",
       " -0.326132089,\n",
       " -0.616417766,\n",
       " 0.594312787,\n",
       " -0.870033622,\n",
       " -0.217561394,\n",
       " -0.553561807,\n",
       " 0.380126625,\n",
       " -0.251283079,\n",
       " 1.51615179,\n",
       " 1.03615773,\n",
       " 0.443609238,\n",
       " 0.395641863,\n",
       " -0.156984195,\n",
       " 0.27581349,\n",
       " 0.313696533,\n",
       " -0.119892024,\n",
       " 0.876544714,\n",
       " 0.306403697,\n",
       " -0.0162591059,\n",
       " 1.73660421,\n",
       " -0.581326544,\n",
       " 0.681958973,\n",
       " -1.2053833,\n",
       " 0.338370949,\n",
       " 0.302895516,\n",
       " 0.788179278,\n",
       " 0.774881005,\n",
       " -1.03155088,\n",
       " 0.203549445,\n",
       " 0.400229663,\n",
       " 0.0222195424,\n",
       " 0.339189529,\n",
       " -0.505641818,\n",
       " -0.727755845,\n",
       " -0.393026799,\n",
       " -0.342446595,\n",
       " 0.150245145,\n",
       " -0.591832757,\n",
       " -0.0907131433,\n",
       " 1.5843873,\n",
       " 0.682216287,\n",
       " 0.864327252,\n",
       " 0.300947964,\n",
       " -0.0534305312,\n",
       " -0.63869822,\n",
       " -0.924272835,\n",
       " -0.35559082,\n",
       " 0.434328377,\n",
       " 1.0678308,\n",
       " 0.466888785,\n",
       " 1.79862428,\n",
       " -0.160895482,\n",
       " -0.0519901589,\n",
       " 0.522519767,\n",
       " -0.0114206756,\n",
       " 0.497110039,\n",
       " -1.10891604,\n",
       " -1.28955984,\n",
       " -0.0231690146,\n",
       " 0.496937066,\n",
       " 0.932696879,\n",
       " -0.548301458,\n",
       " 1.28658319,\n",
       " 1.28219831,\n",
       " 0.520915866,\n",
       " -0.191089734,\n",
       " -0.607009947,\n",
       " -0.688837171,\n",
       " -0.716508627,\n",
       " -1.0620892,\n",
       " -0.653097034,\n",
       " -0.740839541,\n",
       " 0.202514201,\n",
       " -0.318684459,\n",
       " 0.404868901,\n",
       " 0.0806432217,\n",
       " 0.463739127,\n",
       " 0.421942115,\n",
       " -0.665392995,\n",
       " 0.875348985,\n",
       " 0.229839772,\n",
       " -0.61183238,\n",
       " 0.206316561,\n",
       " 0.47055918,\n",
       " -0.389579326,\n",
       " -0.25796923,\n",
       " -0.78555119,\n",
       " 0.0377807356,\n",
       " -0.201957554,\n",
       " 1.51723254,\n",
       " 0.676163375,\n",
       " -0.314692765,\n",
       " -0.0736417845,\n",
       " -0.44554922,\n",
       " 0.488741189,\n",
       " 0.155926615,\n",
       " 0.179998547,\n",
       " 0.212807655,\n",
       " -0.528599203,\n",
       " -2.19958997,\n",
       " -1.01039684,\n",
       " -0.903420627,\n",
       " 1.12208509,\n",
       " -0.896461606,\n",
       " -1.32020772,\n",
       " -0.252006471,\n",
       " -0.450422078,\n",
       " 0.214527771,\n",
       " -0.600926459,\n",
       " -0.781920016,\n",
       " 0.288321793,\n",
       " -0.213556945,\n",
       " 0.139660165,\n",
       " -1.24510598,\n",
       " -0.711477995,\n",
       " -1.32983172,\n",
       " -0.482802987,\n",
       " 0.163117886,\n",
       " -1.40272164,\n",
       " 1.05855834,\n",
       " -0.187842473,\n",
       " -1.29832971,\n",
       " 1.18176639,\n",
       " -0.422205925,\n",
       " -0.851485491,\n",
       " 0.767277777,\n",
       " 0.358866781,\n",
       " 1.35995376,\n",
       " 1.39261985,\n",
       " -0.456499279,\n",
       " -0.0143495584,\n",
       " -0.170749664,\n",
       " -0.102762438,\n",
       " 0.0883481726,\n",
       " -0.390537292,\n",
       " -0.135698333,\n",
       " -0.995957017,\n",
       " -0.542509437,\n",
       " 1.16488874,\n",
       " 1.47647798,\n",
       " 0.181331381,\n",
       " -0.272267044,\n",
       " 0.867142916,\n",
       " 1.40680182,\n",
       " 0.773214877,\n",
       " -0.775926411,\n",
       " -0.567528784,\n",
       " 0.590497315,\n",
       " 0.286365688,\n",
       " 0.7617957,\n",
       " 0.551651359,\n",
       " -0.25475356,\n",
       " -1.1019572,\n",
       " 0.178263828,\n",
       " -0.189825863,\n",
       " 1.23942566,\n",
       " 0.213255852,\n",
       " 0.492715895,\n",
       " 1.03267288,\n",
       " 0.0633474067,\n",
       " 0.531513095,\n",
       " 0.782307446,\n",
       " 1.39705765,\n",
       " 0.835295379,\n",
       " -1.34480119,\n",
       " -0.67123276,\n",
       " 0.464154929,\n",
       " 1.4736557,\n",
       " 1.06463861,\n",
       " 1.13368094,\n",
       " -1.48701549,\n",
       " -0.040108528,\n",
       " 0.848922968,\n",
       " 0.29419294,\n",
       " 0.251145452,\n",
       " 0.484208196,\n",
       " -0.143959209,\n",
       " 2.22815251,\n",
       " -1.47527802,\n",
       " -0.198036954,\n",
       " 0.414356381,\n",
       " -0.097653836,\n",
       " 0.0590541475,\n",
       " 0.565311372,\n",
       " 0.729404986,\n",
       " -1.07395244,\n",
       " -0.681080222,\n",
       " 0.0831803381,\n",
       " 0.0853618756,\n",
       " -0.348133117,\n",
       " -0.514695346,\n",
       " -0.145297095,\n",
       " 1.69572937,\n",
       " -0.493205428,\n",
       " 0.285508215,\n",
       " 0.2987791,\n",
       " -0.0833558515,\n",
       " -0.954539716,\n",
       " -0.0662518665,\n",
       " -0.137329295,\n",
       " -0.623551309,\n",
       " 0.716074705,\n",
       " 0.761600077,\n",
       " 1.46907628,\n",
       " 0.529237866,\n",
       " -2.10195398,\n",
       " -0.270025939,\n",
       " -0.304137111,\n",
       " 1.16619062,\n",
       " -0.211618811,\n",
       " -0.0819986016,\n",
       " 0.0726756752,\n",
       " 0.400932521,\n",
       " 0.781176746,\n",
       " 0.657570302,\n",
       " 0.326610088,\n",
       " -0.465744585,\n",
       " 0.14017956,\n",
       " 0.0913039669,\n",
       " 0.333955258,\n",
       " 0.309799492,\n",
       " -0.740185678,\n",
       " -0.337040424,\n",
       " -0.390990764,\n",
       " 0.120542221,\n",
       " -0.0109713394,\n",
       " -0.587334037,\n",
       " 0.285082757,\n",
       " 0.0302602258,\n",
       " 0.488096625,\n",
       " -0.316740483,\n",
       " -0.63594687,\n",
       " 0.0171900317,\n",
       " -0.618084073,\n",
       " -0.151914582,\n",
       " 0.321989179,\n",
       " 0.815299094,\n",
       " 0.60144037,\n",
       " -0.906298637,\n",
       " 0.208451942,\n",
       " 0.51720655,\n",
       " -0.911372125,\n",
       " 0.431768417,\n",
       " 0.967517674,\n",
       " -0.876974642,\n",
       " 0.474003732,\n",
       " -0.38876611,\n",
       " -1.12910414,\n",
       " 0.861817539,\n",
       " 0.412937343,\n",
       " -0.852995276,\n",
       " 1.0899719,\n",
       " -0.19699268,\n",
       " -0.331804395,\n",
       " 0.0944059938,\n",
       " -0.47580114,\n",
       " -0.411523491,\n",
       " -0.344743729,\n",
       " -0.312025815,\n",
       " -0.706159949,\n",
       " 1.28809106,\n",
       " -0.800654471,\n",
       " 0.275263608,\n",
       " -0.586338937,\n",
       " -0.389020056,\n",
       " -0.658281684,\n",
       " -0.132127926,\n",
       " -0.0770610198,\n",
       " 0.251951545,\n",
       " -0.290113837,\n",
       " 0.360348016,\n",
       " -0.298988968,\n",
       " -1.58713078,\n",
       " 1.13780034,\n",
       " -2.12014413,\n",
       " 0.28303203,\n",
       " -1.0081563,\n",
       " -0.0217760559,\n",
       " -0.728733718,\n",
       " -1.125561,\n",
       " 0.487768054,\n",
       " -0.502443552,\n",
       " -0.320028871,\n",
       " -0.231948838,\n",
       " 0.0507992171,\n",
       " 0.981810927,\n",
       " 0.327407271,\n",
       " 1.26178503,\n",
       " -0.213664666,\n",
       " 0.0631438121,\n",
       " 0.289022952,\n",
       " 0.0146514196,\n",
       " 1.03351605,\n",
       " -0.325168103,\n",
       " -1.05887759,\n",
       " 0.0435273424,\n",
       " -1.02988672,\n",
       " -0.575833142,\n",
       " 0.217467993,\n",
       " 0.288452923,\n",
       " -0.0554210618,\n",
       " -1.31554377,\n",
       " -0.82880801,\n",
       " -0.286685556,\n",
       " -0.716940045,\n",
       " 0.693203866,\n",
       " 0.34655416,\n",
       " 0.0653606951,\n",
       " 0.00676768506,\n",
       " -0.236441761,\n",
       " -0.513036013,\n",
       " 0.717013419,\n",
       " -0.430561155,\n",
       " 0.368467003,\n",
       " -0.475905091,\n",
       " 0.398755819,\n",
       " -0.797718048,\n",
       " 0.691963017,\n",
       " -0.545184195,\n",
       " -0.522695243,\n",
       " -0.929774404,\n",
       " -0.160912201,\n",
       " -1.12673366,\n",
       " 1.51109695,\n",
       " 0.925468326,\n",
       " 1.10501122,\n",
       " -0.356224805,\n",
       " 0.15499419,\n",
       " 0.54311496,\n",
       " -0.207967088,\n",
       " 0.308506489,\n",
       " -0.777967334,\n",
       " -0.27501747,\n",
       " 0.557165504,\n",
       " 0.597755551,\n",
       " 1.56155086,\n",
       " -0.856899261,\n",
       " 0.0640887842,\n",
       " -0.554393113,\n",
       " 1.88575578,\n",
       " -0.342431158,\n",
       " 0.46564579,\n",
       " -0.0335430987,\n",
       " 0.388442606,\n",
       " -1.34556329,\n",
       " 1.80432069,\n",
       " 0.262885988,\n",
       " 0.750734568,\n",
       " -0.724131405,\n",
       " -1.0594548,\n",
       " -1.08290303,\n",
       " 0.0174763873,\n",
       " 1.51732099,\n",
       " -0.126770332,\n",
       " 0.110371858,\n",
       " -1.06777871,\n",
       " -0.17458345,\n",
       " -1.27170992,\n",
       " 0.742704749,\n",
       " 0.0912318975,\n",
       " 1.15247166,\n",
       " -0.164222911,\n",
       " 0.769560218,\n",
       " 0.176960602,\n",
       " 0.20275946,\n",
       " -0.259470761,\n",
       " 0.897684693,\n",
       " 1.04947114,\n",
       " -1.3921361,\n",
       " 0.545763969,\n",
       " 1.3982991,\n",
       " 2.21953988,\n",
       " -0.924579203,\n",
       " 1.14781141,\n",
       " 0.681621194,\n",
       " 0.559460998,\n",
       " 0.709724545,\n",
       " 0.0709352493,\n",
       " -0.265938818,\n",
       " 0.574665904,\n",
       " -0.385013074,\n",
       " -0.208022252,\n",
       " -0.143490121,\n",
       " 0.199897677,\n",
       " -0.234047204,\n",
       " -0.747820258,\n",
       " 0.203616351,\n",
       " 0.626612842,\n",
       " -0.813939214,\n",
       " -0.129543081,\n",
       " -0.203043938,\n",
       " 0.0411710106,\n",
       " 0.268886685,\n",
       " 1.32614517,\n",
       " -0.398529947,\n",
       " -0.0126194032,\n",
       " -0.148511603,\n",
       " 0.440653503,\n",
       " 1.04849231,\n",
       " 1.10905778,\n",
       " 0.350620717,\n",
       " -0.0652110204,\n",
       " 0.000187532103,\n",
       " 0.0266631804,\n",
       " -0.0100440048,\n",
       " -0.124623656,\n",
       " -0.866295636,\n",
       " 0.0760857537,\n",
       " -0.698523462,\n",
       " 0.256572127,\n",
       " -0.442828804,\n",
       " -0.511018395,\n",
       " -0.989071429,\n",
       " 0.135586441,\n",
       " -0.807528555,\n",
       " -0.248316005,\n",
       " -0.311537445,\n",
       " -0.00917815324,\n",
       " 0.128524929,\n",
       " 0.313451588,\n",
       " -0.818714142,\n",
       " -1.45353341,\n",
       " 1.56616354,\n",
       " -0.0156861581,\n",
       " 0.65573895,\n",
       " -0.153523505,\n",
       " 1.97241902,\n",
       " -1.1485064,\n",
       " 0.463652879,\n",
       " 0.733402371,\n",
       " -0.380402684,\n",
       " -0.666153967,\n",
       " -0.21334967,\n",
       " -0.164508581,\n",
       " 0.369322598,\n",
       " -0.676708341,\n",
       " 1.69560027,\n",
       " 0.893715441,\n",
       " 0.767301679,\n",
       " -0.146166995,\n",
       " -1.08057153,\n",
       " -0.639582217,\n",
       " 1.04932737,\n",
       " 1.53513312,\n",
       " -0.428632468,\n",
       " -1.21247911,\n",
       " -1.43528926,\n",
       " 0.623673499,\n",
       " -0.765899599,\n",
       " -0.183399424,\n",
       " -0.378674179,\n",
       " 0.595574081,\n",
       " -0.356642753,\n",
       " -0.878349185,\n",
       " -0.0344133265,\n",
       " -1.09766686,\n",
       " 0.133458897,\n",
       " -0.527618945,\n",
       " -0.49762252,\n",
       " -0.443574578,\n",
       " 0.898619056,\n",
       " -0.602976143,\n",
       " 0.0184493065,\n",
       " -0.86076355,\n",
       " 0.0491112694,\n",
       " 0.301005304,\n",
       " 0.698626399,\n",
       " -0.0193240903,\n",
       " -0.591480136,\n",
       " -0.389412344,\n",
       " 0.550049722,\n",
       " 0.19966644,\n",
       " -1.1600033,\n",
       " 0.356234998,\n",
       " 0.0154025871,\n",
       " -1.5266993,\n",
       " 0.736828804,\n",
       " -0.171734273,\n",
       " 1.27284825,\n",
       " 0.724012554,\n",
       " 0.187796161,\n",
       " 1.73862076,\n",
       " -0.465371788,\n",
       " 0.106632486,\n",
       " -1.78259063,\n",
       " 0.404410541,\n",
       " 0.633327901,\n",
       " -0.723224521,\n",
       " -0.770318627,\n",
       " -0.703277647,\n",
       " -0.448258609]"
      ]
     },
     "execution_count": 53,
     "metadata": {},
     "output_type": "execute_result"
    }
   ],
   "source": [
    "embedded_music_data[:1]['embedding'].values[0]"
   ]
  },
  {
   "cell_type": "code",
   "execution_count": 54,
   "id": "b08d1c61",
   "metadata": {},
   "outputs": [],
   "source": [
    "import numpy as np\n",
    "\n",
    "def np_str_to_list(emb):\n",
    "    if isinstance(emb, str):\n",
    "        # Remove brackets and split by whitespace\n",
    "        emb = emb.strip('[]')\n",
    "        # Split by whitespace and convert to float\n",
    "        return [float(x) for x in emb.split()]\n",
    "    return emb  # Already a list or array\n",
    "embedded_music_data['embedding'] = embedded_music_data['embedding'].apply(np_str_to_list)"
   ]
  },
  {
   "cell_type": "code",
   "execution_count": null,
   "id": "72ae47b0",
   "metadata": {},
   "outputs": [
    {
     "data": {
      "text/plain": [
       "['embedded_music_data']"
      ]
     },
     "execution_count": 46,
     "metadata": {},
     "output_type": "execute_result"
    }
   ],
   "source": [
    "# from pymilvus import list_collections\n",
    "# list_collections()"
   ]
  },
  {
   "cell_type": "code",
   "execution_count": 60,
   "id": "7d5e51cb",
   "metadata": {},
   "outputs": [
    {
     "name": "stdout",
     "output_type": "stream",
     "text": [
      "Dropping collection: embedded_music_data\n"
     ]
    }
   ],
   "source": [
    "from pymilvus import Collection, list_collections\n",
    "\n",
    "for name in list_collections():\n",
    "    print(f\"Dropping collection: {name}\")\n",
    "    Collection(name).drop()"
   ]
  },
  {
   "cell_type": "code",
   "execution_count": 61,
   "id": "bd33e652",
   "metadata": {},
   "outputs": [
    {
     "name": "stdout",
     "output_type": "stream",
     "text": [
      "Milvus collection 'embedded_music_data' created.\n"
     ]
    }
   ],
   "source": [
    "# Define metadata fields\n",
    "fields = [\n",
    "    FieldSchema(name=\"id\", dtype=DataType.VARCHAR, is_primary=True, auto_id=False, max_length=64),\n",
    "    FieldSchema(name=\"name\", dtype=DataType.VARCHAR, max_length=256),\n",
    "    FieldSchema(name=\"artists\", dtype=DataType.VARCHAR, max_length=1000),\n",
    "    FieldSchema(name=\"year\", dtype=DataType.INT64),\n",
    "    FieldSchema(name=\"release_date\", dtype=DataType.VARCHAR, max_length=32),\n",
    "    FieldSchema(name=\"explicit\", dtype=DataType.BOOL),\n",
    "    FieldSchema(name=\"popularity\", dtype=DataType.INT64),\n",
    "    FieldSchema(name=\"duration_ms\", dtype=DataType.INT64),\n",
    "    FieldSchema(name=\"key\", dtype=DataType.INT64),\n",
    "    FieldSchema(name=\"mode\", dtype=DataType.INT64),\n",
    "    FieldSchema(name=\"embedding_json\", dtype=DataType.VARCHAR, max_length=2048),\n",
    "    FieldSchema(\n",
    "        name=\"embedding\",\n",
    "        dtype=DataType.FLOAT_VECTOR,\n",
    "        dim=768 # assumes all embeddings have same length\n",
    "    ),\n",
    "]\n",
    "\n",
    "schema = CollectionSchema(fields, description=\"Music tracks with metadata and Nomic embeddings\")\n",
    "\n",
    "# Create the collection with 2 shards for better distribution\n",
    "collection = Collection(\n",
    "    name=\"embedded_music_data\",\n",
    "    schema=schema,\n",
    "    using=\"default\",\n",
    "    shards_num=2\n",
    ")\n",
    "\n",
    "print(\"Milvus collection 'embedded_music_data' created.\")"
   ]
  },
  {
   "cell_type": "code",
   "execution_count": 62,
   "id": "601301ee",
   "metadata": {},
   "outputs": [
    {
     "name": "stdout",
     "output_type": "stream",
     "text": [
      "Inserted rows 0 to 1000\n",
      "Inserted rows 1000 to 2000\n",
      "Inserted rows 2000 to 3000\n",
      "Inserted rows 3000 to 4000\n",
      "Inserted rows 4000 to 5000\n",
      "Inserted rows 5000 to 6000\n",
      "Inserted rows 6000 to 7000\n",
      "Inserted rows 7000 to 8000\n",
      "Inserted rows 4000 to 5000\n",
      "Inserted rows 5000 to 6000\n",
      "Inserted rows 6000 to 7000\n",
      "Inserted rows 7000 to 8000\n",
      "Inserted rows 8000 to 9000\n",
      "Inserted rows 9000 to 10000\n",
      "Inserted rows 10000 to 11000\n",
      "Inserted rows 11000 to 12000\n",
      "Inserted rows 8000 to 9000\n",
      "Inserted rows 9000 to 10000\n",
      "Inserted rows 10000 to 11000\n",
      "Inserted rows 11000 to 12000\n",
      "Inserted rows 12000 to 13000\n",
      "Inserted rows 13000 to 14000\n",
      "Inserted rows 14000 to 15000\n",
      "Inserted rows 12000 to 13000\n",
      "Inserted rows 13000 to 14000\n",
      "Inserted rows 14000 to 15000\n",
      "Inserted rows 15000 to 16000\n",
      "Inserted rows 16000 to 17000\n",
      "Inserted rows 17000 to 18000\n",
      "Inserted rows 15000 to 16000\n",
      "Inserted rows 16000 to 17000\n",
      "Inserted rows 17000 to 18000\n",
      "Inserted rows 18000 to 19000\n",
      "Inserted rows 19000 to 20000\n",
      "Inserted rows 20000 to 21000\n",
      "Inserted rows 18000 to 19000\n",
      "Inserted rows 19000 to 20000\n",
      "Inserted rows 20000 to 21000\n",
      "Inserted rows 21000 to 22000\n",
      "Inserted rows 22000 to 23000\n",
      "Inserted rows 23000 to 24000\n",
      "Inserted rows 24000 to 25000\n",
      "Inserted rows 21000 to 22000\n",
      "Inserted rows 22000 to 23000\n",
      "Inserted rows 23000 to 24000\n",
      "Inserted rows 24000 to 25000\n",
      "Inserted rows 25000 to 26000\n",
      "Inserted rows 26000 to 27000\n",
      "Inserted rows 27000 to 28000\n",
      "Inserted rows 28000 to 29000\n",
      "Inserted rows 25000 to 26000\n",
      "Inserted rows 26000 to 27000\n",
      "Inserted rows 27000 to 28000\n",
      "Inserted rows 28000 to 29000\n",
      "Inserted rows 29000 to 30000\n",
      "Inserted rows 30000 to 31000\n",
      "Inserted rows 31000 to 32000\n",
      "Inserted rows 32000 to 33000\n",
      "Inserted rows 33000 to 34000\n",
      "Inserted rows 29000 to 30000\n",
      "Inserted rows 30000 to 31000\n",
      "Inserted rows 31000 to 32000\n",
      "Inserted rows 32000 to 33000\n",
      "Inserted rows 33000 to 34000\n",
      "Inserted rows 34000 to 35000\n",
      "Inserted rows 35000 to 36000\n",
      "Inserted rows 36000 to 37000\n",
      "Inserted rows 34000 to 35000\n",
      "Inserted rows 35000 to 36000\n",
      "Inserted rows 36000 to 37000\n",
      "Inserted rows 37000 to 38000\n",
      "Inserted rows 38000 to 39000\n",
      "Inserted rows 39000 to 40000\n",
      "Inserted rows 40000 to 41000\n",
      "Inserted rows 37000 to 38000\n",
      "Inserted rows 38000 to 39000\n",
      "Inserted rows 39000 to 40000\n",
      "Inserted rows 40000 to 41000\n",
      "Inserted rows 41000 to 42000\n",
      "Inserted rows 42000 to 43000\n",
      "Inserted rows 43000 to 44000\n",
      "Inserted rows 41000 to 42000\n",
      "Inserted rows 42000 to 43000\n",
      "Inserted rows 43000 to 44000\n",
      "Inserted rows 44000 to 45000\n",
      "Inserted rows 45000 to 46000\n",
      "Inserted rows 46000 to 47000\n",
      "Inserted rows 44000 to 45000\n",
      "Inserted rows 45000 to 46000\n",
      "Inserted rows 46000 to 47000\n",
      "Inserted rows 47000 to 48000\n",
      "Inserted rows 48000 to 49000\n",
      "Inserted rows 49000 to 50000\n",
      "Inserted rows 50000 to 51000\n",
      "Inserted rows 47000 to 48000\n",
      "Inserted rows 48000 to 49000\n",
      "Inserted rows 49000 to 50000\n",
      "Inserted rows 50000 to 51000\n",
      "Inserted rows 51000 to 52000\n",
      "Inserted rows 52000 to 53000\n",
      "Inserted rows 53000 to 53482\n",
      "All data inserted into Milvus.\n",
      "Inserted rows 51000 to 52000\n",
      "Inserted rows 52000 to 53000\n",
      "Inserted rows 53000 to 53482\n",
      "All data inserted into Milvus.\n"
     ]
    }
   ],
   "source": [
    "# Load the collection\n",
    "collection = Collection(\"embedded_music_data\")\n",
    "\n",
    "# Prepare data for insertion\n",
    "batch_size = 1000\n",
    "num_rows = len(embedded_music_data)\n",
    "\n",
    "for start in range(0, num_rows, batch_size):\n",
    "    end = min(start + batch_size, num_rows)\n",
    "    batch = embedded_music_data.iloc[start:end]\n",
    "    # Prepare data in the order of your schema\n",
    "    data = [\n",
    "        batch[\"id\"].tolist(),\n",
    "        batch[\"name\"].tolist(),\n",
    "        batch[\"artists\"].tolist(),\n",
    "        batch[\"year\"].tolist(),\n",
    "        batch[\"release_date\"].tolist(),\n",
    "        batch[\"explicit\"].tolist(),\n",
    "        batch[\"popularity\"].tolist(),\n",
    "        batch[\"duration_ms\"].tolist(),\n",
    "        batch[\"key\"].tolist(),\n",
    "        batch[\"mode\"].tolist(),\n",
    "        batch[\"embedding_json\"].tolist(),\n",
    "        [emb for emb in batch[\"embedding\"]]\n",
    "    ]\n",
    "    collection.insert(data)\n",
    "    print(f\"Inserted rows {start} to {end}\")\n",
    "\n",
    "print(\"All data inserted into Milvus.\")"
   ]
  },
  {
   "cell_type": "code",
   "execution_count": 63,
   "id": "e45beb5b",
   "metadata": {},
   "outputs": [
    {
     "data": {
      "text/plain": [
       "Status(code=0, message=)"
      ]
     },
     "execution_count": 63,
     "metadata": {},
     "output_type": "execute_result"
    }
   ],
   "source": [
    "index_params = {\n",
    "    \"metric_type\": \"IP\",  # Use Inner Product (cosine similarity) for semantic/music embeddings\n",
    "    \"index_type\": \"HNSW\", # Number of bi-directional links per node (8 is a good balance of accuracy and memory for this dataset size)\n",
    "    \"params\": {\"M\": 8, \"efConstruction\": 64} # Controls index build accuracy/speed (64 for good recall and reasonable build time)\n",
    "}\n",
    "collection.create_index(field_name=\"embedding\", index_params=index_params)"
   ]
  },
  {
   "cell_type": "code",
   "execution_count": 64,
   "id": "8ec7636a",
   "metadata": {},
   "outputs": [],
   "source": [
    "connections.disconnect(alias=\"default\")"
   ]
  },
  {
   "cell_type": "code",
   "execution_count": null,
   "id": "4606fa5a",
   "metadata": {},
   "outputs": [],
   "source": []
  }
 ],
 "metadata": {
  "kernelspec": {
   "display_name": "rhythmodoro_env",
   "language": "python",
   "name": "python3"
  },
  "language_info": {
   "codemirror_mode": {
    "name": "ipython",
    "version": 3
   },
   "file_extension": ".py",
   "mimetype": "text/x-python",
   "name": "python",
   "nbconvert_exporter": "python",
   "pygments_lexer": "ipython3",
   "version": "3.13.3"
  }
 },
 "nbformat": 4,
 "nbformat_minor": 5
}
