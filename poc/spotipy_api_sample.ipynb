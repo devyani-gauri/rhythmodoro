{
 "cells": [
  {
   "cell_type": "code",
   "execution_count": null,
   "id": "3032c6fc",
   "metadata": {},
   "outputs": [],
   "source": [
    "import spotipy\n",
    "from spotipy.oauth2 import SpotifyOAuth\n",
    "import os"
   ]
  },
  {
   "cell_type": "code",
   "execution_count": null,
   "id": "aa38df70",
   "metadata": {},
   "outputs": [],
   "source": [
    "# # Load environment variables\n",
    "CLIENT_ID = os.getenv(\"SPOTIPY_CLIENT_ID\")\n",
    "CLIENT_SECRET = os.getenv(\"SPOTIPY_CLIENT_SECRET\")\n",
    "REDIRECT_URI = os.getenv(\"SPOTIPY_REDIRECT_URI\")"
   ]
  },
  {
   "cell_type": "code",
   "execution_count": null,
   "id": "33fc6d97",
   "metadata": {},
   "outputs": [],
   "source": [
    "# Define the required scopes\n",
    "SCOPE = 'playlist-modify-public playlist-modify-private user-read-playback-state user-modify-playback-state'\n",
    "\n",
    "sp = spotipy.Spotify(auth_manager=SpotifyOAuth(\n",
    "    client_id=CLIENT_ID,\n",
    "    client_secret=CLIENT_SECRET,\n",
    "    redirect_uri=REDIRECT_URI,\n",
    "    scope=SCOPE\n",
    "))\n",
    "\n",
    "# Example: Get current user info\n",
    "your_profile = sp.current_user()\n",
    "print(f\"Logged in as: {your_profile['display_name']}\")"
   ]
  },
  {
   "cell_type": "code",
   "execution_count": null,
   "id": "be919b0d",
   "metadata": {},
   "outputs": [],
   "source": [
    "# search spoitify API for a track\n",
    "results = sp.search(q=\"Shake it off\", type=\"track\", limit=1)\n",
    "# retrieve information about the track\n",
    "track = results[\"tracks\"][\"items\"][0] \n",
    "artist_id = track['artists'][0]['id']\n",
    "artist_info = sp.artist(artist_id)\n",
    "genres = artist_info['genres']\n",
    "audio_features = sp.audio_features([track['id']])[0]"
   ]
  }
 ],
 "metadata": {
  "language_info": {
   "name": "python"
  }
 },
 "nbformat": 4,
 "nbformat_minor": 5
}
